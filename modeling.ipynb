{
 "cells": [
  {
   "cell_type": "code",
   "execution_count": null,
   "metadata": {
    "colab": {
     "base_uri": "https://localhost:8080/"
    },
    "executionInfo": {
     "elapsed": 1259,
     "status": "ok",
     "timestamp": 1671058343869,
     "user": {
      "displayName": "Mert Karabacak",
      "userId": "14308977132914475412"
     },
     "user_tz": 300
    },
    "id": "RxtJ9G-aIZ_y",
    "outputId": "47aa3cb7-7250-42e8-cda4-baaa360fdad7"
   },
   "outputs": [],
   "source": [
    "from google.colab import drive\n",
    "drive.mount('/content/drive')"
   ]
  },
  {
   "cell_type": "code",
   "execution_count": null,
   "metadata": {
    "colab": {
     "base_uri": "https://localhost:8080/"
    },
    "executionInfo": {
     "elapsed": 10509,
     "status": "ok",
     "timestamp": 1671058354377,
     "user": {
      "displayName": "Mert Karabacak",
      "userId": "14308977132914475412"
     },
     "user_tz": 300
    },
    "id": "h_PnaQ4NIuE0",
    "outputId": "0fedfdc2-c680-42b6-ad2b-bfe17a53c86a"
   },
   "outputs": [],
   "source": [
    "!pip install catboost\n",
    "!pip install optuna\n",
    "!pip install shap"
   ]
  },
  {
   "cell_type": "code",
   "execution_count": null,
   "metadata": {
    "executionInfo": {
     "elapsed": 3624,
     "status": "ok",
     "timestamp": 1671058357999,
     "user": {
      "displayName": "Mert Karabacak",
      "userId": "14308977132914475412"
     },
     "user_tz": 300
    },
    "id": "JrZMQLTfIQPb"
   },
   "outputs": [],
   "source": [
    "import numpy as np\n",
    "import pandas as pd\n",
    "\n",
    "import sklearn\n",
    "import sklearn.metrics\n",
    "from sklearn.metrics import roc_auc_score, roc_curve, precision_recall_curve, auc, precision_score, recall_score, f1_score, classification_report, accuracy_score, confusion_matrix, ConfusionMatrixDisplay, matthews_corrcoef\n",
    "from sklearn.model_selection import train_test_split\n",
    "from sklearn.calibration import calibration_curve\n",
    "\n",
    "from scipy import stats as st\n",
    "from random import randrange\n",
    "from matplotlib import pyplot\n",
    "\n",
    "import xgboost as xgb\n",
    "import lightgbm as lgb\n",
    "import catboost as cb\n",
    "from sklearn.ensemble import RandomForestClassifier\n",
    "\n",
    "import optuna\n",
    "\n",
    "import shap"
   ]
  },
  {
   "cell_type": "code",
   "execution_count": null,
   "metadata": {
    "colab": {
     "base_uri": "https://localhost:8080/",
     "height": 334
    },
    "executionInfo": {
     "elapsed": 911,
     "status": "ok",
     "timestamp": 1671058358908,
     "user": {
      "displayName": "Mert Karabacak",
      "userId": "14308977132914475412"
     },
     "user_tz": 300
    },
    "id": "sDsi_6tnIQPc",
    "outputId": "e0849953-94f3-4432-d886-74b492271fb8"
   },
   "outputs": [],
   "source": [
    "#Open csv file.\n",
    "\n",
    "data = pd.read_csv(\"/content/drive/MyDrive/NSQIP-CLP/clp_final.csv\", index_col = 0)\n",
    "data.head()"
   ]
  },
  {
   "cell_type": "code",
   "execution_count": null,
   "metadata": {
    "colab": {
     "base_uri": "https://localhost:8080/"
    },
    "executionInfo": {
     "elapsed": 16,
     "status": "ok",
     "timestamp": 1671058358908,
     "user": {
      "displayName": "Mert Karabacak",
      "userId": "14308977132914475412"
     },
     "user_tz": 300
    },
    "id": "J7iZue3UIlWi",
    "outputId": "08ddd551-4130-4598-d74b-4aeade5b7368"
   },
   "outputs": [],
   "source": [
    "#See potential variables.\n",
    "\n",
    "print(list(data.columns))"
   ]
  },
  {
   "cell_type": "code",
   "execution_count": null,
   "metadata": {
    "executionInfo": {
     "elapsed": 11,
     "status": "ok",
     "timestamp": 1671058358909,
     "user": {
      "displayName": "Mert Karabacak",
      "userId": "14308977132914475412"
     },
     "user_tz": 300
    },
    "id": "Kc7gCo8nIQPd"
   },
   "outputs": [],
   "source": [
    "#Define predictor variables and outcome of interest.\n",
    "\n",
    "variables = ['AGE', 'HEIGHT', 'WEIGHT', 'PRSODM', 'PRBUN', 'PRCREAT', 'PRWBC', 'PRHCT', 'PRPLATE', 'BMI', 'SEX_male', 'INOUT_Outpatient', 'TRANST_Transferred', 'TRANST_Unknown', 'SURGSPEC_Orthopedics', 'DIABETES_Yes', 'SMOKE_Yes', 'DYSPNEA_Yes', 'FNSTATUS2_Partially Dependent', 'FNSTATUS2_Totally Dependent', 'FNSTATUS2_Unknown', 'HXCOPD_Yes', 'HXCHF_Yes', 'HYPERMED_Yes', 'DIALYSIS_Yes', 'DISCANCR_Yes', 'WNDINF_Yes', 'STEROID_Yes', 'WTLOSS_Yes', 'BLEEDDIS_Yes', 'TRANSFUS_Yes', 'ASACLAS_2-Mild Disturb', 'ASACLAS_3-Severe Disturb', 'RACE_Black or African American', 'RACE_Hispanic', 'RACE_Other', 'RACE_Unknown', 'RACE_White', 'LOS_Yes']"
   ]
  },
  {
   "cell_type": "code",
   "execution_count": null,
   "metadata": {
    "executionInfo": {
     "elapsed": 11,
     "status": "ok",
     "timestamp": 1671058358909,
     "user": {
      "displayName": "Mert Karabacak",
      "userId": "14308977132914475412"
     },
     "user_tz": 300
    },
    "id": "nOTs4SFqIQPd"
   },
   "outputs": [],
   "source": [
    "#Redefine data.\n",
    "\n",
    "data = data[variables]"
   ]
  },
  {
   "cell_type": "code",
   "execution_count": null,
   "metadata": {
    "executionInfo": {
     "elapsed": 10,
     "status": "ok",
     "timestamp": 1671058358909,
     "user": {
      "displayName": "Mert Karabacak",
      "userId": "14308977132914475412"
     },
     "user_tz": 300
    },
    "id": "LhZeK6d8IQPd"
   },
   "outputs": [],
   "source": [
    "#Define predictor variables (x) and outcome of interest (y).\n",
    "\n",
    "x = data.drop(['LOS_Yes'], axis = 1)\n",
    "y = data['LOS_Yes']"
   ]
  },
  {
   "cell_type": "code",
   "execution_count": null,
   "metadata": {
    "colab": {
     "base_uri": "https://localhost:8080/"
    },
    "executionInfo": {
     "elapsed": 11,
     "status": "ok",
     "timestamp": 1671058358910,
     "user": {
      "displayName": "Mert Karabacak",
      "userId": "14308977132914475412"
     },
     "user_tz": 300
    },
    "id": "mt6ks1daIQPd",
    "outputId": "3a128f24-4bfc-458e-8721-87a82fdf885a"
   },
   "outputs": [],
   "source": [
    "#Check data shapes.\n",
    "\n",
    "print(y.shape)\n",
    "print(x.shape)"
   ]
  },
  {
   "cell_type": "code",
   "execution_count": null,
   "metadata": {
    "colab": {
     "base_uri": "https://localhost:8080/"
    },
    "executionInfo": {
     "elapsed": 12,
     "status": "ok",
     "timestamp": 1671058358913,
     "user": {
      "displayName": "Mert Karabacak",
      "userId": "14308977132914475412"
     },
     "user_tz": 300
    },
    "id": "d0IwUyCsIQPe",
    "outputId": "69cc2371-8b2b-4fb1-f8a4-e8730f9f9f93"
   },
   "outputs": [],
   "source": [
    "#Split data into initial train set and test set in 80:20 ratio.\n",
    "\n",
    "x_train, x_test, y_train, y_test = train_test_split(x, y, test_size = 0.2, random_state = 0)\n",
    "  \n",
    "#Describe initial train set and test set.\n",
    "\n",
    "print(\"Number patients x_train dataset: \", x_train.shape)\n",
    "print(\"Number patients y_train dataset: \", y_train.shape)\n",
    "print(\"Number patients x_test dataset: \", x_test.shape)\n",
    "print(\"Number patients y_test dataset: \", y_test.shape)"
   ]
  },
  {
   "cell_type": "code",
   "execution_count": null,
   "metadata": {
    "colab": {
     "base_uri": "https://localhost:8080/"
    },
    "executionInfo": {
     "elapsed": 12,
     "status": "ok",
     "timestamp": 1671058358914,
     "user": {
      "displayName": "Mert Karabacak",
      "userId": "14308977132914475412"
     },
     "user_tz": 300
    },
    "id": "WyNo7C2Pbzt2",
    "outputId": "68d3924d-ca78-48f1-e6f5-3a1a652a4cc4"
   },
   "outputs": [],
   "source": [
    "#Split initial train set into final train set and validation set in 75:25 ratio.\n",
    "\n",
    "train_x, valid_x, train_y, valid_y = train_test_split(x_train, y_train, test_size = 0.25, random_state = 0)\n",
    "  \n",
    "#Describe train and validation sets.\n",
    "\n",
    "print(\"Number patients train_x dataset: \", train_x.shape)\n",
    "print(\"Number patients train_y dataset: \", train_y.shape)\n",
    "print(\"Number patients valid_x dataset: \", valid_x.shape)\n",
    "print(\"Number patients valid_y dataset: \", valid_y.shape)"
   ]
  },
  {
   "cell_type": "code",
   "execution_count": null,
   "metadata": {
    "colab": {
     "base_uri": "https://localhost:8080/"
    },
    "executionInfo": {
     "elapsed": 11,
     "status": "ok",
     "timestamp": 1671058358914,
     "user": {
      "displayName": "Mert Karabacak",
      "userId": "14308977132914475412"
     },
     "user_tz": 300
    },
    "id": "g2O0He35IQPe",
    "outputId": "dd21d4f6-af68-4df9-e50d-ac26f897ea83"
   },
   "outputs": [],
   "source": [
    "#Describe outcome of interest before resampling.\n",
    "\n",
    "print(\"Before resampling, counts of label '1': {}\".format(sum(train_y == 1)))\n",
    "print(\"Before resampling, counts of label '0': {} \\n\".format(sum(train_y == 0)))"
   ]
  },
  {
   "cell_type": "code",
   "execution_count": null,
   "metadata": {
    "executionInfo": {
     "elapsed": 356,
     "status": "ok",
     "timestamp": 1671058359260,
     "user": {
      "displayName": "Mert Karabacak",
      "userId": "14308977132914475412"
     },
     "user_tz": 300
    },
    "id": "QvXczViaIQPe"
   },
   "outputs": [],
   "source": [
    "#Apply SMOTE.\n",
    "\n",
    "from imblearn.over_sampling import SMOTE\n",
    "\n",
    "resampler = SMOTE()\n",
    "train_x, train_y = resampler.fit_resample(train_x, train_y)"
   ]
  },
  {
   "cell_type": "code",
   "execution_count": null,
   "metadata": {
    "colab": {
     "base_uri": "https://localhost:8080/"
    },
    "executionInfo": {
     "elapsed": 5,
     "status": "ok",
     "timestamp": 1671058359260,
     "user": {
      "displayName": "Mert Karabacak",
      "userId": "14308977132914475412"
     },
     "user_tz": 300
    },
    "id": "mYw68tzFIQPe",
    "outputId": "ca39ceb6-83e1-4dcb-baa4-d8b8c9d891a1"
   },
   "outputs": [],
   "source": [
    "#Describe outcome of interest after resampling.\n",
    "\n",
    "print(\"After resampling, counts of label '1': {}\".format(sum(train_y == 1)))\n",
    "print(\"After resampling, counts of label '0': {} \\n\".format(sum(train_y == 0)))"
   ]
  },
  {
   "cell_type": "markdown",
   "metadata": {
    "id": "esuV5nR8IQPe"
   },
   "source": [
    "# XGBoost"
   ]
  },
  {
   "cell_type": "code",
   "execution_count": null,
   "metadata": {
    "colab": {
     "base_uri": "https://localhost:8080/"
    },
    "executionInfo": {
     "elapsed": 278144,
     "status": "ok",
     "timestamp": 1671058637400,
     "user": {
      "displayName": "Mert Karabacak",
      "userId": "14308977132914475412"
     },
     "user_tz": 300
    },
    "id": "dBWNs_MxIQPf",
    "outputId": "068e8ffc-4849-4115-d7cf-895b629e779f"
   },
   "outputs": [],
   "source": [
    "#Hyperparameter tuning for XGBoost.\n",
    "\n",
    "def objective(trial):\n",
    "\n",
    "    dtrain = xgb.DMatrix(train_x, label=train_y)\n",
    "    dvalid = xgb.DMatrix(valid_x, label=valid_y)\n",
    "\n",
    "    param = {\n",
    "        \"verbosity\": 0,\n",
    "        \"objective\":  trial.suggest_categorical(\"objective\", [\"binary:logistic\"]),\n",
    "        \"eval_metric\": \"auc\",\n",
    "        \"booster\": trial.suggest_categorical(\"booster\", [\"gbtree\"]),\n",
    "        \"lambda\": trial.suggest_float(\"lambda\", 1e-8, 1.0, log=True),\n",
    "        \"alpha\": trial.suggest_float(\"alpha\", 1e-8, 1.0, log=True),\n",
    "        \"max_depth\" : trial.suggest_int(\"max_depth\", 1, 9),\n",
    "        \"eta\" : trial.suggest_float(\"eta\", 1e-8, 1.0, log=True),\n",
    "        \"gamma\" : trial.suggest_float(\"gamma\", 1e-8, 1.0, log=True),\n",
    "        \"grow_policy\" : trial.suggest_categorical(\"grow_policy\", [\"depthwise\", \"lossguide\"])\n",
    "    }\n",
    "\n",
    "\n",
    "    # Add a callback for pruning.\n",
    "    pruning_callback = optuna.integration.XGBoostPruningCallback(trial, \"validation-auc\")\n",
    "    \n",
    "    bst = xgb.train(param, dtrain, evals=[(dvalid, \"validation\")], callbacks=[pruning_callback])\n",
    "    preds = bst.predict(dvalid)\n",
    "    pred_labels = np.rint(preds)\n",
    "    auc = sklearn.metrics.roc_auc_score(valid_y, pred_labels)\n",
    "\n",
    "    return auc\n",
    "\n",
    "\n",
    "if __name__ == \"__main__\":\n",
    "    study = optuna.create_study(\n",
    "        pruner=optuna.pruners.MedianPruner(n_warmup_steps=5), direction=\"maximize\"\n",
    "    )\n",
    "    study.optimize(objective, n_trials=1000)\n",
    "    print(\"Number of finished trials: {}\".format(len(study.trials)))\n",
    "\n",
    "    print(\"Best trial:\")\n",
    "    trial = study.best_trial\n",
    "\n",
    "    print(\"  Value: {}\".format(trial.value))\n",
    "\n",
    "    print(\"  Params: \")\n",
    "    for key, value in trial.params.items():\n",
    "        print(\"    {}: {}\".format(key, value))\n",
    "        \n",
    "    xgb_params = {}\n",
    "    \n",
    "    for key, value in trial.params.items():\n",
    "        xgb_params[key] = value"
   ]
  },
  {
   "cell_type": "code",
   "execution_count": null,
   "metadata": {
    "colab": {
     "base_uri": "https://localhost:8080/"
    },
    "executionInfo": {
     "elapsed": 48,
     "status": "ok",
     "timestamp": 1671058637401,
     "user": {
      "displayName": "Mert Karabacak",
      "userId": "14308977132914475412"
     },
     "user_tz": 300
    },
    "id": "algcmJCqkAya",
    "outputId": "3be20eb1-714c-4405-cee2-9665b4f4ba56"
   },
   "outputs": [],
   "source": [
    "print(xgb_params)"
   ]
  },
  {
   "cell_type": "code",
   "execution_count": null,
   "metadata": {
    "colab": {
     "base_uri": "https://localhost:8080/"
    },
    "executionInfo": {
     "elapsed": 686,
     "status": "ok",
     "timestamp": 1671058638075,
     "user": {
      "displayName": "Mert Karabacak",
      "userId": "14308977132914475412"
     },
     "user_tz": 300
    },
    "id": "uZk8hbTUIQPg",
    "outputId": "495f52e7-dad9-479e-c397-9460d4e08c1c"
   },
   "outputs": [],
   "source": [
    "#Fit XGBoost.\n",
    "\n",
    "from xgboost import XGBClassifier\n",
    "\n",
    "xgb = XGBClassifier(**xgb_params)\n",
    "\n",
    "xgb.fit(train_x, train_y)"
   ]
  },
  {
   "cell_type": "code",
   "execution_count": null,
   "metadata": {
    "executionInfo": {
     "elapsed": 9,
     "status": "ok",
     "timestamp": 1671058638075,
     "user": {
      "displayName": "Mert Karabacak",
      "userId": "14308977132914475412"
     },
     "user_tz": 300
    },
    "id": "rUf-OtCoIQPg"
   },
   "outputs": [],
   "source": [
    "#Make predictions on the test set based on the trained XGBoost model.\n",
    "\n",
    "preds_xgb = xgb.predict(x_test)\n",
    "\n",
    "probs_xgb = xgb.predict_proba(x_test)\n",
    "probs_xgb = probs_xgb[:, 1]"
   ]
  },
  {
   "cell_type": "code",
   "execution_count": null,
   "metadata": {
    "colab": {
     "base_uri": "https://localhost:8080/"
    },
    "executionInfo": {
     "elapsed": 9,
     "status": "ok",
     "timestamp": 1671058638076,
     "user": {
      "displayName": "Mert Karabacak",
      "userId": "14308977132914475412"
     },
     "user_tz": 300
    },
    "id": "5m3AkfQJIQPg",
    "outputId": "468dc3d8-4c3e-45ce-c17e-87df92f1b15f"
   },
   "outputs": [],
   "source": [
    "#Evaluate XGBoost model.\n",
    "\n",
    "xgb_precision = precision_score(preds_xgb,y_test)\n",
    "xgb_recall = recall_score(preds_xgb,y_test)\n",
    "xgb_f1 = f1_score(preds_xgb,y_test)\n",
    "xgb_acc = accuracy_score(preds_xgb,y_test)   \n",
    "xgb_mcc = matthews_corrcoef(y_test, preds_xgb)\n",
    "xgb_auroc = roc_auc_score(y_test, probs_xgb)\n",
    "\n",
    "print(\"Precision: %.3f\" % (xgb_precision))\n",
    "print(\"Recall: %.3f\" % (xgb_recall))\n",
    "print(\"F1 Score: %.3f\" %(xgb_f1))\n",
    "print('Accuracy: %.3f' % (xgb_acc))\n",
    "print('MCC: %.3f' % (xgb_mcc))\n",
    "print('AUROC: %.3f' % (xgb_auroc))"
   ]
  },
  {
   "cell_type": "code",
   "execution_count": null,
   "metadata": {
    "colab": {
     "base_uri": "https://localhost:8080/"
    },
    "executionInfo": {
     "elapsed": 9,
     "status": "ok",
     "timestamp": 1671058638076,
     "user": {
      "displayName": "Mert Karabacak",
      "userId": "14308977132914475412"
     },
     "user_tz": 300
    },
    "id": "IsiZO5-tIQPg",
    "outputId": "2815f9ba-cca2-451f-fecc-c385bf577064"
   },
   "outputs": [],
   "source": [
    "#Evaluate XGBoost model (PRC and AUPRC).\n",
    "\n",
    "xgb_precision, xgb_recall, _ = precision_recall_curve(y_test, probs_xgb)\n",
    "xgb_auprc = auc(xgb_recall, xgb_precision)\n",
    "\n",
    "print('AUPRC: %.3f' % (xgb_auprc))"
   ]
  },
  {
   "cell_type": "code",
   "execution_count": null,
   "metadata": {
    "executionInfo": {
     "elapsed": 6,
     "status": "ok",
     "timestamp": 1671058638076,
     "user": {
      "displayName": "Mert Karabacak",
      "userId": "14308977132914475412"
     },
     "user_tz": 300
    },
    "id": "Y5nG9JidIQPg"
   },
   "outputs": [],
   "source": [
    "#Recalculate precision and recall for calculation purposes.\n",
    "\n",
    "xgb_precision = precision_score(preds_xgb,y_test)\n",
    "xgb_recall = recall_score(preds_xgb,y_test)\n",
    "\n",
    "xgb_results = [xgb_precision, xgb_recall, xgb_f1, xgb_acc, xgb_mcc, xgb_auroc, xgb_auprc]"
   ]
  },
  {
   "cell_type": "code",
   "execution_count": null,
   "metadata": {
    "executionInfo": {
     "elapsed": 7,
     "status": "ok",
     "timestamp": 1671058638077,
     "user": {
      "displayName": "Mert Karabacak",
      "userId": "14308977132914475412"
     },
     "user_tz": 300
    },
    "id": "Ch-wpxcQIQPg"
   },
   "outputs": [],
   "source": [
    "#Recalculate precision recall curve for plotting purposes.\n",
    "\n",
    "xgb_precision, xgb_recall, _ = precision_recall_curve(y_test, probs_xgb)"
   ]
  },
  {
   "cell_type": "markdown",
   "metadata": {
    "id": "9VszU3k5IQPh"
   },
   "source": [
    "# LightGBM"
   ]
  },
  {
   "cell_type": "code",
   "execution_count": null,
   "metadata": {
    "colab": {
     "base_uri": "https://localhost:8080/"
    },
    "executionInfo": {
     "elapsed": 332917,
     "status": "ok",
     "timestamp": 1671058970987,
     "user": {
      "displayName": "Mert Karabacak",
      "userId": "14308977132914475412"
     },
     "user_tz": 300
    },
    "id": "oR81p9HpIQPh",
    "outputId": "2554a7b8-eeee-4832-8456-d694e7d26b82"
   },
   "outputs": [],
   "source": [
    "#Hyperparameter tuning for LightGBM.\n",
    "\n",
    "def objective(trial):\n",
    "    dtrain = lgb.Dataset(train_x, label=train_y)\n",
    "\n",
    "    param = {\n",
    "        \"objective\":  trial.suggest_categorical(\"objective\", [\"binary\"]),\n",
    "        \"metric\": \"binary_logloss\",\n",
    "        \"verbosity\": -1,\n",
    "        \"boosting_type\":  trial.suggest_categorical(\"boosting_type\", [\"gbdt\"]),\n",
    "        \"lambda_l1\": trial.suggest_float(\"lambda_l1\", 1e-8, 10.0, log=True),\n",
    "        \"lambda_l2\": trial.suggest_float(\"lambda_l2\", 1e-8, 10.0, log=True),\n",
    "        \"num_leaves\": trial.suggest_int(\"num_leaves\", 2, 256),\n",
    "        \"feature_fraction\": trial.suggest_float(\"feature_fraction\", 0.4, 1.0),\n",
    "        \"bagging_fraction\": trial.suggest_float(\"bagging_fraction\", 0.4, 1.0),\n",
    "        \"bagging_freq\": trial.suggest_int(\"bagging_freq\", 1, 7),\n",
    "        \"min_child_samples\": trial.suggest_int(\"min_child_samples\", 5, 100),\n",
    "    }\n",
    "\n",
    "    gbm = lgb.train(param, dtrain)\n",
    "    preds = gbm.predict(valid_x)\n",
    "    pred_labels = np.rint(preds)\n",
    "    auc = sklearn.metrics.roc_auc_score(valid_y, pred_labels)\n",
    "    return auc\n",
    "\n",
    "\n",
    "if __name__ == \"__main__\":\n",
    "    study = optuna.create_study(direction=\"maximize\")\n",
    "    study.optimize(objective, n_trials=1000)\n",
    "\n",
    "    print(\"Number of finished trials: {}\".format(len(study.trials)))\n",
    "\n",
    "    print(\"Best trial:\")\n",
    "    trial = study.best_trial\n",
    "\n",
    "    print(\"  Value: {}\".format(trial.value))\n",
    "\n",
    "    print(\"  Params: \")\n",
    "    for key, value in trial.params.items():\n",
    "        print(\"    {}: {}\".format(key, value))\n",
    "        \n",
    "    lgb_params = {}\n",
    "    \n",
    "    for key, value in trial.params.items():\n",
    "        lgb_params[key] = value"
   ]
  },
  {
   "cell_type": "code",
   "execution_count": null,
   "metadata": {
    "colab": {
     "base_uri": "https://localhost:8080/"
    },
    "executionInfo": {
     "elapsed": 20,
     "status": "ok",
     "timestamp": 1671058970988,
     "user": {
      "displayName": "Mert Karabacak",
      "userId": "14308977132914475412"
     },
     "user_tz": 300
    },
    "id": "h7P7Mw7UkC-y",
    "outputId": "152d151f-191c-4e84-e867-14148666d905"
   },
   "outputs": [],
   "source": [
    "print(lgb_params)"
   ]
  },
  {
   "cell_type": "code",
   "execution_count": null,
   "metadata": {
    "colab": {
     "base_uri": "https://localhost:8080/"
    },
    "executionInfo": {
     "elapsed": 415,
     "status": "ok",
     "timestamp": 1671058971391,
     "user": {
      "displayName": "Mert Karabacak",
      "userId": "14308977132914475412"
     },
     "user_tz": 300
    },
    "id": "UAidUSs1IQPh",
    "outputId": "9037bf33-530a-443b-af9d-cf528f907779"
   },
   "outputs": [],
   "source": [
    "#Fit LightGBM.\n",
    "\n",
    "import lightgbm as lgb\n",
    "\n",
    "lgb = lgb.LGBMClassifier(**lgb_params)\n",
    "\n",
    "lgb.fit(train_x, train_y)"
   ]
  },
  {
   "cell_type": "code",
   "execution_count": null,
   "metadata": {
    "executionInfo": {
     "elapsed": 8,
     "status": "ok",
     "timestamp": 1671058971391,
     "user": {
      "displayName": "Mert Karabacak",
      "userId": "14308977132914475412"
     },
     "user_tz": 300
    },
    "id": "JlKe1z0RIQPh"
   },
   "outputs": [],
   "source": [
    "#Make predictions on the test set based on the trained model.\n",
    "\n",
    "preds_lgb = lgb.predict(x_test)\n",
    "\n",
    "probs_lgb = lgb.predict_proba(x_test)\n",
    "probs_lgb = probs_lgb[:, 1]"
   ]
  },
  {
   "cell_type": "code",
   "execution_count": null,
   "metadata": {
    "colab": {
     "base_uri": "https://localhost:8080/"
    },
    "executionInfo": {
     "elapsed": 8,
     "status": "ok",
     "timestamp": 1671058971391,
     "user": {
      "displayName": "Mert Karabacak",
      "userId": "14308977132914475412"
     },
     "user_tz": 300
    },
    "id": "r259oDdIIQPi",
    "outputId": "662959fa-6c5e-4dd2-be3a-a4c140384646"
   },
   "outputs": [],
   "source": [
    "#Evaluate LightGBM model.\n",
    "\n",
    "lgb_precision = precision_score(preds_lgb,y_test)\n",
    "lgb_recall = recall_score(preds_lgb,y_test)\n",
    "lgb_f1 = f1_score(preds_lgb,y_test)\n",
    "lgb_acc = accuracy_score(preds_lgb,y_test)   \n",
    "lgb_mcc = matthews_corrcoef(y_test, preds_lgb)\n",
    "lgb_auroc = roc_auc_score(y_test, probs_lgb)\n",
    "                          \n",
    "print(\"Precision: %.3f\" % (lgb_precision))\n",
    "print(\"Recall: %.3f\" % (lgb_recall))\n",
    "print(\"F1 Score: %.3f\" %(lgb_f1))\n",
    "print('Accuracy: %.3f' % (lgb_acc))\n",
    "print('MCC: %.3f' % (lgb_mcc))\n",
    "print('AUROC: %.3f' % (lgb_auroc))"
   ]
  },
  {
   "cell_type": "code",
   "execution_count": null,
   "metadata": {
    "colab": {
     "base_uri": "https://localhost:8080/"
    },
    "executionInfo": {
     "elapsed": 6,
     "status": "ok",
     "timestamp": 1671058971392,
     "user": {
      "displayName": "Mert Karabacak",
      "userId": "14308977132914475412"
     },
     "user_tz": 300
    },
    "id": "BoDYFWcLIQPi",
    "outputId": "6901dd95-d2fa-4536-986d-9c180ecc20c0"
   },
   "outputs": [],
   "source": [
    "#Evaluate LightGBM model (PRC and AUPRC).\n",
    "\n",
    "lgb_precision, lgb_recall, _ = precision_recall_curve(y_test, probs_lgb)\n",
    "lgb_auprc = auc(lgb_recall, lgb_precision)\n",
    "\n",
    "print('AUPRC: %.3f' % (lgb_auprc))"
   ]
  },
  {
   "cell_type": "code",
   "execution_count": null,
   "metadata": {
    "executionInfo": {
     "elapsed": 4,
     "status": "ok",
     "timestamp": 1671058971392,
     "user": {
      "displayName": "Mert Karabacak",
      "userId": "14308977132914475412"
     },
     "user_tz": 300
    },
    "id": "JSgkOZ5UIQPi"
   },
   "outputs": [],
   "source": [
    "#Recalculate precision and recall for calculation purposes.\n",
    "\n",
    "lgb_precision = precision_score(preds_lgb,y_test)\n",
    "lgb_recall = recall_score(preds_lgb,y_test)\n",
    "\n",
    "lgb_results = [lgb_precision, lgb_recall, lgb_f1, lgb_acc, lgb_mcc, lgb_auroc, lgb_auprc]"
   ]
  },
  {
   "cell_type": "code",
   "execution_count": null,
   "metadata": {
    "executionInfo": {
     "elapsed": 4,
     "status": "ok",
     "timestamp": 1671058971392,
     "user": {
      "displayName": "Mert Karabacak",
      "userId": "14308977132914475412"
     },
     "user_tz": 300
    },
    "id": "PXzXI9O-IQPi"
   },
   "outputs": [],
   "source": [
    "#Recalculate precision recall curve for plotting purposes.\n",
    "\n",
    "lgb_precision, lgb_recall, _ = precision_recall_curve(y_test, probs_lgb)"
   ]
  },
  {
   "cell_type": "markdown",
   "metadata": {
    "id": "pypALF20IQPi"
   },
   "source": [
    "# CatBoost"
   ]
  },
  {
   "cell_type": "code",
   "execution_count": null,
   "metadata": {
    "colab": {
     "base_uri": "https://localhost:8080/"
    },
    "executionInfo": {
     "elapsed": 204610,
     "status": "ok",
     "timestamp": 1671059175998,
     "user": {
      "displayName": "Mert Karabacak",
      "userId": "14308977132914475412"
     },
     "user_tz": 300
    },
    "id": "qX254OCwIQPj",
    "outputId": "67366df3-0583-4591-c5da-b9d66d2dc367"
   },
   "outputs": [],
   "source": [
    "#Hyperparameter tuning for CatBoost.\n",
    "\n",
    "from optuna.integration import CatBoostPruningCallback\n",
    "\n",
    "def objective(trial: optuna.Trial) -> float:\n",
    "\n",
    "    param = {\n",
    "        \"objective\": trial.suggest_categorical(\"objective\", [\"Logloss\", \"CrossEntropy\"]),\n",
    "        \"colsample_bylevel\": trial.suggest_float(\"colsample_bylevel\", 0.01, 0.1, log=True),\n",
    "        \"depth\": trial.suggest_int(\"depth\", 1, 12),\n",
    "        \"boosting_type\": trial.suggest_categorical(\"boosting_type\", [\"Ordered\", \"Plain\"]),\n",
    "        \"bootstrap_type\": trial.suggest_categorical(\n",
    "            \"bootstrap_type\", [\"Bayesian\", \"Bernoulli\", \"MVS\"]\n",
    "        ),\n",
    "        \"used_ram_limit\": \"3gb\",\n",
    "        \"eval_metric\": \"AUC\",\n",
    "    }\n",
    "\n",
    "    if param[\"bootstrap_type\"] == \"Bayesian\":\n",
    "        param[\"bagging_temperature\"] = trial.suggest_float(\"bagging_temperature\", 0, 10)\n",
    "    elif param[\"bootstrap_type\"] == \"Bernoulli\":\n",
    "        param[\"subsample\"] = trial.suggest_float(\"subsample\", 0.1, 1, log=True)\n",
    "\n",
    "    gbm = cb.CatBoostClassifier(**param)\n",
    "\n",
    "    pruning_callback = CatBoostPruningCallback(trial, \"AUC\")\n",
    "    gbm.fit(\n",
    "        train_x,\n",
    "        train_y,\n",
    "        eval_set=[(valid_x, valid_y)],\n",
    "        verbose=0,\n",
    "        early_stopping_rounds=100,\n",
    "        callbacks=[pruning_callback],\n",
    "    )\n",
    "\n",
    "    # evoke pruning manually.\n",
    "    pruning_callback.check_pruned()\n",
    "\n",
    "    preds = gbm.predict(valid_x)\n",
    "    pred_labels = np.rint(preds)\n",
    "    auc = sklearn.metrics.roc_auc_score(valid_y, pred_labels)\n",
    "\n",
    "    return auc\n",
    "\n",
    "if __name__ == \"__main__\":\n",
    "    study = optuna.create_study(\n",
    "        pruner=optuna.pruners.MedianPruner(n_warmup_steps=5), direction=\"maximize\"\n",
    "    )\n",
    "    study.optimize(objective, n_trials=1000, timeout=600)\n",
    "\n",
    "    print(\"Number of finished trials: {}\".format(len(study.trials)))\n",
    "\n",
    "    print(\"Best trial:\")\n",
    "    trial = study.best_trial\n",
    "\n",
    "    print(\"  Value: {}\".format(trial.value))\n",
    "\n",
    "    print(\"  Params: \")\n",
    "    for key, value in trial.params.items():\n",
    "        print(\"    {}: {}\".format(key, value))\n",
    "\n",
    "    cb_params = {}\n",
    "    \n",
    "    for key, value in trial.params.items():\n",
    "        cb_params[key] = value"
   ]
  },
  {
   "cell_type": "code",
   "execution_count": null,
   "metadata": {
    "colab": {
     "base_uri": "https://localhost:8080/"
    },
    "executionInfo": {
     "elapsed": 50,
     "status": "ok",
     "timestamp": 1671059175998,
     "user": {
      "displayName": "Mert Karabacak",
      "userId": "14308977132914475412"
     },
     "user_tz": 300
    },
    "id": "Zq4CNR4JkE0y",
    "outputId": "88e69ed1-f75c-474e-8524-b79c8fbbf1b7"
   },
   "outputs": [],
   "source": [
    "print(cb_params)"
   ]
  },
  {
   "cell_type": "code",
   "execution_count": null,
   "metadata": {
    "colab": {
     "base_uri": "https://localhost:8080/"
    },
    "executionInfo": {
     "elapsed": 1747,
     "status": "ok",
     "timestamp": 1671059177736,
     "user": {
      "displayName": "Mert Karabacak",
      "userId": "14308977132914475412"
     },
     "user_tz": 300
    },
    "id": "Jk72VQghIQPj",
    "outputId": "ccada0ca-0fb5-42da-b77e-31cf19efe717"
   },
   "outputs": [],
   "source": [
    "#Fit CatBoost.\n",
    "\n",
    "from catboost import CatBoostClassifier\n",
    "\n",
    "cb = CatBoostClassifier(**cb_params)\n",
    "\n",
    "cb.fit(train_x, train_y)"
   ]
  },
  {
   "cell_type": "code",
   "execution_count": null,
   "metadata": {
    "executionInfo": {
     "elapsed": 248,
     "status": "ok",
     "timestamp": 1671059177982,
     "user": {
      "displayName": "Mert Karabacak",
      "userId": "14308977132914475412"
     },
     "user_tz": 300
    },
    "id": "tKJn1U-RIQPj"
   },
   "outputs": [],
   "source": [
    "#Make predictions on the test set based on the trained model.\n",
    "\n",
    "preds_cb = cb.predict(x_test)\n",
    "\n",
    "probs_cb = cb.predict_proba(x_test)\n",
    "probs_cb = probs_cb[:, 1]"
   ]
  },
  {
   "cell_type": "code",
   "execution_count": null,
   "metadata": {
    "colab": {
     "base_uri": "https://localhost:8080/"
    },
    "executionInfo": {
     "elapsed": 6,
     "status": "ok",
     "timestamp": 1671059177982,
     "user": {
      "displayName": "Mert Karabacak",
      "userId": "14308977132914475412"
     },
     "user_tz": 300
    },
    "id": "PTi-oHuXIQPj",
    "outputId": "9e4d8989-3c8d-4567-a48f-ff9a6580b612"
   },
   "outputs": [],
   "source": [
    "#Evaluate CatBoost model.\n",
    "\n",
    "cb_precision = precision_score(preds_cb,y_test)\n",
    "cb_recall = recall_score(preds_cb,y_test)\n",
    "cb_f1 = f1_score(preds_cb,y_test)\n",
    "cb_acc = accuracy_score(preds_cb,y_test)   \n",
    "cb_mcc = matthews_corrcoef(y_test, preds_cb)\n",
    "cb_auroc = roc_auc_score(y_test, probs_cb)\n",
    "                          \n",
    "print(\"Precision: %.3f\" % (cb_precision))\n",
    "print(\"Recall: %.3f\" % (cb_recall))\n",
    "print(\"F1 Score: %.3f\" %(cb_f1))\n",
    "print('Accuracy: %.3f' % (cb_acc))\n",
    "print('MCC: %.3f' % (cb_mcc))\n",
    "print('AUROC: %.3f' % (cb_auroc))"
   ]
  },
  {
   "cell_type": "code",
   "execution_count": null,
   "metadata": {
    "colab": {
     "base_uri": "https://localhost:8080/"
    },
    "executionInfo": {
     "elapsed": 6,
     "status": "ok",
     "timestamp": 1671059177982,
     "user": {
      "displayName": "Mert Karabacak",
      "userId": "14308977132914475412"
     },
     "user_tz": 300
    },
    "id": "13zX6UcEIQPj",
    "outputId": "b7ff206d-38ba-4390-dcbd-0158a827dacd"
   },
   "outputs": [],
   "source": [
    "#Evaluate XGBoost model (PRC and AUPRC).\n",
    "\n",
    "cb_precision, cb_recall, _ = precision_recall_curve(y_test, probs_cb)\n",
    "cb_auprc = auc(cb_recall, cb_precision)\n",
    "\n",
    "print('AUPRC: %.3f' % (cb_auprc))"
   ]
  },
  {
   "cell_type": "code",
   "execution_count": null,
   "metadata": {
    "executionInfo": {
     "elapsed": 4,
     "status": "ok",
     "timestamp": 1671059177983,
     "user": {
      "displayName": "Mert Karabacak",
      "userId": "14308977132914475412"
     },
     "user_tz": 300
    },
    "id": "SA-o4SiKIQPj"
   },
   "outputs": [],
   "source": [
    "#Recalculate precision and recall for calculation purposes.\n",
    "\n",
    "cb_precision = precision_score(preds_cb,y_test)\n",
    "cb_recall = recall_score(preds_cb,y_test)\n",
    "\n",
    "cb_results = [cb_precision, cb_recall, cb_f1, cb_acc, cb_mcc, cb_auroc, cb_auprc]"
   ]
  },
  {
   "cell_type": "code",
   "execution_count": null,
   "metadata": {
    "executionInfo": {
     "elapsed": 4,
     "status": "ok",
     "timestamp": 1671059177983,
     "user": {
      "displayName": "Mert Karabacak",
      "userId": "14308977132914475412"
     },
     "user_tz": 300
    },
    "id": "qiuZD44hIQPj"
   },
   "outputs": [],
   "source": [
    "#Recalculate precision recall curve for plotting purposes.\n",
    "\n",
    "cb_precision, cb_recall, _ = precision_recall_curve(y_test, probs_cb)"
   ]
  },
  {
   "cell_type": "markdown",
   "metadata": {
    "id": "mQRRrBp-IQPk"
   },
   "source": [
    "# Random Forest"
   ]
  },
  {
   "cell_type": "code",
   "execution_count": null,
   "metadata": {
    "colab": {
     "base_uri": "https://localhost:8080/"
    },
    "executionInfo": {
     "elapsed": 604947,
     "status": "ok",
     "timestamp": 1671059782926,
     "user": {
      "displayName": "Mert Karabacak",
      "userId": "14308977132914475412"
     },
     "user_tz": 300
    },
    "id": "kFTmQMQxIQPk",
    "outputId": "8d40a914-5720-4e6c-f3f2-4d3bd71ef69a"
   },
   "outputs": [],
   "source": [
    "#Hyperparameter tuning for Random Forest.\n",
    "\n",
    "def objective(trial):\n",
    "    \n",
    "    param = {\n",
    "        \"criterion\": trial.suggest_categorical(\"criterion\", [\"gini\", \"entropy\"]),\n",
    "        \"bootstrap\": trial.suggest_categorical(\"bootstrap\", [\"auto\", \"sqrt\"]),\n",
    "        \"max_features\": trial.suggest_categorical(\"max_features\", [\"auto\", \"sqrt\",\"log2\", None]),\n",
    "        \"max_depth\": trial.suggest_int(\"max_depth\", 1, 100),\n",
    "        \"n_estimators\": trial.suggest_int(\"n_estimators\", 100, 2000, 100),\n",
    "        \"min_samples_leaf\": trial.suggest_int(\"min_samples_leaf\", 1, 4, 1),\n",
    "        \"min_samples_split\": trial.suggest_int(\"min_samples_split\", 2, 10, 1),\n",
    "    }\n",
    "\n",
    "    rf = RandomForestClassifier(**param)\n",
    "\n",
    "    rf.fit(\n",
    "        train_x,\n",
    "        train_y,\n",
    "    )\n",
    "\n",
    "    preds = rf.predict(valid_x)\n",
    "    pred_labels = np.rint(preds)\n",
    "    auc = sklearn.metrics.roc_auc_score(valid_y, pred_labels)\n",
    "\n",
    "    return auc\n",
    "\n",
    "\n",
    "if __name__ == \"__main__\":\n",
    "    study = optuna.create_study(direction='maximize')\n",
    "    study.optimize(objective, n_trials=100, timeout=600)\n",
    "\n",
    "    print(\"Number of finished trials: {}\".format(len(study.trials)))\n",
    "\n",
    "    print(\"Best trial:\")\n",
    "    trial = study.best_trial\n",
    "\n",
    "    print(\"  Value: {}\".format(trial.value))\n",
    "\n",
    "    print(\"  Params: \")\n",
    "    for key, value in trial.params.items():\n",
    "        print(\"    {}: {}\".format(key, value))\n",
    "        \n",
    "    rf_params = {}\n",
    "    \n",
    "    for key, value in trial.params.items():\n",
    "        rf_params[key] = value"
   ]
  },
  {
   "cell_type": "code",
   "execution_count": null,
   "metadata": {
    "colab": {
     "base_uri": "https://localhost:8080/"
    },
    "executionInfo": {
     "elapsed": 6,
     "status": "ok",
     "timestamp": 1671059782927,
     "user": {
      "displayName": "Mert Karabacak",
      "userId": "14308977132914475412"
     },
     "user_tz": 300
    },
    "id": "yTqnQTzgkG3R",
    "outputId": "3baa4378-a4bd-4afc-9091-ed2cac7a9185"
   },
   "outputs": [],
   "source": [
    "print(rf_params)"
   ]
  },
  {
   "cell_type": "code",
   "execution_count": null,
   "metadata": {
    "colab": {
     "base_uri": "https://localhost:8080/"
    },
    "executionInfo": {
     "elapsed": 5029,
     "status": "ok",
     "timestamp": 1671059787953,
     "user": {
      "displayName": "Mert Karabacak",
      "userId": "14308977132914475412"
     },
     "user_tz": 300
    },
    "id": "o2nnbDAsIQPk",
    "outputId": "b9310d68-63cb-4ecb-a4c8-4ddca7d337ae"
   },
   "outputs": [],
   "source": [
    "#Fit Random Forest.\n",
    "\n",
    "from sklearn.ensemble import RandomForestClassifier\n",
    "\n",
    "rf = RandomForestClassifier(**rf_params)\n",
    "\n",
    "rf.fit(train_x, train_y)"
   ]
  },
  {
   "cell_type": "code",
   "execution_count": null,
   "metadata": {
    "executionInfo": {
     "elapsed": 274,
     "status": "ok",
     "timestamp": 1671059788218,
     "user": {
      "displayName": "Mert Karabacak",
      "userId": "14308977132914475412"
     },
     "user_tz": 300
    },
    "id": "pSsBliFuIQPk"
   },
   "outputs": [],
   "source": [
    "#Make predictions on the test set based on the trained model.\n",
    "\n",
    "preds_rf = rf.predict(x_test)\n",
    "\n",
    "probs_rf = rf.predict_proba(x_test)\n",
    "probs_rf = probs_rf[:, 1]"
   ]
  },
  {
   "cell_type": "code",
   "execution_count": null,
   "metadata": {
    "colab": {
     "base_uri": "https://localhost:8080/"
    },
    "executionInfo": {
     "elapsed": 5,
     "status": "ok",
     "timestamp": 1671059788218,
     "user": {
      "displayName": "Mert Karabacak",
      "userId": "14308977132914475412"
     },
     "user_tz": 300
    },
    "id": "haQcIGjoIQPk",
    "outputId": "c94fb8d5-51ed-4c31-8570-6131e70de9e0"
   },
   "outputs": [],
   "source": [
    "#Evaluate Random Forest model.\n",
    "\n",
    "rf_precision = precision_score(preds_rf,y_test)\n",
    "rf_recall = recall_score(preds_rf,y_test)\n",
    "rf_f1 = f1_score(preds_rf,y_test)\n",
    "rf_acc = accuracy_score(preds_rf,y_test)   \n",
    "rf_mcc = matthews_corrcoef(y_test, preds_rf)\n",
    "rf_auroc = roc_auc_score(y_test, probs_rf)\n",
    "                          \n",
    "print(\"Precision: %.3f\" % (rf_precision))\n",
    "print(\"Recall: %.3f\" % (rf_recall))\n",
    "print(\"F1 Score: %.3f\" %(rf_f1))\n",
    "print('Accuracy: %.3f' % (rf_acc))\n",
    "print('MCC: %.3f' % (rf_mcc))\n",
    "print('AUROC: %.3f' % (rf_auroc))"
   ]
  },
  {
   "cell_type": "code",
   "execution_count": null,
   "metadata": {
    "colab": {
     "base_uri": "https://localhost:8080/"
    },
    "executionInfo": {
     "elapsed": 4,
     "status": "ok",
     "timestamp": 1671059788218,
     "user": {
      "displayName": "Mert Karabacak",
      "userId": "14308977132914475412"
     },
     "user_tz": 300
    },
    "id": "z-UyQn0cIQPk",
    "outputId": "b9cd8e42-4776-42ae-9cd0-91ee04492909"
   },
   "outputs": [],
   "source": [
    "#Evaluate Random Forest model (PRC and AUPRC).\n",
    "\n",
    "rf_precision, rf_recall, _ = precision_recall_curve(y_test, probs_rf)\n",
    "rf_auprc = auc(rf_recall, rf_precision)\n",
    "\n",
    "print('AUPRC: %.3f' % (rf_auprc))"
   ]
  },
  {
   "cell_type": "code",
   "execution_count": null,
   "metadata": {
    "executionInfo": {
     "elapsed": 2,
     "status": "ok",
     "timestamp": 1671059788218,
     "user": {
      "displayName": "Mert Karabacak",
      "userId": "14308977132914475412"
     },
     "user_tz": 300
    },
    "id": "KTK4p-ooIQPk"
   },
   "outputs": [],
   "source": [
    "#Recalculate precision and recall for calculation purposes.\n",
    "\n",
    "rf_precision = precision_score(preds_rf,y_test)\n",
    "rf_recall = recall_score(preds_rf,y_test)\n",
    "\n",
    "rf_results = [rf_precision, rf_recall, rf_f1, rf_acc, rf_mcc, rf_auroc, rf_auprc]"
   ]
  },
  {
   "cell_type": "code",
   "execution_count": null,
   "metadata": {
    "executionInfo": {
     "elapsed": 3,
     "status": "ok",
     "timestamp": 1671059788219,
     "user": {
      "displayName": "Mert Karabacak",
      "userId": "14308977132914475412"
     },
     "user_tz": 300
    },
    "id": "Drrp3KEQIQPk"
   },
   "outputs": [],
   "source": [
    "#Recalculate precision recall curve for plotting purposes.\n",
    "\n",
    "rf_precision, rf_recall, _ = precision_recall_curve(y_test, probs_rf)"
   ]
  },
  {
   "cell_type": "markdown",
   "metadata": {
    "id": "fLvNgketIQPl"
   },
   "source": [
    "# ROC, PR, and Calibration Plots"
   ]
  },
  {
   "cell_type": "code",
   "execution_count": null,
   "metadata": {
    "colab": {
     "base_uri": "https://localhost:8080/",
     "height": 760
    },
    "executionInfo": {
     "elapsed": 3111,
     "status": "ok",
     "timestamp": 1671059791327,
     "user": {
      "displayName": "Mert Karabacak",
      "userId": "14308977132914475412"
     },
     "user_tz": 300
    },
    "id": "0mMqO-euIQPl",
    "outputId": "e10eb65d-c11c-4862-cd77-ecfe551f74c9"
   },
   "outputs": [],
   "source": [
    "f = pyplot.figure()\n",
    "f.set_figwidth(12)\n",
    "f.set_figheight(12)\n",
    "\n",
    "xgb_fpr, xgb_tpr, _ = roc_curve(y_test, probs_xgb)\n",
    "pyplot.plot(xgb_fpr, xgb_tpr, label='XGBoost AUROC: {:.3f}'.format(xgb_auroc), color='red')\n",
    "\n",
    "lgb_fpr, lgb_tpr, _ = roc_curve(y_test, probs_lgb)\n",
    "pyplot.plot(lgb_fpr, lgb_tpr, label='LightGBM AUROC: {:.3f}'.format(lgb_auroc), color='darkblue')\n",
    "\n",
    "cb_fpr, cb_tpr, _ = roc_curve(y_test, probs_cb)\n",
    "pyplot.plot(cb_fpr, cb_tpr, label='CatBoost AUROC: {:.3f}'.format(cb_auroc), color = 'darkgreen')\n",
    "\n",
    "rf_fpr, rf_tpr, _ = roc_curve(y_test, probs_rf)\n",
    "pyplot.plot(rf_fpr, rf_tpr, label='Random Forest AUROC: {:.3f}'.format(rf_auroc), color = 'orange')\n",
    "\n",
    "pyplot.plot([0, 1], [0, 1], linestyle = '--')\n",
    "\n",
    "pyplot.title('Receiver Operating Characteristic Curve', loc='center', fontsize = 20, fontweight = 'heavy', pad = 20)\n",
    "pyplot.xlabel('False Positive Rate', fontsize = 16, labelpad = 10)\n",
    "pyplot.ylabel('True Positive Rate', fontsize = 16, labelpad = 10)\n",
    "pyplot.tick_params(axis=\"y\",direction=\"out\")\n",
    "pyplot.tick_params(axis=\"x\",direction=\"out\")\n",
    "\n",
    "leg = pyplot.legend(loc = 'lower right', fontsize = 12)\n",
    "\n",
    "pyplot.savefig('/content/drive/MyDrive/NSQIP-CLP/los_roc.png', dpi=300)\n",
    "pyplot.show()"
   ]
  },
  {
   "cell_type": "code",
   "execution_count": null,
   "metadata": {
    "colab": {
     "base_uri": "https://localhost:8080/",
     "height": 760
    },
    "executionInfo": {
     "elapsed": 1692,
     "status": "ok",
     "timestamp": 1671059793015,
     "user": {
      "displayName": "Mert Karabacak",
      "userId": "14308977132914475412"
     },
     "user_tz": 300
    },
    "id": "GpotrYFBIQPl",
    "outputId": "9f5ae2b8-a483-4846-85df-4515b6f62fae"
   },
   "outputs": [],
   "source": [
    "f = pyplot.figure()\n",
    "f.set_figwidth(12)\n",
    "f.set_figheight(12)\n",
    "\n",
    "pyplot.plot(xgb_recall, xgb_precision, label='XGBoost AUPRC: {:.3f}'.format(xgb_auprc), color = 'red')\n",
    "pyplot.plot(lgb_recall, lgb_precision, label='LightGBM AUPRC: {:.3f}'.format(lgb_auprc), color = 'darkblue')\n",
    "pyplot.plot(cb_recall, cb_precision, label='CatBoost AUPRC: {:.3f}'.format(cb_auprc), color = 'darkgreen')\n",
    "pyplot.plot(rf_recall, rf_precision, label='Random Forest AUPRC: {:.3f}'.format(rf_auprc), color = 'orange')\n",
    "\n",
    "\n",
    "pyplot.title('Precision Recall Curve', loc='center', fontsize = 20, fontweight = 'heavy', pad = 20)\n",
    "pyplot.xlabel('Recall', fontsize = 16, labelpad = 10)\n",
    "pyplot.ylabel('Precision', fontsize = 16, labelpad = 10)\n",
    "leg = pyplot.legend(loc = 'lower right', fontsize = 12)\n",
    "\n",
    "pyplot.savefig('/content/drive/MyDrive/NSQIP-CLP/los_prc.png', dpi=300)\n",
    "pyplot.show()"
   ]
  },
  {
   "cell_type": "code",
   "execution_count": null,
   "metadata": {
    "colab": {
     "base_uri": "https://localhost:8080/",
     "height": 760
    },
    "executionInfo": {
     "elapsed": 2383,
     "status": "ok",
     "timestamp": 1671059795396,
     "user": {
      "displayName": "Mert Karabacak",
      "userId": "14308977132914475412"
     },
     "user_tz": 300
    },
    "id": "VBlaLpMWIQPl",
    "outputId": "26dc81f9-270a-424f-c357-b563215b0499"
   },
   "outputs": [],
   "source": [
    "f = pyplot.figure()\n",
    "f.set_figwidth(12)\n",
    "f.set_figheight(12)\n",
    "\n",
    "x_cal_xgb, y_cal_xgb = calibration_curve(y_test, probs_xgb, n_bins = 10, normalize = True)\n",
    "x_cal_lgb, y_cal_lgb = calibration_curve(y_test, probs_lgb, n_bins = 10, normalize = True)\n",
    "x_cal_cb, y_cal_cb = calibration_curve(y_test, probs_cb, n_bins = 10, normalize = True)\n",
    "x_cal_rf, y_cal_rf = calibration_curve(y_test, probs_rf, n_bins = 10, normalize = True)\n",
    "\n",
    "\n",
    "pyplot.plot([0, 1], [0, 1], linestyle = '--', label = 'Ideally Calibrated')\n",
    "\n",
    "pyplot.plot(y_cal_xgb, x_cal_xgb, label = 'XGBoost', color = 'red')\n",
    "pyplot.plot(y_cal_lgb, x_cal_lgb, label = 'LightGBM', color = 'darkblue')\n",
    "pyplot.plot(y_cal_cb, x_cal_cb, label = 'CatBoost', color = 'darkgreen')\n",
    "pyplot.plot(y_cal_rf, x_cal_xgb, label = 'Random Forest', color = 'orange')\n",
    "\n",
    "pyplot.title('Calibration', loc='center', fontsize = 20, fontweight = 'heavy', pad = 20)\n",
    "leg = pyplot.legend(loc = 'lower right', fontsize = 12)\n",
    "pyplot.xlabel('Average Predicted Probability in each bin', fontsize = 16, labelpad = 10)\n",
    "pyplot.ylabel('Ratio of positives', fontsize = 16, labelpad = 10)\n",
    "\n",
    "pyplot.savefig('/content/drive/MyDrive/NSQIP-CLP/los_cal.png', dpi=300)\n",
    "pyplot.show()"
   ]
  },
  {
   "cell_type": "markdown",
   "metadata": {
    "id": "rOySRdcDIQPl"
   },
   "source": [
    "# Results Summary"
   ]
  },
  {
   "cell_type": "code",
   "execution_count": null,
   "metadata": {
    "colab": {
     "base_uri": "https://localhost:8080/",
     "height": 269
    },
    "executionInfo": {
     "elapsed": 15,
     "status": "ok",
     "timestamp": 1671059795396,
     "user": {
      "displayName": "Mert Karabacak",
      "userId": "14308977132914475412"
     },
     "user_tz": 300
    },
    "id": "YBGJf087IQPl",
    "outputId": "b98ad00e-7b66-4f18-df45-47aef1784892"
   },
   "outputs": [],
   "source": [
    "results = {'XGBoost':xgb_results, 'LightGBM':lgb_results, 'CatBoost':cb_results, 'Random Forest':rf_results}\n",
    "\n",
    "results = pd.DataFrame(results, columns = ['XGBoost', 'LightGBM', 'CatBoost', 'Random Forest'])\n",
    "\n",
    "results"
   ]
  },
  {
   "cell_type": "code",
   "execution_count": null,
   "metadata": {
    "colab": {
     "base_uri": "https://localhost:8080/",
     "height": 175
    },
    "executionInfo": {
     "elapsed": 15,
     "status": "ok",
     "timestamp": 1671059795397,
     "user": {
      "displayName": "Mert Karabacak",
      "userId": "14308977132914475412"
     },
     "user_tz": 300
    },
    "id": "kznujF4kIQPl",
    "outputId": "5c1725db-1585-4494-fe7d-b3adbae2d0bd"
   },
   "outputs": [],
   "source": [
    "results = pd.DataFrame({'XGBoost':xgb_results, 'LightGBM':lgb_results, 'CatBoost':cb_results, 'Random Forest':rf_results})\n",
    "\n",
    "results = results.T\n",
    "\n",
    "results.columns = ['Precision', 'Recall', 'F1', 'Accuracy', 'MCC', 'AUROC', 'AUPRC']\n",
    "\n",
    "results.to_csv('/content/drive/MyDrive/NSQIP-CLP/los_results.csv')\n",
    "\n",
    "results"
   ]
  },
  {
   "cell_type": "markdown",
   "metadata": {
    "id": "qYnu4PnCIQPm"
   },
   "source": [
    "# SHAP Plots"
   ]
  },
  {
   "cell_type": "code",
   "execution_count": null,
   "metadata": {
    "colab": {
     "base_uri": "https://localhost:8080/"
    },
    "executionInfo": {
     "elapsed": 1810755,
     "status": "ok",
     "timestamp": 1671061606138,
     "user": {
      "displayName": "Mert Karabacak",
      "userId": "14308977132914475412"
     },
     "user_tz": 300
    },
    "id": "C0Oe8J3-IQPm",
    "outputId": "c7793e57-6b81-4e00-933b-13d89994d912"
   },
   "outputs": [],
   "source": [
    "# Fits the explainer\n",
    "xgb_explainer = shap.Explainer(xgb.predict, x_test)\n",
    "lgb_explainer = shap.Explainer(lgb.predict, x_test)\n",
    "cb_explainer = shap.Explainer(cb.predict, x_test)\n",
    "rf_explainer = shap.Explainer(rf.predict, x_test)\n",
    "\n",
    "# Calculates the SHAP values - It takes some time\n",
    "xgb_shap_values = xgb_explainer(x_test)\n",
    "lgb_shap_values = lgb_explainer(x_test)\n",
    "cb_shap_values = cb_explainer(x_test)\n",
    "rf_shap_values = rf_explainer(x_test)"
   ]
  },
  {
   "cell_type": "code",
   "execution_count": null,
   "metadata": {
    "executionInfo": {
     "elapsed": 10,
     "status": "ok",
     "timestamp": 1671061606138,
     "user": {
      "displayName": "Mert Karabacak",
      "userId": "14308977132914475412"
     },
     "user_tz": 300
    },
    "id": "E3bKGZtwIQPm"
   },
   "outputs": [],
   "source": [
    "from scipy.special import softmax\n",
    "\n",
    "def print_feature_importances_shap_values(shap_values, features):\n",
    "    '''\n",
    "    Prints the feature importances based on SHAP values in an ordered way\n",
    "    shap_values -> The SHAP values calculated from a shap.Explainer object\n",
    "    features -> The name of the features, on the order presented to the explainer\n",
    "    '''\n",
    "    # Calculates the feature importance (mean absolute shap value) for each feature\n",
    "    importances = []\n",
    "    for i in range(shap_values.values.shape[1]):\n",
    "        importances.append(np.mean(np.abs(shap_values.values[:, i])))\n",
    "    # Calculates the normalized version\n",
    "    importances_norm = softmax(importances)\n",
    "    # Organize the importances and columns in a dictionary\n",
    "    feature_importances = {fea: imp for imp, fea in zip(importances, features)}\n",
    "    feature_importances_norm = {fea: imp for imp, fea in zip(importances_norm, features)}\n",
    "    # Sorts the dictionary\n",
    "    feature_importances = {k: v for k, v in sorted(feature_importances.items(), key=lambda item: item[1], reverse = True)}\n",
    "    feature_importances_norm= {k: v for k, v in sorted(feature_importances_norm.items(), key=lambda item: item[1], reverse = True)}\n",
    "    # Prints the feature importances\n",
    "    for k, v in feature_importances.items():\n",
    "        print(f\"{k} -> {v:.4f} (softmax = {feature_importances_norm[k]:.4f})\")"
   ]
  },
  {
   "cell_type": "code",
   "execution_count": null,
   "metadata": {
    "colab": {
     "base_uri": "https://localhost:8080/",
     "height": 477
    },
    "executionInfo": {
     "elapsed": 1516,
     "status": "ok",
     "timestamp": 1671061607645,
     "user": {
      "displayName": "Mert Karabacak",
      "userId": "14308977132914475412"
     },
     "user_tz": 300
    },
    "id": "C09esVZrIQPm",
    "outputId": "00b349fa-23ec-4fe1-ea2e-aaae3b73f107"
   },
   "outputs": [],
   "source": [
    "shap.plots.bar(xgb_shap_values, max_display = 10, show=False)\n",
    "pyplot.tight_layout()\n",
    "pyplot.savefig('/content/drive/MyDrive/NSQIP-CLP/los_shap_xgb.png', dpi=300)"
   ]
  },
  {
   "cell_type": "code",
   "execution_count": null,
   "metadata": {
    "colab": {
     "base_uri": "https://localhost:8080/",
     "height": 477
    },
    "executionInfo": {
     "elapsed": 866,
     "status": "ok",
     "timestamp": 1671061608509,
     "user": {
      "displayName": "Mert Karabacak",
      "userId": "14308977132914475412"
     },
     "user_tz": 300
    },
    "id": "HBQmzC4-IQPm",
    "outputId": "4028e446-c7d4-4bbc-d40b-fc3395be88ab"
   },
   "outputs": [],
   "source": [
    "shap.plots.bar(lgb_shap_values, max_display = 10, show=False)\n",
    "pyplot.tight_layout()\n",
    "pyplot.savefig('/content/drive/MyDrive/NSQIP-CLP/los_shap_lgb.png', dpi=300)"
   ]
  },
  {
   "cell_type": "code",
   "execution_count": null,
   "metadata": {
    "colab": {
     "base_uri": "https://localhost:8080/",
     "height": 477
    },
    "executionInfo": {
     "elapsed": 1150,
     "status": "ok",
     "timestamp": 1671061609657,
     "user": {
      "displayName": "Mert Karabacak",
      "userId": "14308977132914475412"
     },
     "user_tz": 300
    },
    "id": "PGiIayQaIQPm",
    "outputId": "6e48abc6-7935-49da-d35b-9d74c5181822"
   },
   "outputs": [],
   "source": [
    "shap.plots.bar(cb_shap_values, max_display = 10, show=False)\n",
    "pyplot.tight_layout()\n",
    "pyplot.savefig('/content/drive/MyDrive/NSQIP-CLP/los_shap_cb.png', dpi=300)"
   ]
  },
  {
   "cell_type": "code",
   "execution_count": null,
   "metadata": {
    "colab": {
     "base_uri": "https://localhost:8080/",
     "height": 477
    },
    "executionInfo": {
     "elapsed": 1251,
     "status": "ok",
     "timestamp": 1671061610907,
     "user": {
      "displayName": "Mert Karabacak",
      "userId": "14308977132914475412"
     },
     "user_tz": 300
    },
    "id": "Vj3B1IeWIQPm",
    "outputId": "76f48bda-9166-4fb8-df72-fa09ead26104"
   },
   "outputs": [],
   "source": [
    "shap.plots.bar(rf_shap_values, max_display = 10, show=False)\n",
    "pyplot.tight_layout()\n",
    "pyplot.savefig('/content/drive/MyDrive/NSQIP-CLP/los_shap_rf.png', dpi=300)"
   ]
  }
 ],
 "metadata": {
  "colab": {
   "collapsed_sections": [
    "fLvNgketIQPl",
    "rOySRdcDIQPl",
    "qYnu4PnCIQPm"
   ],
   "provenance": [
    {
     "file_id": "1jvG_2brh3p2BhjDqh6LIyEOlVCFKYSX6",
     "timestamp": 1671034103968
    },
    {
     "file_id": "1YKiMGVsPQlDRLgB2d3Svjjsp96BkJxlX",
     "timestamp": 1670597416903
    },
    {
     "file_id": "1gG7ScMqQA2JnmntazVsJaQStNW3qHl9R",
     "timestamp": 1670198888608
    },
    {
     "file_id": "1V4GD1xQ2LBQhBny_OS3iBlGyn9mh7oWM",
     "timestamp": 1669993880849
    },
    {
     "file_id": "1euhY_qXOTy9qT_vn0Q6Kb2eEUOCHom8m",
     "timestamp": 1669310009337
    },
    {
     "file_id": "1ksEkZ_gSIaosRd56LkYx54z5oGNBgq2C",
     "timestamp": 1668779215067
    },
    {
     "file_id": "1o0f_u5loubhXZTvFpGUCA_m2gpTKQ6EL",
     "timestamp": 1668619772114
    }
   ]
  },
  "kernelspec": {
   "display_name": "Python 3 (ipykernel)",
   "language": "python",
   "name": "python3"
  },
  "language_info": {
   "codemirror_mode": {
    "name": "ipython",
    "version": 3
   },
   "file_extension": ".py",
   "mimetype": "text/x-python",
   "name": "python",
   "nbconvert_exporter": "python",
   "pygments_lexer": "ipython3",
   "version": "3.9.7"
  }
 },
 "nbformat": 4,
 "nbformat_minor": 4
}
