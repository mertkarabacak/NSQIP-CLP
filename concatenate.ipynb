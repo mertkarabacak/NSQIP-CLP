{
 "cells": [
  {
   "cell_type": "code",
   "execution_count": null,
   "id": "NUoUw1WrLesI",
   "metadata": {
    "colab": {
     "base_uri": "https://localhost:8080/"
    },
    "executionInfo": {
     "elapsed": 921,
     "status": "ok",
     "timestamp": 1671051345282,
     "user": {
      "displayName": "Mert Karabacak",
      "userId": "14308977132914475412"
     },
     "user_tz": 300
    },
    "id": "NUoUw1WrLesI",
    "outputId": "54732e71-fb38-4c76-851a-11d1b4bf6b6c"
   },
   "outputs": [],
   "source": [
    "from google.colab import drive\n",
    "drive.mount('/content/drive')"
   ]
  },
  {
   "cell_type": "code",
   "execution_count": null,
   "id": "b7069c46-b444-4100-b7d9-c884c759b493",
   "metadata": {
    "executionInfo": {
     "elapsed": 615,
     "status": "ok",
     "timestamp": 1671051345896,
     "user": {
      "displayName": "Mert Karabacak",
      "userId": "14308977132914475412"
     },
     "user_tz": 300
    },
    "id": "b7069c46-b444-4100-b7d9-c884c759b493"
   },
   "outputs": [],
   "source": [
    "import pandas as pd"
   ]
  },
  {
   "cell_type": "code",
   "execution_count": null,
   "id": "83ebea8e-eaf9-4e4c-95b0-7b18bcac7215",
   "metadata": {
    "executionInfo": {
     "elapsed": 87286,
     "status": "ok",
     "timestamp": 1671051433181,
     "user": {
      "displayName": "Mert Karabacak",
      "userId": "14308977132914475412"
     },
     "user_tz": 300
    },
    "id": "83ebea8e-eaf9-4e4c-95b0-7b18bcac7215"
   },
   "outputs": [],
   "source": [
    "#Read 2020 data.\n",
    "\n",
    "df2020 = pd.read_csv(\"/content/drive/MyDrive/NSQIP-PUFs/NSQIP_2020.csv\", index_col = 'CaseID', encoding = 'latin1', low_memory = False)\n",
    "\n",
    "df2020.columns = map(str.upper, df2020.columns)"
   ]
  },
  {
   "cell_type": "code",
   "execution_count": null,
   "id": "37b4e4d8-f7d9-4715-86e4-a52a158b4626",
   "metadata": {
    "executionInfo": {
     "elapsed": 2073,
     "status": "ok",
     "timestamp": 1671051435366,
     "user": {
      "displayName": "Mert Karabacak",
      "userId": "14308977132914475412"
     },
     "user_tz": 300
    },
    "id": "37b4e4d8-f7d9-4715-86e4-a52a158b4626"
   },
   "outputs": [],
   "source": [
    "#Drop the columns that are not present in other years.\n",
    "\n",
    "df2020 = df2020.drop(columns=['EOL_WDCARE', 'BLEED_UNITS_TOT'])"
   ]
  },
  {
   "cell_type": "code",
   "execution_count": null,
   "id": "336cffa1-eca7-41ba-9fda-844b73a7068f",
   "metadata": {
    "colab": {
     "base_uri": "https://localhost:8080/"
    },
    "executionInfo": {
     "elapsed": 3,
     "status": "ok",
     "timestamp": 1671051435367,
     "user": {
      "displayName": "Mert Karabacak",
      "userId": "14308977132914475412"
     },
     "user_tz": 300
    },
    "id": "336cffa1-eca7-41ba-9fda-844b73a7068f",
    "outputId": "c54eb1b4-bdb4-4f7d-c11d-bbeb9a403730"
   },
   "outputs": [],
   "source": [
    "#Check 2020 data shape.\n",
    "\n",
    "df2020.shape"
   ]
  },
  {
   "cell_type": "code",
   "execution_count": null,
   "id": "085e47a0-deef-46ab-be43-3c70880b3cce",
   "metadata": {
    "colab": {
     "base_uri": "https://localhost:8080/"
    },
    "executionInfo": {
     "elapsed": 920,
     "status": "ok",
     "timestamp": 1671051436285,
     "user": {
      "displayName": "Mert Karabacak",
      "userId": "14308977132914475412"
     },
     "user_tz": 300
    },
    "id": "085e47a0-deef-46ab-be43-3c70880b3cce",
    "outputId": "07510677-7ffc-4c88-a74c-eda9c9c2ec0b"
   },
   "outputs": [],
   "source": [
    "#Identify CLP with CPT codes.\n",
    "\n",
    "df2020_clp = df2020[(df2020['CPT'] == 63050) | (df2020['CONCPT1'] == 63050) | (df2020['CONCPT2'] == 63050) | (df2020['CONCPT3'] == 63050) | (df2020['CONCPT4'] == 63050) | (df2020['CONCPT5'] == 63050) | (df2020['CONCPT6'] == 63050) | (df2020['CONCPT7'] == 63050) | (df2020['CONCPT8'] == 63050) | (df2020['CONCPT9'] == 63050) | (df2020['CONCPT10'] == 63050) | (df2020['OTHERCPT1'] == 63050) | (df2020['OTHERCPT2'] == 63050) | (df2020['OTHERCPT3'] == 63050) | (df2020['OTHERCPT4'] == 63050) | (df2020['OTHERCPT5'] == 63050) | (df2020['OTHERCPT6'] == 63050) | (df2020['OTHERCPT7'] == 63050) | (df2020['OTHERCPT8'] == 63050) | (df2020['OTHERCPT9'] == 63050) | (df2020['OTHERCPT10'] == 63050) | (df2020['CPT'] == 63051) | (df2020['CONCPT1'] == 63051) | (df2020['CONCPT2'] == 63051) | (df2020['CONCPT3'] == 63051) | (df2020['CONCPT4'] == 63051) | (df2020['CONCPT5'] == 63051) | (df2020['CONCPT6'] == 63051) | (df2020['CONCPT7'] == 63051) | (df2020['CONCPT8'] == 63051) | (df2020['CONCPT9'] == 63051) | (df2020['CONCPT10'] == 63051) | (df2020['OTHERCPT1'] == 63051) | (df2020['OTHERCPT2'] == 63051) | (df2020['OTHERCPT3'] == 63051) | (df2020['OTHERCPT4'] == 63051) | (df2020['OTHERCPT5'] == 63051) | (df2020['OTHERCPT6'] == 63051) | (df2020['OTHERCPT7'] == 63051) | (df2020['OTHERCPT8'] == 63051) | (df2020['OTHERCPT9'] == 63051) | (df2020['OTHERCPT10'] == 63051)]\n",
    "print(df2020_clp.shape)"
   ]
  },
  {
   "cell_type": "code",
   "execution_count": null,
   "id": "a9542653-5403-410b-bf62-664e14f6462b",
   "metadata": {
    "executionInfo": {
     "elapsed": 89926,
     "status": "ok",
     "timestamp": 1671051526210,
     "user": {
      "displayName": "Mert Karabacak",
      "userId": "14308977132914475412"
     },
     "user_tz": 300
    },
    "id": "a9542653-5403-410b-bf62-664e14f6462b"
   },
   "outputs": [],
   "source": [
    "#Read 2019 data.\n",
    "\n",
    "df2019 = pd.read_csv(\"/content/drive/MyDrive/NSQIP-PUFs/NSQIP_2019.csv\", index_col = 'CASEID', encoding = 'latin1', low_memory = False)\n",
    "\n",
    "df2019.columns = map(str.upper, df2019.columns)"
   ]
  },
  {
   "cell_type": "code",
   "execution_count": null,
   "id": "779f98b3-ebfc-45bc-97b6-084feee4fb16",
   "metadata": {
    "colab": {
     "base_uri": "https://localhost:8080/"
    },
    "executionInfo": {
     "elapsed": 11,
     "status": "ok",
     "timestamp": 1671051526211,
     "user": {
      "displayName": "Mert Karabacak",
      "userId": "14308977132914475412"
     },
     "user_tz": 300
    },
    "id": "779f98b3-ebfc-45bc-97b6-084feee4fb16",
    "outputId": "f7ce78d0-5ba4-4443-9ed1-53dc679b9639"
   },
   "outputs": [],
   "source": [
    "#Check 2019 data shape.\n",
    "\n",
    "df2019.shape"
   ]
  },
  {
   "cell_type": "code",
   "execution_count": null,
   "id": "c6fb2a92-7924-4965-8282-2fd54bcac03b",
   "metadata": {
    "colab": {
     "base_uri": "https://localhost:8080/"
    },
    "executionInfo": {
     "elapsed": 841,
     "status": "ok",
     "timestamp": 1671051527042,
     "user": {
      "displayName": "Mert Karabacak",
      "userId": "14308977132914475412"
     },
     "user_tz": 300
    },
    "id": "c6fb2a92-7924-4965-8282-2fd54bcac03b",
    "outputId": "d1b91fe3-7ae9-4ee8-d1e6-eee4e38220b3"
   },
   "outputs": [],
   "source": [
    "#Identify CLP with CPT codes.\n",
    "\n",
    "df2019_clp = df2019[(df2019['CPT'] == 63050) | (df2019['CONCPT1'] == 63050) | (df2019['CONCPT2'] == 63050) | (df2019['CONCPT3'] == 63050) | (df2019['CONCPT4'] == 63050) | (df2019['CONCPT5'] == 63050) | (df2019['CONCPT6'] == 63050) | (df2019['CONCPT7'] == 63050) | (df2019['CONCPT8'] == 63050) | (df2019['CONCPT9'] == 63050) | (df2019['CONCPT10'] == 63050) | (df2019['OTHERCPT1'] == 63050) | (df2019['OTHERCPT2'] == 63050) | (df2019['OTHERCPT3'] == 63050) | (df2019['OTHERCPT4'] == 63050) | (df2019['OTHERCPT5'] == 63050) | (df2019['OTHERCPT6'] == 63050) | (df2019['OTHERCPT7'] == 63050) | (df2019['OTHERCPT8'] == 63050) | (df2019['OTHERCPT9'] == 63050) | (df2019['OTHERCPT10'] == 63050) | (df2019['CPT'] == 63051) | (df2019['CONCPT1'] == 63051) | (df2019['CONCPT2'] == 63051) | (df2019['CONCPT3'] == 63051) | (df2019['CONCPT4'] == 63051) | (df2019['CONCPT5'] == 63051) | (df2019['CONCPT6'] == 63051) | (df2019['CONCPT7'] == 63051) | (df2019['CONCPT8'] == 63051) | (df2019['CONCPT9'] == 63051) | (df2019['CONCPT10'] == 63051) | (df2019['OTHERCPT1'] == 63051) | (df2019['OTHERCPT2'] == 63051) | (df2019['OTHERCPT3'] == 63051) | (df2019['OTHERCPT4'] == 63051) | (df2019['OTHERCPT5'] == 63051) | (df2019['OTHERCPT6'] == 63051) | (df2019['OTHERCPT7'] == 63051) | (df2019['OTHERCPT8'] == 63051) | (df2019['OTHERCPT9'] == 63051) | (df2019['OTHERCPT10'] == 63051)]\n",
    "print(df2019_clp.shape)"
   ]
  },
  {
   "cell_type": "code",
   "execution_count": null,
   "id": "cb772fcf-d268-4221-93a0-5eb5c265c935",
   "metadata": {
    "executionInfo": {
     "elapsed": 86477,
     "status": "ok",
     "timestamp": 1671051613517,
     "user": {
      "displayName": "Mert Karabacak",
      "userId": "14308977132914475412"
     },
     "user_tz": 300
    },
    "id": "cb772fcf-d268-4221-93a0-5eb5c265c935"
   },
   "outputs": [],
   "source": [
    "#Read 2018 data.\n",
    "\n",
    "df2018 = pd.read_csv(\"/content/drive/MyDrive/NSQIP-PUFs/NSQIP_2018.csv\", index_col = 'CaseID', encoding = 'latin1', low_memory = False)\n",
    "\n",
    "df2018.columns = map(str.upper, df2018.columns)"
   ]
  },
  {
   "cell_type": "code",
   "execution_count": null,
   "id": "e40d915a-d1c3-4efd-b325-6245ec91323d",
   "metadata": {
    "colab": {
     "base_uri": "https://localhost:8080/"
    },
    "executionInfo": {
     "elapsed": 14,
     "status": "ok",
     "timestamp": 1671051613518,
     "user": {
      "displayName": "Mert Karabacak",
      "userId": "14308977132914475412"
     },
     "user_tz": 300
    },
    "id": "e40d915a-d1c3-4efd-b325-6245ec91323d",
    "outputId": "1b21fc78-a706-48ca-e316-2f767ccbaf5d"
   },
   "outputs": [],
   "source": [
    "#Check 2018 data shape.\n",
    "\n",
    "df2018.shape"
   ]
  },
  {
   "cell_type": "code",
   "execution_count": null,
   "id": "e8bc3025-d320-46fb-8a4b-e2ba478dbb30",
   "metadata": {
    "colab": {
     "base_uri": "https://localhost:8080/"
    },
    "executionInfo": {
     "elapsed": 666,
     "status": "ok",
     "timestamp": 1671051614172,
     "user": {
      "displayName": "Mert Karabacak",
      "userId": "14308977132914475412"
     },
     "user_tz": 300
    },
    "id": "e8bc3025-d320-46fb-8a4b-e2ba478dbb30",
    "outputId": "7755ad41-0ea2-4aa9-ab33-a7aa96dd5584"
   },
   "outputs": [],
   "source": [
    "#Identify CLP with CPT codes.\n",
    "\n",
    "df2018_clp = df2018[(df2018['CPT'] == 63050) | (df2018['CONCPT1'] == 63050) | (df2018['CONCPT2'] == 63050) | (df2018['CONCPT3'] == 63050) | (df2018['CONCPT4'] == 63050) | (df2018['CONCPT5'] == 63050) | (df2018['CONCPT6'] == 63050) | (df2018['CONCPT7'] == 63050) | (df2018['CONCPT8'] == 63050) | (df2018['CONCPT9'] == 63050) | (df2018['CONCPT10'] == 63050) | (df2018['OTHERCPT1'] == 63050) | (df2018['OTHERCPT2'] == 63050) | (df2018['OTHERCPT3'] == 63050) | (df2018['OTHERCPT4'] == 63050) | (df2018['OTHERCPT5'] == 63050) | (df2018['OTHERCPT6'] == 63050) | (df2018['OTHERCPT7'] == 63050) | (df2018['OTHERCPT8'] == 63050) | (df2018['OTHERCPT9'] == 63050) | (df2018['OTHERCPT10'] == 63050) | (df2018['CPT'] == 63051) | (df2018['CONCPT1'] == 63051) | (df2018['CONCPT2'] == 63051) | (df2018['CONCPT3'] == 63051) | (df2018['CONCPT4'] == 63051) | (df2018['CONCPT5'] == 63051) | (df2018['CONCPT6'] == 63051) | (df2018['CONCPT7'] == 63051) | (df2018['CONCPT8'] == 63051) | (df2018['CONCPT9'] == 63051) | (df2018['CONCPT10'] == 63051) | (df2018['OTHERCPT1'] == 63051) | (df2018['OTHERCPT2'] == 63051) | (df2018['OTHERCPT3'] == 63051) | (df2018['OTHERCPT4'] == 63051) | (df2018['OTHERCPT5'] == 63051) | (df2018['OTHERCPT6'] == 63051) | (df2018['OTHERCPT7'] == 63051) | (df2018['OTHERCPT8'] == 63051) | (df2018['OTHERCPT9'] == 63051) | (df2018['OTHERCPT10'] == 63051)]\n",
    "print(df2018_clp.shape)"
   ]
  },
  {
   "cell_type": "code",
   "execution_count": null,
   "id": "5170bbc1-b5d3-4c09-9657-d25b0ac0ecba",
   "metadata": {
    "executionInfo": {
     "elapsed": 89289,
     "status": "ok",
     "timestamp": 1671051703460,
     "user": {
      "displayName": "Mert Karabacak",
      "userId": "14308977132914475412"
     },
     "user_tz": 300
    },
    "id": "5170bbc1-b5d3-4c09-9657-d25b0ac0ecba"
   },
   "outputs": [],
   "source": [
    "#Read 2017 data.\n",
    "\n",
    "df2017 = pd.read_csv(\"/content/drive/MyDrive/NSQIP-PUFs/NSQIP_2017.csv\", index_col = 'CaseID', encoding = 'latin1', low_memory = False)\n",
    "\n",
    "df2017.columns = map(str.upper, df2017.columns)"
   ]
  },
  {
   "cell_type": "code",
   "execution_count": null,
   "id": "992f5c92-fbb3-48d1-93de-b980c60a9ff3",
   "metadata": {
    "colab": {
     "base_uri": "https://localhost:8080/"
    },
    "executionInfo": {
     "elapsed": 11,
     "status": "ok",
     "timestamp": 1671051703461,
     "user": {
      "displayName": "Mert Karabacak",
      "userId": "14308977132914475412"
     },
     "user_tz": 300
    },
    "id": "992f5c92-fbb3-48d1-93de-b980c60a9ff3",
    "outputId": "a25b9194-5e94-4e78-eeee-f4abced6b949"
   },
   "outputs": [],
   "source": [
    "#Check 2017 data shape.\n",
    "\n",
    "df2017.shape"
   ]
  },
  {
   "cell_type": "code",
   "execution_count": null,
   "id": "37d5f575-43ab-4f3e-929a-70e0e0a75419",
   "metadata": {
    "colab": {
     "base_uri": "https://localhost:8080/"
    },
    "executionInfo": {
     "elapsed": 745,
     "status": "ok",
     "timestamp": 1671051704197,
     "user": {
      "displayName": "Mert Karabacak",
      "userId": "14308977132914475412"
     },
     "user_tz": 300
    },
    "id": "37d5f575-43ab-4f3e-929a-70e0e0a75419",
    "outputId": "cffca682-873f-4d08-df40-413a80c5c6ec"
   },
   "outputs": [],
   "source": [
    "#Identify CLP with CPT codes.\n",
    "\n",
    "df2017_clp = df2017[(df2017['CPT'] == 63050) | (df2017['CONCPT1'] == 63050) | (df2017['CONCPT2'] == 63050) | (df2017['CONCPT3'] == 63050) | (df2017['CONCPT4'] == 63050) | (df2017['CONCPT5'] == 63050) | (df2017['CONCPT6'] == 63050) | (df2017['CONCPT7'] == 63050) | (df2017['CONCPT8'] == 63050) | (df2017['CONCPT9'] == 63050) | (df2017['CONCPT10'] == 63050) | (df2017['OTHERCPT1'] == 63050) | (df2017['OTHERCPT2'] == 63050) | (df2017['OTHERCPT3'] == 63050) | (df2017['OTHERCPT4'] == 63050) | (df2017['OTHERCPT5'] == 63050) | (df2017['OTHERCPT6'] == 63050) | (df2017['OTHERCPT7'] == 63050) | (df2017['OTHERCPT8'] == 63050) | (df2017['OTHERCPT9'] == 63050) | (df2017['OTHERCPT10'] == 63050) | (df2017['CPT'] == 63051) | (df2017['CONCPT1'] == 63051) | (df2017['CONCPT2'] == 63051) | (df2017['CONCPT3'] == 63051) | (df2017['CONCPT4'] == 63051) | (df2017['CONCPT5'] == 63051) | (df2017['CONCPT6'] == 63051) | (df2017['CONCPT7'] == 63051) | (df2017['CONCPT8'] == 63051) | (df2017['CONCPT9'] == 63051) | (df2017['CONCPT10'] == 63051) | (df2017['OTHERCPT1'] == 63051) | (df2017['OTHERCPT2'] == 63051) | (df2017['OTHERCPT3'] == 63051) | (df2017['OTHERCPT4'] == 63051) | (df2017['OTHERCPT5'] == 63051) | (df2017['OTHERCPT6'] == 63051) | (df2017['OTHERCPT7'] == 63051) | (df2017['OTHERCPT8'] == 63051) | (df2017['OTHERCPT9'] == 63051) | (df2017['OTHERCPT10'] == 63051)]\n",
    "print(df2017_clp.shape)"
   ]
  },
  {
   "cell_type": "code",
   "execution_count": null,
   "id": "24ac9edb-b63f-4dae-a208-26ecf6c94b11",
   "metadata": {
    "executionInfo": {
     "elapsed": 104428,
     "status": "ok",
     "timestamp": 1671051808623,
     "user": {
      "displayName": "Mert Karabacak",
      "userId": "14308977132914475412"
     },
     "user_tz": 300
    },
    "id": "24ac9edb-b63f-4dae-a208-26ecf6c94b11"
   },
   "outputs": [],
   "source": [
    "#Read 2016 data.\n",
    "\n",
    "df2016 = pd.read_csv(\"/content/drive/MyDrive/NSQIP-PUFs/NSQIP_2016.csv\", index_col = 'CaseID', encoding = 'latin1', low_memory = False)\n",
    "\n",
    "df2016.columns = map(str.upper, df2016.columns)"
   ]
  },
  {
   "cell_type": "code",
   "execution_count": null,
   "id": "c12cee42-43df-40fc-990e-3e88acd63726",
   "metadata": {
    "colab": {
     "base_uri": "https://localhost:8080/"
    },
    "executionInfo": {
     "elapsed": 19,
     "status": "ok",
     "timestamp": 1671051808624,
     "user": {
      "displayName": "Mert Karabacak",
      "userId": "14308977132914475412"
     },
     "user_tz": 300
    },
    "id": "c12cee42-43df-40fc-990e-3e88acd63726",
    "outputId": "044ce99a-2e04-4712-86c9-ae94f651c50e"
   },
   "outputs": [],
   "source": [
    "#Check 2016 data shape.\n",
    "\n",
    "df2016.shape"
   ]
  },
  {
   "cell_type": "code",
   "execution_count": null,
   "id": "dd9866b0-c2dc-4da0-b9a6-f738f20b4e7b",
   "metadata": {
    "colab": {
     "base_uri": "https://localhost:8080/"
    },
    "executionInfo": {
     "elapsed": 723,
     "status": "ok",
     "timestamp": 1671051809332,
     "user": {
      "displayName": "Mert Karabacak",
      "userId": "14308977132914475412"
     },
     "user_tz": 300
    },
    "id": "dd9866b0-c2dc-4da0-b9a6-f738f20b4e7b",
    "outputId": "a6707261-4f31-413a-8a1f-34f22123dfe9"
   },
   "outputs": [],
   "source": [
    "#Identify CLP with CPT codes.\n",
    "\n",
    "df2016_clp = df2016[(df2016['CPT'] == 63050) | (df2016['CONCPT1'] == 63050) | (df2016['CONCPT2'] == 63050) | (df2016['CONCPT3'] == 63050) | (df2016['CONCPT4'] == 63050) | (df2016['CONCPT5'] == 63050) | (df2016['CONCPT6'] == 63050) | (df2016['CONCPT7'] == 63050) | (df2016['CONCPT8'] == 63050) | (df2016['CONCPT9'] == 63050) | (df2016['CONCPT10'] == 63050) | (df2016['OTHERCPT1'] == 63050) | (df2016['OTHERCPT2'] == 63050) | (df2016['OTHERCPT3'] == 63050) | (df2016['OTHERCPT4'] == 63050) | (df2016['OTHERCPT5'] == 63050) | (df2016['OTHERCPT6'] == 63050) | (df2016['OTHERCPT7'] == 63050) | (df2016['OTHERCPT8'] == 63050) | (df2016['OTHERCPT9'] == 63050) | (df2016['OTHERCPT10'] == 63050) | (df2016['CPT'] == 63051) | (df2016['CONCPT1'] == 63051) | (df2016['CONCPT2'] == 63051) | (df2016['CONCPT3'] == 63051) | (df2016['CONCPT4'] == 63051) | (df2016['CONCPT5'] == 63051) | (df2016['CONCPT6'] == 63051) | (df2016['CONCPT7'] == 63051) | (df2016['CONCPT8'] == 63051) | (df2016['CONCPT9'] == 63051) | (df2016['CONCPT10'] == 63051) | (df2016['OTHERCPT1'] == 63051) | (df2016['OTHERCPT2'] == 63051) | (df2016['OTHERCPT3'] == 63051) | (df2016['OTHERCPT4'] == 63051) | (df2016['OTHERCPT5'] == 63051) | (df2016['OTHERCPT6'] == 63051) | (df2016['OTHERCPT7'] == 63051) | (df2016['OTHERCPT8'] == 63051) | (df2016['OTHERCPT9'] == 63051) | (df2016['OTHERCPT10'] == 63051)]\n",
    "print(df2016_clp.shape)"
   ]
  },
  {
   "cell_type": "code",
   "execution_count": null,
   "id": "PNqVbxYrbico",
   "metadata": {
    "executionInfo": {
     "elapsed": 89037,
     "status": "ok",
     "timestamp": 1671057792742,
     "user": {
      "displayName": "Mert Karabacak",
      "userId": "14308977132914475412"
     },
     "user_tz": 300
    },
    "id": "PNqVbxYrbico"
   },
   "outputs": [],
   "source": [
    "#Read 2015 data.\n",
    "\n",
    "df2015 = pd.read_csv(\"/content/drive/MyDrive/NSQIP-PUFs/NSQIP_2015.csv\", index_col = 'CaseID', encoding = 'latin1', low_memory = False)\n",
    "\n",
    "df2015.columns = map(str.upper, df2015.columns)"
   ]
  },
  {
   "cell_type": "code",
   "execution_count": null,
   "id": "WdhB0nF3bics",
   "metadata": {
    "colab": {
     "base_uri": "https://localhost:8080/"
    },
    "executionInfo": {
     "elapsed": 15,
     "status": "ok",
     "timestamp": 1671057792743,
     "user": {
      "displayName": "Mert Karabacak",
      "userId": "14308977132914475412"
     },
     "user_tz": 300
    },
    "id": "WdhB0nF3bics",
    "outputId": "02363fda-220f-470f-e64c-75666b59919e"
   },
   "outputs": [],
   "source": [
    "#Check 2015 data shape.\n",
    "\n",
    "df2015.shape"
   ]
  },
  {
   "cell_type": "code",
   "execution_count": null,
   "id": "LHIaSQ6Kbict",
   "metadata": {
    "colab": {
     "base_uri": "https://localhost:8080/"
    },
    "executionInfo": {
     "elapsed": 597,
     "status": "ok",
     "timestamp": 1671057793334,
     "user": {
      "displayName": "Mert Karabacak",
      "userId": "14308977132914475412"
     },
     "user_tz": 300
    },
    "id": "LHIaSQ6Kbict",
    "outputId": "38f7e74d-6309-4565-d607-8bfd9bef0c1a"
   },
   "outputs": [],
   "source": [
    "#Identify CLP with CPT codes.\n",
    "\n",
    "df2015_clp = df2015[(df2015['CPT'] == 63050) | (df2015['CONCPT1'] == 63050) | (df2015['CONCPT2'] == 63050) | (df2015['CONCPT3'] == 63050) | (df2015['CONCPT4'] == 63050) | (df2015['CONCPT5'] == 63050) | (df2015['CONCPT6'] == 63050) | (df2015['CONCPT7'] == 63050) | (df2015['CONCPT8'] == 63050) | (df2015['CONCPT9'] == 63050) | (df2015['CONCPT10'] == 63050) | (df2015['OTHERCPT1'] == 63050) | (df2015['OTHERCPT2'] == 63050) | (df2015['OTHERCPT3'] == 63050) | (df2015['OTHERCPT4'] == 63050) | (df2015['OTHERCPT5'] == 63050) | (df2015['OTHERCPT6'] == 63050) | (df2015['OTHERCPT7'] == 63050) | (df2015['OTHERCPT8'] == 63050) | (df2015['OTHERCPT9'] == 63050) | (df2015['OTHERCPT10'] == 63050) | (df2015['CPT'] == 63051) | (df2015['CONCPT1'] == 63051) | (df2015['CONCPT2'] == 63051) | (df2015['CONCPT3'] == 63051) | (df2015['CONCPT4'] == 63051) | (df2015['CONCPT5'] == 63051) | (df2015['CONCPT6'] == 63051) | (df2015['CONCPT7'] == 63051) | (df2015['CONCPT8'] == 63051) | (df2015['CONCPT9'] == 63051) | (df2015['CONCPT10'] == 63051) | (df2015['OTHERCPT1'] == 63051) | (df2015['OTHERCPT2'] == 63051) | (df2015['OTHERCPT3'] == 63051) | (df2015['OTHERCPT4'] == 63051) | (df2015['OTHERCPT5'] == 63051) | (df2015['OTHERCPT6'] == 63051) | (df2015['OTHERCPT7'] == 63051) | (df2015['OTHERCPT8'] == 63051) | (df2015['OTHERCPT9'] == 63051) | (df2015['OTHERCPT10'] == 63051)]\n",
    "print(df2015_clp.shape)"
   ]
  },
  {
   "cell_type": "code",
   "execution_count": null,
   "id": "Ygph6bYVb0az",
   "metadata": {
    "executionInfo": {
     "elapsed": 74936,
     "status": "ok",
     "timestamp": 1671057868268,
     "user": {
      "displayName": "Mert Karabacak",
      "userId": "14308977132914475412"
     },
     "user_tz": 300
    },
    "id": "Ygph6bYVb0az"
   },
   "outputs": [],
   "source": [
    "#Read 2014 data.\n",
    "\n",
    "df2014 = pd.read_csv(\"/content/drive/MyDrive/NSQIP-PUFs/NSQIP_2014.csv\", index_col = 'CaseID', encoding = 'latin1', low_memory = False)\n",
    "\n",
    "df2014.columns = map(str.upper, df2014.columns)"
   ]
  },
  {
   "cell_type": "code",
   "execution_count": null,
   "id": "0JukvxH8b0Tg",
   "metadata": {
    "colab": {
     "base_uri": "https://localhost:8080/"
    },
    "executionInfo": {
     "elapsed": 11,
     "status": "ok",
     "timestamp": 1671057868269,
     "user": {
      "displayName": "Mert Karabacak",
      "userId": "14308977132914475412"
     },
     "user_tz": 300
    },
    "id": "0JukvxH8b0Tg",
    "outputId": "33849197-9dc6-495e-9508-40e236064a7c"
   },
   "outputs": [],
   "source": [
    "#Check 2014 data shape.\n",
    "\n",
    "df2014.shape"
   ]
  },
  {
   "cell_type": "code",
   "execution_count": null,
   "id": "qXjT4PLEb0LQ",
   "metadata": {
    "colab": {
     "base_uri": "https://localhost:8080/"
    },
    "executionInfo": {
     "elapsed": 988,
     "status": "ok",
     "timestamp": 1671057869247,
     "user": {
      "displayName": "Mert Karabacak",
      "userId": "14308977132914475412"
     },
     "user_tz": 300
    },
    "id": "qXjT4PLEb0LQ",
    "outputId": "5502d5f5-a4dc-4bd8-9e74-d269bda44849"
   },
   "outputs": [],
   "source": [
    "#Identify CLP with CPT codes.\n",
    "\n",
    "df2014_clp = df2014[(df2014['CPT'] == 63050) | (df2014['CONCPT1'] == 63050) | (df2014['CONCPT2'] == 63050) | (df2014['CONCPT3'] == 63050) | (df2014['CONCPT4'] == 63050) | (df2014['CONCPT5'] == 63050) | (df2014['CONCPT6'] == 63050) | (df2014['CONCPT7'] == 63050) | (df2014['CONCPT8'] == 63050) | (df2014['CONCPT9'] == 63050) | (df2014['CONCPT10'] == 63050) | (df2014['OTHERCPT1'] == 63050) | (df2014['OTHERCPT2'] == 63050) | (df2014['OTHERCPT3'] == 63050) | (df2014['OTHERCPT4'] == 63050) | (df2014['OTHERCPT5'] == 63050) | (df2014['OTHERCPT6'] == 63050) | (df2014['OTHERCPT7'] == 63050) | (df2014['OTHERCPT8'] == 63050) | (df2014['OTHERCPT9'] == 63050) | (df2014['OTHERCPT10'] == 63050) | (df2014['CPT'] == 63051) | (df2014['CONCPT1'] == 63051) | (df2014['CONCPT2'] == 63051) | (df2014['CONCPT3'] == 63051) | (df2014['CONCPT4'] == 63051) | (df2014['CONCPT5'] == 63051) | (df2014['CONCPT6'] == 63051) | (df2014['CONCPT7'] == 63051) | (df2014['CONCPT8'] == 63051) | (df2014['CONCPT9'] == 63051) | (df2014['CONCPT10'] == 63051) | (df2014['OTHERCPT1'] == 63051) | (df2014['OTHERCPT2'] == 63051) | (df2014['OTHERCPT3'] == 63051) | (df2014['OTHERCPT4'] == 63051) | (df2014['OTHERCPT5'] == 63051) | (df2014['OTHERCPT6'] == 63051) | (df2014['OTHERCPT7'] == 63051) | (df2014['OTHERCPT8'] == 63051) | (df2014['OTHERCPT9'] == 63051) | (df2014['OTHERCPT10'] == 63051)]\n",
    "print(df2014_clp.shape)"
   ]
  },
  {
   "cell_type": "code",
   "execution_count": null,
   "id": "1b7d99af-1e65-4876-af89-7255c85e4160",
   "metadata": {
    "executionInfo": {
     "elapsed": 263,
     "status": "ok",
     "timestamp": 1671057869509,
     "user": {
      "displayName": "Mert Karabacak",
      "userId": "14308977132914475412"
     },
     "user_tz": 300
    },
    "id": "1b7d99af-1e65-4876-af89-7255c85e4160"
   },
   "outputs": [],
   "source": [
    "#Combine data.\n",
    "\n",
    "dfs = [df2014_clp, df2015_clp, df2016_clp, df2017_clp, df2018_clp, df2019_clp, df2020_clp]\n",
    "\n",
    "combined = pd.concat(dfs)"
   ]
  },
  {
   "cell_type": "code",
   "execution_count": null,
   "id": "8618f193-6d71-4a63-8e03-c55a5a87c117",
   "metadata": {
    "colab": {
     "base_uri": "https://localhost:8080/"
    },
    "executionInfo": {
     "elapsed": 13,
     "status": "ok",
     "timestamp": 1671057869509,
     "user": {
      "displayName": "Mert Karabacak",
      "userId": "14308977132914475412"
     },
     "user_tz": 300
    },
    "id": "8618f193-6d71-4a63-8e03-c55a5a87c117",
    "outputId": "e8128c71-68f4-4202-912f-8a8c3a0bd30b"
   },
   "outputs": [],
   "source": [
    "#Check data shape.\n",
    "\n",
    "combined.shape"
   ]
  },
  {
   "cell_type": "code",
   "execution_count": null,
   "id": "d1fead1c-70b3-4814-9546-c1e6bfe8fa13",
   "metadata": {
    "colab": {
     "base_uri": "https://localhost:8080/",
     "height": 647
    },
    "executionInfo": {
     "elapsed": 13,
     "status": "ok",
     "timestamp": 1671057869510,
     "user": {
      "displayName": "Mert Karabacak",
      "userId": "14308977132914475412"
     },
     "user_tz": 300
    },
    "id": "d1fead1c-70b3-4814-9546-c1e6bfe8fa13",
    "outputId": "c80db401-b8aa-41f5-8b47-823c568d4266"
   },
   "outputs": [],
   "source": [
    "#See combined dataframe head.\n",
    "\n",
    "combined.head()"
   ]
  },
  {
   "cell_type": "code",
   "execution_count": null,
   "id": "9088cd6b-d531-4450-9913-37be2ac78587",
   "metadata": {
    "colab": {
     "base_uri": "https://localhost:8080/",
     "height": 647
    },
    "executionInfo": {
     "elapsed": 11,
     "status": "ok",
     "timestamp": 1671057869510,
     "user": {
      "displayName": "Mert Karabacak",
      "userId": "14308977132914475412"
     },
     "user_tz": 300
    },
    "id": "9088cd6b-d531-4450-9913-37be2ac78587",
    "outputId": "473aa704-547e-47fc-ac2b-0bbc8e143abc"
   },
   "outputs": [],
   "source": [
    "#See combined dataframe tail.\n",
    "\n",
    "combined.tail()"
   ]
  },
  {
   "cell_type": "code",
   "execution_count": null,
   "id": "cd269ba3-7d20-402e-96f1-c4394e1fef3b",
   "metadata": {
    "executionInfo": {
     "elapsed": 293,
     "status": "ok",
     "timestamp": 1671057869795,
     "user": {
      "displayName": "Mert Karabacak",
      "userId": "14308977132914475412"
     },
     "user_tz": 300
    },
    "id": "cd269ba3-7d20-402e-96f1-c4394e1fef3b"
   },
   "outputs": [],
   "source": [
    "#Save combined data.\n",
    "\n",
    "combined.to_csv('/content/drive/MyDrive/NSQIP-CLP/clp_combined.csv')"
   ]
  }
 ],
 "metadata": {
  "colab": {
   "machine_shape": "hm",
   "provenance": [
    {
     "file_id": "1DvHyPwQy7mpRwrN_rOzO-09A7CAMA0Uj",
     "timestamp": 1671032654360
    },
    {
     "file_id": "1oaw3j90w4kJTo-_wUmEj4_VwvTsD9O3r",
     "timestamp": 1670594756777
    },
    {
     "file_id": "13trwfUGkE1kSKt7ow-iCHeetffobv2nJ",
     "timestamp": 1669681277061
    },
    {
     "file_id": "https://github.com/mertkarabacak/NSQIP-ACDF/blob/main/concatenate.ipynb",
     "timestamp": 1669235177814
    }
   ]
  },
  "environment": {
   "kernel": "python3",
   "name": "common-cpu.m100",
   "type": "gcloud",
   "uri": "gcr.io/deeplearning-platform-release/base-cpu:m100"
  },
  "gpuClass": "standard",
  "kernelspec": {
   "display_name": "Python 3 (ipykernel)",
   "language": "python",
   "name": "python3"
  },
  "language_info": {
   "codemirror_mode": {
    "name": "ipython",
    "version": 3
   },
   "file_extension": ".py",
   "mimetype": "text/x-python",
   "name": "python",
   "nbconvert_exporter": "python",
   "pygments_lexer": "ipython3",
   "version": "3.9.7"
  }
 },
 "nbformat": 4,
 "nbformat_minor": 5
}
