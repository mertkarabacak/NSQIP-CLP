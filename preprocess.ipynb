{
 "cells": [
  {
   "cell_type": "code",
   "execution_count": null,
   "id": "4AZmJ6jfWEN4",
   "metadata": {
    "colab": {
     "base_uri": "https://localhost:8080/"
    },
    "executionInfo": {
     "elapsed": 1161,
     "status": "ok",
     "timestamp": 1671057881830,
     "user": {
      "displayName": "Mert Karabacak",
      "userId": "14308977132914475412"
     },
     "user_tz": 300
    },
    "id": "4AZmJ6jfWEN4",
    "outputId": "32f96479-55fd-467c-c1ee-c57b431bd638"
   },
   "outputs": [],
   "source": [
    "from google.colab import drive\n",
    "drive.mount('/content/drive')"
   ]
  },
  {
   "cell_type": "code",
   "execution_count": null,
   "id": "45bff18b",
   "metadata": {
    "executionInfo": {
     "elapsed": 2,
     "status": "ok",
     "timestamp": 1671057881831,
     "user": {
      "displayName": "Mert Karabacak",
      "userId": "14308977132914475412"
     },
     "user_tz": 300
    },
    "id": "45bff18b"
   },
   "outputs": [],
   "source": [
    "import numpy as np\n",
    "import pandas as pd\n",
    "from pandas.api.types import CategoricalDtype\n",
    "\n",
    "from sklearn.preprocessing import OneHotEncoder\n",
    "from sklearn.preprocessing import LabelEncoder\n",
    "from sklearn.preprocessing import RobustScaler\n",
    "from sklearn.preprocessing import MinMaxScaler\n",
    "from sklearn.impute import KNNImputer\n",
    "\n",
    "from matplotlib import pyplot as plt\n",
    "\n",
    "pd.set_option('display.max_rows', None)"
   ]
  },
  {
   "cell_type": "code",
   "execution_count": null,
   "id": "721c822b",
   "metadata": {
    "colab": {
     "base_uri": "https://localhost:8080/",
     "height": 681
    },
    "executionInfo": {
     "elapsed": 1009,
     "status": "ok",
     "timestamp": 1671057882838,
     "user": {
      "displayName": "Mert Karabacak",
      "userId": "14308977132914475412"
     },
     "user_tz": 300
    },
    "id": "721c822b",
    "outputId": "3fb4b84d-7600-429e-e7dd-0464d06aa6a4"
   },
   "outputs": [],
   "source": [
    "#Open csv file.\n",
    "\n",
    "data = pd.read_csv(\"/content/drive/MyDrive/NSQIP-CLP/clp_combined.csv\", index_col=0, na_values = -99)\n",
    "data.head()"
   ]
  },
  {
   "cell_type": "code",
   "execution_count": null,
   "id": "2ddf793b",
   "metadata": {
    "colab": {
     "base_uri": "https://localhost:8080/"
    },
    "executionInfo": {
     "elapsed": 20,
     "status": "ok",
     "timestamp": 1671057882838,
     "user": {
      "displayName": "Mert Karabacak",
      "userId": "14308977132914475412"
     },
     "user_tz": 300
    },
    "id": "2ddf793b",
    "outputId": "c8c2be8e-bf64-4947-ddc5-737fc431a9ad"
   },
   "outputs": [],
   "source": [
    "#See all columns.\n",
    "\n",
    "print(list(data.columns))"
   ]
  },
  {
   "cell_type": "code",
   "execution_count": null,
   "id": "6b72f120",
   "metadata": {
    "colab": {
     "base_uri": "https://localhost:8080/"
    },
    "executionInfo": {
     "elapsed": 14,
     "status": "ok",
     "timestamp": 1671057882838,
     "user": {
      "displayName": "Mert Karabacak",
      "userId": "14308977132914475412"
     },
     "user_tz": 300
    },
    "id": "6b72f120",
    "outputId": "a588072e-c588-485f-88ca-3485605138b2"
   },
   "outputs": [],
   "source": [
    "#Check data shape.\n",
    "\n",
    "data.shape"
   ]
  },
  {
   "cell_type": "code",
   "execution_count": null,
   "id": "a143c94a",
   "metadata": {
    "executionInfo": {
     "elapsed": 11,
     "status": "ok",
     "timestamp": 1671057882838,
     "user": {
      "displayName": "Mert Karabacak",
      "userId": "14308977132914475412"
     },
     "user_tz": 300
    },
    "id": "a143c94a"
   },
   "outputs": [],
   "source": [
    "#Define variables of interest (predictor variables, inclusion/exclusion criteria, outcomes of interest).\n",
    "\n",
    "variables = ['SEX', 'RACE_NEW', 'ETHNICITY_HISPANIC', 'CPT', 'INOUT', 'TRANST', 'AGE', 'DISCHDEST', 'ANESTHES', 'SURGSPEC', 'ELECTSURG', 'HEIGHT', 'WEIGHT', 'DIABETES', 'SMOKE', 'DYSPNEA', 'FNSTATUS2', 'VENTILAT', 'HXCOPD', 'ASCITES', 'HXCHF', 'HYPERMED', 'RENAFAIL', 'DIALYSIS', 'DISCANCR', 'WNDINF', 'STEROID', 'WTLOSS', 'BLEEDDIS', 'TRANSFUS', 'PRSEPIS', 'PRSODM', 'PRBUN', 'PRCREAT', 'PRALBUM', 'PRBILI', 'PRSGOT', 'PRALKPH', 'PRWBC', 'PRHCT', 'PRPLATE', 'PRPTT', 'PRINR', 'PRPT', 'OTHERCPT1', 'OTHERCPT2', 'OTHERCPT3', 'OTHERCPT4', 'OTHERCPT5', 'OTHERCPT6', 'OTHERCPT7', 'OTHERCPT8', 'OTHERCPT9', 'OTHERCPT10', 'CONCPT1', 'CONCPT2', 'CONCPT3', 'CONCPT4', 'CONCPT5', 'CONCPT6', 'CONCPT7', 'CONCPT8', 'CONCPT9', 'CONCPT10', 'EMERGNCY', 'WNDCLAS', 'ASACLAS', 'OPTIME', 'TOTHLOS', 'HTOODAY', 'NSUPINFEC', 'NWNDINFD', 'NORGSPCSSI', 'NDEHIS', 'NOUPNEUMO', 'NREINTUB', 'NPULEMBOL', 'NFAILWEAN', 'NRENAINSF', 'NOPRENAFL', 'NURNINFEC', 'NCNSCVA', 'NCDARREST', 'NCDMI', 'NOTHBLEED', 'NOTHDVT', 'NOTHSYSEP', 'NOTHSESHOCK', 'PODIAG', 'PODIAG10', 'STILLINHOSP', 'READMISSION1']"
   ]
  },
  {
   "cell_type": "code",
   "execution_count": null,
   "id": "a21a408c",
   "metadata": {
    "colab": {
     "base_uri": "https://localhost:8080/"
    },
    "executionInfo": {
     "elapsed": 12,
     "status": "ok",
     "timestamp": 1671057882839,
     "user": {
      "displayName": "Mert Karabacak",
      "userId": "14308977132914475412"
     },
     "user_tz": 300
    },
    "id": "a21a408c",
    "outputId": "d7ce70b5-a2fb-42de-f334-5058e3daa4eb"
   },
   "outputs": [],
   "source": [
    "#Remove unwanted columns and check data shape.\n",
    "\n",
    "data = data[variables]\n",
    "\n",
    "data.shape"
   ]
  },
  {
   "cell_type": "code",
   "execution_count": null,
   "id": "lrQkyLFr3jcd",
   "metadata": {
    "colab": {
     "base_uri": "https://localhost:8080/"
    },
    "executionInfo": {
     "elapsed": 438,
     "status": "ok",
     "timestamp": 1671057883270,
     "user": {
      "displayName": "Mert Karabacak",
      "userId": "14308977132914475412"
     },
     "user_tz": 300
    },
    "id": "lrQkyLFr3jcd",
    "outputId": "7f164ac6-2667-4090-9075-d3c98ac7a75b"
   },
   "outputs": [],
   "source": [
    "#Define the CPT to codes to exclude (anterior cervical procedures, thoracic and/or lumbar fusion, revision, intraspinal lesion).\n",
    "\n",
    "data.loc[data['CPT'] == 22551, 'CPT_EX'] = 'Yes'\n",
    "data.loc[data['CPT'] == 22552, 'CPT_EX'] = 'Yes'\n",
    "data.loc[data['CPT'] == 22554, 'CPT_EX'] = 'Yes'\n",
    "data.loc[data['CPT'] == 22590, 'CPT_EX'] = 'Yes'\n",
    "data.loc[data['CPT'] == 22595, 'CPT_EX'] = 'Yes'\n",
    "data.loc[data['CPT'] == 22600, 'CPT_EX'] = 'Yes'\n",
    "data.loc[data['CPT'] == 22856, 'CPT_EX'] = 'Yes'\n",
    "data.loc[data['CPT'] == 22858, 'CPT_EX'] = 'Yes'\n",
    "data.loc[data['CPT'] == 63081, 'CPT_EX'] = 'Yes'\n",
    "data.loc[data['CPT'] == 22556, 'CPT_EX'] = 'Yes'\n",
    "data.loc[data['CPT'] == 22558, 'CPT_EX'] = 'Yes'\n",
    "data.loc[data['CPT'] == 22610, 'CPT_EX'] = 'Yes'\n",
    "data.loc[data['CPT'] == 22612, 'CPT_EX'] = 'Yes'\n",
    "data.loc[data['CPT'] == 22630, 'CPT_EX'] = 'Yes'\n",
    "data.loc[data['CPT'] == 22632, 'CPT_EX'] = 'Yes'\n",
    "data.loc[data['CPT'] == 22633, 'CPT_EX'] = 'Yes'\n",
    "data.loc[data['CPT'] == 22634, 'CPT_EX'] = 'Yes'\n",
    "data.loc[data['CPT'] == 22830, 'CPT_EX'] = 'Yes'\n",
    "data.loc[data['CPT'] == 22849, 'CPT_EX'] = 'Yes'\n",
    "data.loc[data['CPT'] == 22850, 'CPT_EX'] = 'Yes'\n",
    "data.loc[data['CPT'] == 22852, 'CPT_EX'] = 'Yes'\n",
    "data.loc[data['CPT'] == 22855, 'CPT_EX'] = 'Yes'\n",
    "data.loc[data['CPT'] == 22861, 'CPT_EX'] = 'Yes'\n",
    "data.loc[data['CPT'] == 22864, 'CPT_EX'] = 'Yes'\n",
    "data.loc[data['CPT'] == 63300, 'CPT_EX'] = 'Yes'\n",
    "data.loc[data['CPT'] == 63301, 'CPT_EX'] = 'Yes'\n",
    "data.loc[data['CPT'] == 63304, 'CPT_EX'] = 'Yes'\n",
    "data.loc[data['CPT'] == 63308, 'CPT_EX'] = 'Yes'\n",
    "\n",
    "data.loc[data['CONCPT1'] == 22551, 'CPT_EX'] = 'Yes'\n",
    "data.loc[data['CONCPT1'] == 22552, 'CPT_EX'] = 'Yes'\n",
    "data.loc[data['CONCPT1'] == 22554, 'CPT_EX'] = 'Yes'\n",
    "data.loc[data['CONCPT1'] == 22590, 'CPT_EX'] = 'Yes'\n",
    "data.loc[data['CONCPT1'] == 22595, 'CPT_EX'] = 'Yes'\n",
    "data.loc[data['CONCPT1'] == 22600, 'CPT_EX'] = 'Yes'\n",
    "data.loc[data['CONCPT1'] == 22856, 'CPT_EX'] = 'Yes'\n",
    "data.loc[data['CONCPT1'] == 22858, 'CPT_EX'] = 'Yes'\n",
    "data.loc[data['CONCPT1'] == 63081, 'CPT_EX'] = 'Yes'\n",
    "data.loc[data['CONCPT1'] == 22556, 'CPT_EX'] = 'Yes'\n",
    "data.loc[data['CONCPT1'] == 22558, 'CPT_EX'] = 'Yes'\n",
    "data.loc[data['CONCPT1'] == 22610, 'CPT_EX'] = 'Yes'\n",
    "data.loc[data['CONCPT1'] == 22612, 'CPT_EX'] = 'Yes'\n",
    "data.loc[data['CONCPT1'] == 22630, 'CPT_EX'] = 'Yes'\n",
    "data.loc[data['CONCPT1'] == 22632, 'CPT_EX'] = 'Yes'\n",
    "data.loc[data['CONCPT1'] == 22633, 'CPT_EX'] = 'Yes'\n",
    "data.loc[data['CONCPT1'] == 22634, 'CPT_EX'] = 'Yes'\n",
    "data.loc[data['CONCPT1'] == 22830, 'CPT_EX'] = 'Yes'\n",
    "data.loc[data['CONCPT1'] == 22849, 'CPT_EX'] = 'Yes'\n",
    "data.loc[data['CONCPT1'] == 22850, 'CPT_EX'] = 'Yes'\n",
    "data.loc[data['CONCPT1'] == 22852, 'CPT_EX'] = 'Yes'\n",
    "data.loc[data['CONCPT1'] == 22855, 'CPT_EX'] = 'Yes'\n",
    "data.loc[data['CONCPT1'] == 22861, 'CPT_EX'] = 'Yes'\n",
    "data.loc[data['CONCPT1'] == 22864, 'CPT_EX'] = 'Yes'\n",
    "data.loc[data['CONCPT1'] == 63300, 'CPT_EX'] = 'Yes'\n",
    "data.loc[data['CONCPT1'] == 63301, 'CPT_EX'] = 'Yes'\n",
    "data.loc[data['CONCPT1'] == 63304, 'CPT_EX'] = 'Yes'\n",
    "data.loc[data['CONCPT1'] == 63308, 'CPT_EX'] = 'Yes'\n",
    "\n",
    "data.loc[data['CONCPT2'] == 22551, 'CPT_EX'] = 'Yes'\n",
    "data.loc[data['CONCPT2'] == 22552, 'CPT_EX'] = 'Yes'\n",
    "data.loc[data['CONCPT2'] == 22554, 'CPT_EX'] = 'Yes'\n",
    "data.loc[data['CONCPT2'] == 22590, 'CPT_EX'] = 'Yes'\n",
    "data.loc[data['CONCPT2'] == 22595, 'CPT_EX'] = 'Yes'\n",
    "data.loc[data['CONCPT2'] == 22600, 'CPT_EX'] = 'Yes'\n",
    "data.loc[data['CONCPT2'] == 22856, 'CPT_EX'] = 'Yes'\n",
    "data.loc[data['CONCPT2'] == 22858, 'CPT_EX'] = 'Yes'\n",
    "data.loc[data['CONCPT2'] == 63081, 'CPT_EX'] = 'Yes'\n",
    "data.loc[data['CONCPT2'] == 22556, 'CPT_EX'] = 'Yes'\n",
    "data.loc[data['CONCPT2'] == 22558, 'CPT_EX'] = 'Yes'\n",
    "data.loc[data['CONCPT2'] == 22610, 'CPT_EX'] = 'Yes'\n",
    "data.loc[data['CONCPT2'] == 22612, 'CPT_EX'] = 'Yes'\n",
    "data.loc[data['CONCPT2'] == 22630, 'CPT_EX'] = 'Yes'\n",
    "data.loc[data['CONCPT2'] == 22632, 'CPT_EX'] = 'Yes'\n",
    "data.loc[data['CONCPT2'] == 22633, 'CPT_EX'] = 'Yes'\n",
    "data.loc[data['CONCPT2'] == 22634, 'CPT_EX'] = 'Yes'\n",
    "data.loc[data['CONCPT2'] == 22830, 'CPT_EX'] = 'Yes'\n",
    "data.loc[data['CONCPT2'] == 22849, 'CPT_EX'] = 'Yes'\n",
    "data.loc[data['CONCPT2'] == 22850, 'CPT_EX'] = 'Yes'\n",
    "data.loc[data['CONCPT2'] == 22852, 'CPT_EX'] = 'Yes'\n",
    "data.loc[data['CONCPT2'] == 22855, 'CPT_EX'] = 'Yes'\n",
    "data.loc[data['CONCPT2'] == 22861, 'CPT_EX'] = 'Yes'\n",
    "data.loc[data['CONCPT2'] == 22864, 'CPT_EX'] = 'Yes'\n",
    "data.loc[data['CONCPT2'] == 63300, 'CPT_EX'] = 'Yes'\n",
    "data.loc[data['CONCPT2'] == 63301, 'CPT_EX'] = 'Yes'\n",
    "data.loc[data['CONCPT2'] == 63304, 'CPT_EX'] = 'Yes'\n",
    "data.loc[data['CONCPT2'] == 63308, 'CPT_EX'] = 'Yes'\n",
    "\n",
    "data.loc[data['CONCPT3'] == 22551, 'CPT_EX'] = 'Yes'\n",
    "data.loc[data['CONCPT3'] == 22552, 'CPT_EX'] = 'Yes'\n",
    "data.loc[data['CONCPT3'] == 22554, 'CPT_EX'] = 'Yes'\n",
    "data.loc[data['CONCPT3'] == 22590, 'CPT_EX'] = 'Yes'\n",
    "data.loc[data['CONCPT3'] == 22595, 'CPT_EX'] = 'Yes'\n",
    "data.loc[data['CONCPT3'] == 22600, 'CPT_EX'] = 'Yes'\n",
    "data.loc[data['CONCPT3'] == 22856, 'CPT_EX'] = 'Yes'\n",
    "data.loc[data['CONCPT3'] == 22858, 'CPT_EX'] = 'Yes'\n",
    "data.loc[data['CONCPT3'] == 63081, 'CPT_EX'] = 'Yes'\n",
    "data.loc[data['CONCPT3'] == 22556, 'CPT_EX'] = 'Yes'\n",
    "data.loc[data['CONCPT3'] == 22558, 'CPT_EX'] = 'Yes'\n",
    "data.loc[data['CONCPT3'] == 22610, 'CPT_EX'] = 'Yes'\n",
    "data.loc[data['CONCPT3'] == 22612, 'CPT_EX'] = 'Yes'\n",
    "data.loc[data['CONCPT3'] == 22630, 'CPT_EX'] = 'Yes'\n",
    "data.loc[data['CONCPT3'] == 22632, 'CPT_EX'] = 'Yes'\n",
    "data.loc[data['CONCPT3'] == 22633, 'CPT_EX'] = 'Yes'\n",
    "data.loc[data['CONCPT3'] == 22634, 'CPT_EX'] = 'Yes'\n",
    "data.loc[data['CONCPT3'] == 22830, 'CPT_EX'] = 'Yes'\n",
    "data.loc[data['CONCPT3'] == 22849, 'CPT_EX'] = 'Yes'\n",
    "data.loc[data['CONCPT3'] == 22850, 'CPT_EX'] = 'Yes'\n",
    "data.loc[data['CONCPT3'] == 22852, 'CPT_EX'] = 'Yes'\n",
    "data.loc[data['CONCPT3'] == 22855, 'CPT_EX'] = 'Yes'\n",
    "data.loc[data['CONCPT3'] == 22861, 'CPT_EX'] = 'Yes'\n",
    "data.loc[data['CONCPT3'] == 22864, 'CPT_EX'] = 'Yes'\n",
    "data.loc[data['CONCPT3'] == 63300, 'CPT_EX'] = 'Yes'\n",
    "data.loc[data['CONCPT3'] == 63301, 'CPT_EX'] = 'Yes'\n",
    "data.loc[data['CONCPT3'] == 63304, 'CPT_EX'] = 'Yes'\n",
    "data.loc[data['CONCPT3'] == 63308, 'CPT_EX'] = 'Yes'\n",
    "\n",
    "data.loc[data['CONCPT4'] == 22551, 'CPT_EX'] = 'Yes'\n",
    "data.loc[data['CONCPT4'] == 22552, 'CPT_EX'] = 'Yes'\n",
    "data.loc[data['CONCPT4'] == 22554, 'CPT_EX'] = 'Yes'\n",
    "data.loc[data['CONCPT4'] == 22590, 'CPT_EX'] = 'Yes'\n",
    "data.loc[data['CONCPT4'] == 22595, 'CPT_EX'] = 'Yes'\n",
    "data.loc[data['CONCPT4'] == 22600, 'CPT_EX'] = 'Yes'\n",
    "data.loc[data['CONCPT4'] == 22856, 'CPT_EX'] = 'Yes'\n",
    "data.loc[data['CONCPT4'] == 22858, 'CPT_EX'] = 'Yes'\n",
    "data.loc[data['CONCPT4'] == 63081, 'CPT_EX'] = 'Yes'\n",
    "data.loc[data['CONCPT4'] == 22556, 'CPT_EX'] = 'Yes'\n",
    "data.loc[data['CONCPT4'] == 22558, 'CPT_EX'] = 'Yes'\n",
    "data.loc[data['CONCPT4'] == 22610, 'CPT_EX'] = 'Yes'\n",
    "data.loc[data['CONCPT4'] == 22612, 'CPT_EX'] = 'Yes'\n",
    "data.loc[data['CONCPT4'] == 22630, 'CPT_EX'] = 'Yes'\n",
    "data.loc[data['CONCPT4'] == 22632, 'CPT_EX'] = 'Yes'\n",
    "data.loc[data['CONCPT4'] == 22633, 'CPT_EX'] = 'Yes'\n",
    "data.loc[data['CONCPT4'] == 22634, 'CPT_EX'] = 'Yes'\n",
    "data.loc[data['CONCPT4'] == 22830, 'CPT_EX'] = 'Yes'\n",
    "data.loc[data['CONCPT4'] == 22849, 'CPT_EX'] = 'Yes'\n",
    "data.loc[data['CONCPT4'] == 22850, 'CPT_EX'] = 'Yes'\n",
    "data.loc[data['CONCPT4'] == 22852, 'CPT_EX'] = 'Yes'\n",
    "data.loc[data['CONCPT4'] == 22855, 'CPT_EX'] = 'Yes'\n",
    "data.loc[data['CONCPT4'] == 22861, 'CPT_EX'] = 'Yes'\n",
    "data.loc[data['CONCPT4'] == 22864, 'CPT_EX'] = 'Yes'\n",
    "data.loc[data['CONCPT4'] == 63300, 'CPT_EX'] = 'Yes'\n",
    "data.loc[data['CONCPT4'] == 63301, 'CPT_EX'] = 'Yes'\n",
    "data.loc[data['CONCPT4'] == 63304, 'CPT_EX'] = 'Yes'\n",
    "data.loc[data['CONCPT4'] == 63308, 'CPT_EX'] = 'Yes'\n",
    "\n",
    "data.loc[data['CONCPT5'] == 22551, 'CPT_EX'] = 'Yes'\n",
    "data.loc[data['CONCPT5'] == 22552, 'CPT_EX'] = 'Yes'\n",
    "data.loc[data['CONCPT5'] == 22554, 'CPT_EX'] = 'Yes'\n",
    "data.loc[data['CONCPT5'] == 22590, 'CPT_EX'] = 'Yes'\n",
    "data.loc[data['CONCPT5'] == 22595, 'CPT_EX'] = 'Yes'\n",
    "data.loc[data['CONCPT5'] == 22600, 'CPT_EX'] = 'Yes'\n",
    "data.loc[data['CONCPT5'] == 22856, 'CPT_EX'] = 'Yes'\n",
    "data.loc[data['CONCPT5'] == 22858, 'CPT_EX'] = 'Yes'\n",
    "data.loc[data['CONCPT5'] == 63081, 'CPT_EX'] = 'Yes'\n",
    "data.loc[data['CONCPT5'] == 22556, 'CPT_EX'] = 'Yes'\n",
    "data.loc[data['CONCPT5'] == 22558, 'CPT_EX'] = 'Yes'\n",
    "data.loc[data['CONCPT5'] == 22610, 'CPT_EX'] = 'Yes'\n",
    "data.loc[data['CONCPT5'] == 22612, 'CPT_EX'] = 'Yes'\n",
    "data.loc[data['CONCPT5'] == 22630, 'CPT_EX'] = 'Yes'\n",
    "data.loc[data['CONCPT5'] == 22632, 'CPT_EX'] = 'Yes'\n",
    "data.loc[data['CONCPT5'] == 22633, 'CPT_EX'] = 'Yes'\n",
    "data.loc[data['CONCPT5'] == 22634, 'CPT_EX'] = 'Yes'\n",
    "data.loc[data['CONCPT5'] == 22830, 'CPT_EX'] = 'Yes'\n",
    "data.loc[data['CONCPT5'] == 22849, 'CPT_EX'] = 'Yes'\n",
    "data.loc[data['CONCPT5'] == 22850, 'CPT_EX'] = 'Yes'\n",
    "data.loc[data['CONCPT5'] == 22852, 'CPT_EX'] = 'Yes'\n",
    "data.loc[data['CONCPT5'] == 22855, 'CPT_EX'] = 'Yes'\n",
    "data.loc[data['CONCPT5'] == 22861, 'CPT_EX'] = 'Yes'\n",
    "data.loc[data['CONCPT5'] == 22864, 'CPT_EX'] = 'Yes'\n",
    "data.loc[data['CONCPT5'] == 63300, 'CPT_EX'] = 'Yes'\n",
    "data.loc[data['CONCPT5'] == 63301, 'CPT_EX'] = 'Yes'\n",
    "data.loc[data['CONCPT5'] == 63304, 'CPT_EX'] = 'Yes'\n",
    "data.loc[data['CONCPT5'] == 63308, 'CPT_EX'] = 'Yes'\n",
    "\n",
    "data.loc[data['CONCPT6'] == 22551, 'CPT_EX'] = 'Yes'\n",
    "data.loc[data['CONCPT6'] == 22552, 'CPT_EX'] = 'Yes'\n",
    "data.loc[data['CONCPT6'] == 22554, 'CPT_EX'] = 'Yes'\n",
    "data.loc[data['CONCPT6'] == 22590, 'CPT_EX'] = 'Yes'\n",
    "data.loc[data['CONCPT6'] == 22595, 'CPT_EX'] = 'Yes'\n",
    "data.loc[data['CONCPT6'] == 22600, 'CPT_EX'] = 'Yes'\n",
    "data.loc[data['CONCPT6'] == 22856, 'CPT_EX'] = 'Yes'\n",
    "data.loc[data['CONCPT6'] == 22858, 'CPT_EX'] = 'Yes'\n",
    "data.loc[data['CONCPT6'] == 63081, 'CPT_EX'] = 'Yes'\n",
    "data.loc[data['CONCPT6'] == 22556, 'CPT_EX'] = 'Yes'\n",
    "data.loc[data['CONCPT6'] == 22558, 'CPT_EX'] = 'Yes'\n",
    "data.loc[data['CONCPT6'] == 22610, 'CPT_EX'] = 'Yes'\n",
    "data.loc[data['CONCPT6'] == 22612, 'CPT_EX'] = 'Yes'\n",
    "data.loc[data['CONCPT6'] == 22630, 'CPT_EX'] = 'Yes'\n",
    "data.loc[data['CONCPT6'] == 22632, 'CPT_EX'] = 'Yes'\n",
    "data.loc[data['CONCPT6'] == 22633, 'CPT_EX'] = 'Yes'\n",
    "data.loc[data['CONCPT6'] == 22634, 'CPT_EX'] = 'Yes'\n",
    "data.loc[data['CONCPT6'] == 22830, 'CPT_EX'] = 'Yes'\n",
    "data.loc[data['CONCPT6'] == 22849, 'CPT_EX'] = 'Yes'\n",
    "data.loc[data['CONCPT6'] == 22850, 'CPT_EX'] = 'Yes'\n",
    "data.loc[data['CONCPT6'] == 22852, 'CPT_EX'] = 'Yes'\n",
    "data.loc[data['CONCPT6'] == 22855, 'CPT_EX'] = 'Yes'\n",
    "data.loc[data['CONCPT6'] == 22861, 'CPT_EX'] = 'Yes'\n",
    "data.loc[data['CONCPT6'] == 22864, 'CPT_EX'] = 'Yes'\n",
    "data.loc[data['CONCPT6'] == 63300, 'CPT_EX'] = 'Yes'\n",
    "data.loc[data['CONCPT6'] == 63301, 'CPT_EX'] = 'Yes'\n",
    "data.loc[data['CONCPT6'] == 63304, 'CPT_EX'] = 'Yes'\n",
    "data.loc[data['CONCPT6'] == 63308, 'CPT_EX'] = 'Yes'\n",
    "\n",
    "data.loc[data['CONCPT7'] == 22551, 'CPT_EX'] = 'Yes'\n",
    "data.loc[data['CONCPT7'] == 22552, 'CPT_EX'] = 'Yes'\n",
    "data.loc[data['CONCPT7'] == 22554, 'CPT_EX'] = 'Yes'\n",
    "data.loc[data['CONCPT7'] == 22590, 'CPT_EX'] = 'Yes'\n",
    "data.loc[data['CONCPT7'] == 22595, 'CPT_EX'] = 'Yes'\n",
    "data.loc[data['CONCPT7'] == 22600, 'CPT_EX'] = 'Yes'\n",
    "data.loc[data['CONCPT7'] == 22856, 'CPT_EX'] = 'Yes'\n",
    "data.loc[data['CONCPT7'] == 22858, 'CPT_EX'] = 'Yes'\n",
    "data.loc[data['CONCPT7'] == 63081, 'CPT_EX'] = 'Yes'\n",
    "data.loc[data['CONCPT7'] == 22556, 'CPT_EX'] = 'Yes'\n",
    "data.loc[data['CONCPT7'] == 22558, 'CPT_EX'] = 'Yes'\n",
    "data.loc[data['CONCPT7'] == 22610, 'CPT_EX'] = 'Yes'\n",
    "data.loc[data['CONCPT7'] == 22612, 'CPT_EX'] = 'Yes'\n",
    "data.loc[data['CONCPT7'] == 22630, 'CPT_EX'] = 'Yes'\n",
    "data.loc[data['CONCPT7'] == 22632, 'CPT_EX'] = 'Yes'\n",
    "data.loc[data['CONCPT7'] == 22633, 'CPT_EX'] = 'Yes'\n",
    "data.loc[data['CONCPT7'] == 22634, 'CPT_EX'] = 'Yes'\n",
    "data.loc[data['CONCPT7'] == 22830, 'CPT_EX'] = 'Yes'\n",
    "data.loc[data['CONCPT7'] == 22849, 'CPT_EX'] = 'Yes'\n",
    "data.loc[data['CONCPT7'] == 22850, 'CPT_EX'] = 'Yes'\n",
    "data.loc[data['CONCPT7'] == 22852, 'CPT_EX'] = 'Yes'\n",
    "data.loc[data['CONCPT7'] == 22855, 'CPT_EX'] = 'Yes'\n",
    "data.loc[data['CONCPT7'] == 22861, 'CPT_EX'] = 'Yes'\n",
    "data.loc[data['CONCPT7'] == 22864, 'CPT_EX'] = 'Yes'\n",
    "data.loc[data['CONCPT7'] == 63300, 'CPT_EX'] = 'Yes'\n",
    "data.loc[data['CONCPT7'] == 63301, 'CPT_EX'] = 'Yes'\n",
    "data.loc[data['CONCPT7'] == 63304, 'CPT_EX'] = 'Yes'\n",
    "data.loc[data['CONCPT7'] == 63308, 'CPT_EX'] = 'Yes'\n",
    "\n",
    "data.loc[data['CONCPT8'] == 22551, 'CPT_EX'] = 'Yes'\n",
    "data.loc[data['CONCPT8'] == 22552, 'CPT_EX'] = 'Yes'\n",
    "data.loc[data['CONCPT8'] == 22554, 'CPT_EX'] = 'Yes'\n",
    "data.loc[data['CONCPT8'] == 22590, 'CPT_EX'] = 'Yes'\n",
    "data.loc[data['CONCPT8'] == 22595, 'CPT_EX'] = 'Yes'\n",
    "data.loc[data['CONCPT8'] == 22600, 'CPT_EX'] = 'Yes'\n",
    "data.loc[data['CONCPT8'] == 22856, 'CPT_EX'] = 'Yes'\n",
    "data.loc[data['CONCPT8'] == 22858, 'CPT_EX'] = 'Yes'\n",
    "data.loc[data['CONCPT8'] == 63081, 'CPT_EX'] = 'Yes'\n",
    "data.loc[data['CONCPT8'] == 22556, 'CPT_EX'] = 'Yes'\n",
    "data.loc[data['CONCPT8'] == 22558, 'CPT_EX'] = 'Yes'\n",
    "data.loc[data['CONCPT8'] == 22610, 'CPT_EX'] = 'Yes'\n",
    "data.loc[data['CONCPT8'] == 22612, 'CPT_EX'] = 'Yes'\n",
    "data.loc[data['CONCPT8'] == 22630, 'CPT_EX'] = 'Yes'\n",
    "data.loc[data['CONCPT8'] == 22632, 'CPT_EX'] = 'Yes'\n",
    "data.loc[data['CONCPT8'] == 22633, 'CPT_EX'] = 'Yes'\n",
    "data.loc[data['CONCPT8'] == 22634, 'CPT_EX'] = 'Yes'\n",
    "data.loc[data['CONCPT8'] == 22830, 'CPT_EX'] = 'Yes'\n",
    "data.loc[data['CONCPT8'] == 22849, 'CPT_EX'] = 'Yes'\n",
    "data.loc[data['CONCPT8'] == 22850, 'CPT_EX'] = 'Yes'\n",
    "data.loc[data['CONCPT8'] == 22852, 'CPT_EX'] = 'Yes'\n",
    "data.loc[data['CONCPT8'] == 22855, 'CPT_EX'] = 'Yes'\n",
    "data.loc[data['CONCPT8'] == 22861, 'CPT_EX'] = 'Yes'\n",
    "data.loc[data['CONCPT8'] == 22864, 'CPT_EX'] = 'Yes'\n",
    "data.loc[data['CONCPT8'] == 63300, 'CPT_EX'] = 'Yes'\n",
    "data.loc[data['CONCPT8'] == 63301, 'CPT_EX'] = 'Yes'\n",
    "data.loc[data['CONCPT8'] == 63304, 'CPT_EX'] = 'Yes'\n",
    "data.loc[data['CONCPT8'] == 63308, 'CPT_EX'] = 'Yes'\n",
    "\n",
    "data.loc[data['CONCPT9'] == 22551, 'CPT_EX'] = 'Yes'\n",
    "data.loc[data['CONCPT9'] == 22552, 'CPT_EX'] = 'Yes'\n",
    "data.loc[data['CONCPT9'] == 22554, 'CPT_EX'] = 'Yes'\n",
    "data.loc[data['CONCPT9'] == 22590, 'CPT_EX'] = 'Yes'\n",
    "data.loc[data['CONCPT9'] == 22595, 'CPT_EX'] = 'Yes'\n",
    "data.loc[data['CONCPT9'] == 22600, 'CPT_EX'] = 'Yes'\n",
    "data.loc[data['CONCPT9'] == 22856, 'CPT_EX'] = 'Yes'\n",
    "data.loc[data['CONCPT9'] == 22858, 'CPT_EX'] = 'Yes'\n",
    "data.loc[data['CONCPT9'] == 63081, 'CPT_EX'] = 'Yes'\n",
    "data.loc[data['CONCPT9'] == 22556, 'CPT_EX'] = 'Yes'\n",
    "data.loc[data['CONCPT9'] == 22558, 'CPT_EX'] = 'Yes'\n",
    "data.loc[data['CONCPT9'] == 22610, 'CPT_EX'] = 'Yes'\n",
    "data.loc[data['CONCPT9'] == 22612, 'CPT_EX'] = 'Yes'\n",
    "data.loc[data['CONCPT9'] == 22630, 'CPT_EX'] = 'Yes'\n",
    "data.loc[data['CONCPT9'] == 22632, 'CPT_EX'] = 'Yes'\n",
    "data.loc[data['CONCPT9'] == 22633, 'CPT_EX'] = 'Yes'\n",
    "data.loc[data['CONCPT9'] == 22634, 'CPT_EX'] = 'Yes'\n",
    "data.loc[data['CONCPT9'] == 22830, 'CPT_EX'] = 'Yes'\n",
    "data.loc[data['CONCPT9'] == 22849, 'CPT_EX'] = 'Yes'\n",
    "data.loc[data['CONCPT9'] == 22850, 'CPT_EX'] = 'Yes'\n",
    "data.loc[data['CONCPT9'] == 22852, 'CPT_EX'] = 'Yes'\n",
    "data.loc[data['CONCPT9'] == 22855, 'CPT_EX'] = 'Yes'\n",
    "data.loc[data['CONCPT9'] == 22861, 'CPT_EX'] = 'Yes'\n",
    "data.loc[data['CONCPT9'] == 22864, 'CPT_EX'] = 'Yes'\n",
    "data.loc[data['CONCPT9'] == 63300, 'CPT_EX'] = 'Yes'\n",
    "data.loc[data['CONCPT9'] == 63301, 'CPT_EX'] = 'Yes'\n",
    "data.loc[data['CONCPT9'] == 63304, 'CPT_EX'] = 'Yes'\n",
    "data.loc[data['CONCPT9'] == 63308, 'CPT_EX'] = 'Yes'\n",
    "\n",
    "data.loc[data['CONCPT10'] == 22551, 'CPT_EX'] = 'Yes'\n",
    "data.loc[data['CONCPT10'] == 22552, 'CPT_EX'] = 'Yes'\n",
    "data.loc[data['CONCPT10'] == 22554, 'CPT_EX'] = 'Yes'\n",
    "data.loc[data['CONCPT10'] == 22590, 'CPT_EX'] = 'Yes'\n",
    "data.loc[data['CONCPT10'] == 22595, 'CPT_EX'] = 'Yes'\n",
    "data.loc[data['CONCPT10'] == 22600, 'CPT_EX'] = 'Yes'\n",
    "data.loc[data['CONCPT10'] == 22856, 'CPT_EX'] = 'Yes'\n",
    "data.loc[data['CONCPT10'] == 22858, 'CPT_EX'] = 'Yes'\n",
    "data.loc[data['CONCPT10'] == 63081, 'CPT_EX'] = 'Yes'\n",
    "data.loc[data['CONCPT10'] == 22556, 'CPT_EX'] = 'Yes'\n",
    "data.loc[data['CONCPT10'] == 22558, 'CPT_EX'] = 'Yes'\n",
    "data.loc[data['CONCPT10'] == 22610, 'CPT_EX'] = 'Yes'\n",
    "data.loc[data['CONCPT10'] == 22612, 'CPT_EX'] = 'Yes'\n",
    "data.loc[data['CONCPT10'] == 22630, 'CPT_EX'] = 'Yes'\n",
    "data.loc[data['CONCPT10'] == 22632, 'CPT_EX'] = 'Yes'\n",
    "data.loc[data['CONCPT10'] == 22633, 'CPT_EX'] = 'Yes'\n",
    "data.loc[data['CONCPT10'] == 22634, 'CPT_EX'] = 'Yes'\n",
    "data.loc[data['CONCPT10'] == 22830, 'CPT_EX'] = 'Yes'\n",
    "data.loc[data['CONCPT10'] == 22849, 'CPT_EX'] = 'Yes'\n",
    "data.loc[data['CONCPT10'] == 22850, 'CPT_EX'] = 'Yes'\n",
    "data.loc[data['CONCPT10'] == 22852, 'CPT_EX'] = 'Yes'\n",
    "data.loc[data['CONCPT10'] == 22855, 'CPT_EX'] = 'Yes'\n",
    "data.loc[data['CONCPT10'] == 22861, 'CPT_EX'] = 'Yes'\n",
    "data.loc[data['CONCPT10'] == 22864, 'CPT_EX'] = 'Yes'\n",
    "data.loc[data['CONCPT10'] == 63300, 'CPT_EX'] = 'Yes'\n",
    "data.loc[data['CONCPT10'] == 63301, 'CPT_EX'] = 'Yes'\n",
    "data.loc[data['CONCPT10'] == 63304, 'CPT_EX'] = 'Yes'\n",
    "data.loc[data['CONCPT10'] == 63308, 'CPT_EX'] = 'Yes'\n",
    "\n",
    "data.loc[data['OTHERCPT1'] == 22551, 'CPT_EX'] = 'Yes'\n",
    "data.loc[data['OTHERCPT1'] == 22552, 'CPT_EX'] = 'Yes'\n",
    "data.loc[data['OTHERCPT1'] == 22554, 'CPT_EX'] = 'Yes'\n",
    "data.loc[data['OTHERCPT1'] == 22590, 'CPT_EX'] = 'Yes'\n",
    "data.loc[data['OTHERCPT1'] == 22595, 'CPT_EX'] = 'Yes'\n",
    "data.loc[data['OTHERCPT1'] == 22600, 'CPT_EX'] = 'Yes'\n",
    "data.loc[data['OTHERCPT1'] == 22856, 'CPT_EX'] = 'Yes'\n",
    "data.loc[data['OTHERCPT1'] == 22858, 'CPT_EX'] = 'Yes'\n",
    "data.loc[data['OTHERCPT1'] == 63081, 'CPT_EX'] = 'Yes'\n",
    "data.loc[data['OTHERCPT1'] == 22556, 'CPT_EX'] = 'Yes'\n",
    "data.loc[data['OTHERCPT1'] == 22558, 'CPT_EX'] = 'Yes'\n",
    "data.loc[data['OTHERCPT1'] == 22610, 'CPT_EX'] = 'Yes'\n",
    "data.loc[data['OTHERCPT1'] == 22612, 'CPT_EX'] = 'Yes'\n",
    "data.loc[data['OTHERCPT1'] == 22630, 'CPT_EX'] = 'Yes'\n",
    "data.loc[data['OTHERCPT1'] == 22632, 'CPT_EX'] = 'Yes'\n",
    "data.loc[data['OTHERCPT1'] == 22633, 'CPT_EX'] = 'Yes'\n",
    "data.loc[data['OTHERCPT1'] == 22634, 'CPT_EX'] = 'Yes'\n",
    "data.loc[data['OTHERCPT1'] == 22830, 'CPT_EX'] = 'Yes'\n",
    "data.loc[data['OTHERCPT1'] == 22849, 'CPT_EX'] = 'Yes'\n",
    "data.loc[data['OTHERCPT1'] == 22850, 'CPT_EX'] = 'Yes'\n",
    "data.loc[data['OTHERCPT1'] == 22852, 'CPT_EX'] = 'Yes'\n",
    "data.loc[data['OTHERCPT1'] == 22855, 'CPT_EX'] = 'Yes'\n",
    "data.loc[data['OTHERCPT1'] == 22861, 'CPT_EX'] = 'Yes'\n",
    "data.loc[data['OTHERCPT1'] == 22864, 'CPT_EX'] = 'Yes'\n",
    "data.loc[data['OTHERCPT1'] == 63300, 'CPT_EX'] = 'Yes'\n",
    "data.loc[data['OTHERCPT1'] == 63301, 'CPT_EX'] = 'Yes'\n",
    "data.loc[data['OTHERCPT1'] == 63304, 'CPT_EX'] = 'Yes'\n",
    "data.loc[data['OTHERCPT1'] == 63308, 'CPT_EX'] = 'Yes'\n",
    "\n",
    "data.loc[data['OTHERCPT2'] == 22551, 'CPT_EX'] = 'Yes'\n",
    "data.loc[data['OTHERCPT2'] == 22552, 'CPT_EX'] = 'Yes'\n",
    "data.loc[data['OTHERCPT2'] == 22554, 'CPT_EX'] = 'Yes'\n",
    "data.loc[data['OTHERCPT2'] == 22590, 'CPT_EX'] = 'Yes'\n",
    "data.loc[data['OTHERCPT2'] == 22595, 'CPT_EX'] = 'Yes'\n",
    "data.loc[data['OTHERCPT2'] == 22600, 'CPT_EX'] = 'Yes'\n",
    "data.loc[data['OTHERCPT2'] == 22856, 'CPT_EX'] = 'Yes'\n",
    "data.loc[data['OTHERCPT2'] == 22858, 'CPT_EX'] = 'Yes'\n",
    "data.loc[data['OTHERCPT2'] == 63081, 'CPT_EX'] = 'Yes'\n",
    "data.loc[data['OTHERCPT2'] == 22556, 'CPT_EX'] = 'Yes'\n",
    "data.loc[data['OTHERCPT2'] == 22558, 'CPT_EX'] = 'Yes'\n",
    "data.loc[data['OTHERCPT2'] == 22610, 'CPT_EX'] = 'Yes'\n",
    "data.loc[data['OTHERCPT2'] == 22612, 'CPT_EX'] = 'Yes'\n",
    "data.loc[data['OTHERCPT2'] == 22630, 'CPT_EX'] = 'Yes'\n",
    "data.loc[data['OTHERCPT2'] == 22632, 'CPT_EX'] = 'Yes'\n",
    "data.loc[data['OTHERCPT2'] == 22633, 'CPT_EX'] = 'Yes'\n",
    "data.loc[data['OTHERCPT2'] == 22634, 'CPT_EX'] = 'Yes'\n",
    "data.loc[data['OTHERCPT2'] == 22830, 'CPT_EX'] = 'Yes'\n",
    "data.loc[data['OTHERCPT2'] == 22849, 'CPT_EX'] = 'Yes'\n",
    "data.loc[data['OTHERCPT2'] == 22850, 'CPT_EX'] = 'Yes'\n",
    "data.loc[data['OTHERCPT2'] == 22852, 'CPT_EX'] = 'Yes'\n",
    "data.loc[data['OTHERCPT2'] == 22855, 'CPT_EX'] = 'Yes'\n",
    "data.loc[data['OTHERCPT2'] == 22861, 'CPT_EX'] = 'Yes'\n",
    "data.loc[data['OTHERCPT2'] == 22864, 'CPT_EX'] = 'Yes'\n",
    "data.loc[data['OTHERCPT2'] == 63300, 'CPT_EX'] = 'Yes'\n",
    "data.loc[data['OTHERCPT2'] == 63301, 'CPT_EX'] = 'Yes'\n",
    "data.loc[data['OTHERCPT2'] == 63304, 'CPT_EX'] = 'Yes'\n",
    "data.loc[data['OTHERCPT2'] == 63308, 'CPT_EX'] = 'Yes'\n",
    "\n",
    "data.loc[data['OTHERCPT3'] == 22551, 'CPT_EX'] = 'Yes'\n",
    "data.loc[data['OTHERCPT3'] == 22552, 'CPT_EX'] = 'Yes'\n",
    "data.loc[data['OTHERCPT3'] == 22554, 'CPT_EX'] = 'Yes'\n",
    "data.loc[data['OTHERCPT3'] == 22590, 'CPT_EX'] = 'Yes'\n",
    "data.loc[data['OTHERCPT3'] == 22595, 'CPT_EX'] = 'Yes'\n",
    "data.loc[data['OTHERCPT3'] == 22600, 'CPT_EX'] = 'Yes'\n",
    "data.loc[data['OTHERCPT3'] == 22856, 'CPT_EX'] = 'Yes'\n",
    "data.loc[data['OTHERCPT3'] == 22858, 'CPT_EX'] = 'Yes'\n",
    "data.loc[data['OTHERCPT3'] == 63081, 'CPT_EX'] = 'Yes'\n",
    "data.loc[data['OTHERCPT3'] == 22556, 'CPT_EX'] = 'Yes'\n",
    "data.loc[data['OTHERCPT3'] == 22558, 'CPT_EX'] = 'Yes'\n",
    "data.loc[data['OTHERCPT3'] == 22610, 'CPT_EX'] = 'Yes'\n",
    "data.loc[data['OTHERCPT3'] == 22612, 'CPT_EX'] = 'Yes'\n",
    "data.loc[data['OTHERCPT3'] == 22630, 'CPT_EX'] = 'Yes'\n",
    "data.loc[data['OTHERCPT3'] == 22632, 'CPT_EX'] = 'Yes'\n",
    "data.loc[data['OTHERCPT3'] == 22633, 'CPT_EX'] = 'Yes'\n",
    "data.loc[data['OTHERCPT3'] == 22634, 'CPT_EX'] = 'Yes'\n",
    "data.loc[data['OTHERCPT3'] == 22830, 'CPT_EX'] = 'Yes'\n",
    "data.loc[data['OTHERCPT3'] == 22849, 'CPT_EX'] = 'Yes'\n",
    "data.loc[data['OTHERCPT3'] == 22850, 'CPT_EX'] = 'Yes'\n",
    "data.loc[data['OTHERCPT3'] == 22852, 'CPT_EX'] = 'Yes'\n",
    "data.loc[data['OTHERCPT3'] == 22855, 'CPT_EX'] = 'Yes'\n",
    "data.loc[data['OTHERCPT3'] == 22861, 'CPT_EX'] = 'Yes'\n",
    "data.loc[data['OTHERCPT3'] == 22864, 'CPT_EX'] = 'Yes'\n",
    "data.loc[data['OTHERCPT3'] == 63300, 'CPT_EX'] = 'Yes'\n",
    "data.loc[data['OTHERCPT3'] == 63301, 'CPT_EX'] = 'Yes'\n",
    "data.loc[data['OTHERCPT3'] == 63304, 'CPT_EX'] = 'Yes'\n",
    "data.loc[data['OTHERCPT3'] == 63308, 'CPT_EX'] = 'Yes'\n",
    "\n",
    "data.loc[data['OTHERCPT4'] == 22551, 'CPT_EX'] = 'Yes'\n",
    "data.loc[data['OTHERCPT4'] == 22552, 'CPT_EX'] = 'Yes'\n",
    "data.loc[data['OTHERCPT4'] == 22554, 'CPT_EX'] = 'Yes'\n",
    "data.loc[data['OTHERCPT4'] == 22590, 'CPT_EX'] = 'Yes'\n",
    "data.loc[data['OTHERCPT4'] == 22595, 'CPT_EX'] = 'Yes'\n",
    "data.loc[data['OTHERCPT4'] == 22600, 'CPT_EX'] = 'Yes'\n",
    "data.loc[data['OTHERCPT4'] == 22856, 'CPT_EX'] = 'Yes'\n",
    "data.loc[data['OTHERCPT4'] == 22858, 'CPT_EX'] = 'Yes'\n",
    "data.loc[data['OTHERCPT4'] == 63081, 'CPT_EX'] = 'Yes'\n",
    "data.loc[data['OTHERCPT4'] == 22556, 'CPT_EX'] = 'Yes'\n",
    "data.loc[data['OTHERCPT4'] == 22558, 'CPT_EX'] = 'Yes'\n",
    "data.loc[data['OTHERCPT4'] == 22610, 'CPT_EX'] = 'Yes'\n",
    "data.loc[data['OTHERCPT4'] == 22612, 'CPT_EX'] = 'Yes'\n",
    "data.loc[data['OTHERCPT4'] == 22630, 'CPT_EX'] = 'Yes'\n",
    "data.loc[data['OTHERCPT4'] == 22632, 'CPT_EX'] = 'Yes'\n",
    "data.loc[data['OTHERCPT4'] == 22633, 'CPT_EX'] = 'Yes'\n",
    "data.loc[data['OTHERCPT4'] == 22634, 'CPT_EX'] = 'Yes'\n",
    "data.loc[data['OTHERCPT4'] == 22830, 'CPT_EX'] = 'Yes'\n",
    "data.loc[data['OTHERCPT4'] == 22849, 'CPT_EX'] = 'Yes'\n",
    "data.loc[data['OTHERCPT4'] == 22850, 'CPT_EX'] = 'Yes'\n",
    "data.loc[data['OTHERCPT4'] == 22852, 'CPT_EX'] = 'Yes'\n",
    "data.loc[data['OTHERCPT4'] == 22855, 'CPT_EX'] = 'Yes'\n",
    "data.loc[data['OTHERCPT4'] == 22861, 'CPT_EX'] = 'Yes'\n",
    "data.loc[data['OTHERCPT4'] == 22864, 'CPT_EX'] = 'Yes'\n",
    "data.loc[data['OTHERCPT4'] == 63300, 'CPT_EX'] = 'Yes'\n",
    "data.loc[data['OTHERCPT4'] == 63301, 'CPT_EX'] = 'Yes'\n",
    "data.loc[data['OTHERCPT4'] == 63304, 'CPT_EX'] = 'Yes'\n",
    "data.loc[data['OTHERCPT4'] == 63308, 'CPT_EX'] = 'Yes'\n",
    "\n",
    "data.loc[data['OTHERCPT5'] == 22551, 'CPT_EX'] = 'Yes'\n",
    "data.loc[data['OTHERCPT5'] == 22552, 'CPT_EX'] = 'Yes'\n",
    "data.loc[data['OTHERCPT5'] == 22554, 'CPT_EX'] = 'Yes'\n",
    "data.loc[data['OTHERCPT5'] == 22590, 'CPT_EX'] = 'Yes'\n",
    "data.loc[data['OTHERCPT5'] == 22595, 'CPT_EX'] = 'Yes'\n",
    "data.loc[data['OTHERCPT5'] == 22600, 'CPT_EX'] = 'Yes'\n",
    "data.loc[data['OTHERCPT5'] == 22856, 'CPT_EX'] = 'Yes'\n",
    "data.loc[data['OTHERCPT5'] == 22858, 'CPT_EX'] = 'Yes'\n",
    "data.loc[data['OTHERCPT5'] == 63081, 'CPT_EX'] = 'Yes'\n",
    "data.loc[data['OTHERCPT5'] == 22556, 'CPT_EX'] = 'Yes'\n",
    "data.loc[data['OTHERCPT5'] == 22558, 'CPT_EX'] = 'Yes'\n",
    "data.loc[data['OTHERCPT5'] == 22610, 'CPT_EX'] = 'Yes'\n",
    "data.loc[data['OTHERCPT5'] == 22612, 'CPT_EX'] = 'Yes'\n",
    "data.loc[data['OTHERCPT5'] == 22630, 'CPT_EX'] = 'Yes'\n",
    "data.loc[data['OTHERCPT5'] == 22632, 'CPT_EX'] = 'Yes'\n",
    "data.loc[data['OTHERCPT5'] == 22633, 'CPT_EX'] = 'Yes'\n",
    "data.loc[data['OTHERCPT5'] == 22634, 'CPT_EX'] = 'Yes'\n",
    "data.loc[data['OTHERCPT5'] == 22830, 'CPT_EX'] = 'Yes'\n",
    "data.loc[data['OTHERCPT5'] == 22849, 'CPT_EX'] = 'Yes'\n",
    "data.loc[data['OTHERCPT5'] == 22850, 'CPT_EX'] = 'Yes'\n",
    "data.loc[data['OTHERCPT5'] == 22852, 'CPT_EX'] = 'Yes'\n",
    "data.loc[data['OTHERCPT5'] == 22855, 'CPT_EX'] = 'Yes'\n",
    "data.loc[data['OTHERCPT5'] == 22861, 'CPT_EX'] = 'Yes'\n",
    "data.loc[data['OTHERCPT5'] == 22864, 'CPT_EX'] = 'Yes'\n",
    "data.loc[data['OTHERCPT5'] == 63300, 'CPT_EX'] = 'Yes'\n",
    "data.loc[data['OTHERCPT5'] == 63301, 'CPT_EX'] = 'Yes'\n",
    "data.loc[data['OTHERCPT5'] == 63304, 'CPT_EX'] = 'Yes'\n",
    "data.loc[data['OTHERCPT5'] == 63308, 'CPT_EX'] = 'Yes'\n",
    "\n",
    "data.loc[data['OTHERCPT6'] == 22551, 'CPT_EX'] = 'Yes'\n",
    "data.loc[data['OTHERCPT6'] == 22552, 'CPT_EX'] = 'Yes'\n",
    "data.loc[data['OTHERCPT6'] == 22554, 'CPT_EX'] = 'Yes'\n",
    "data.loc[data['OTHERCPT6'] == 22590, 'CPT_EX'] = 'Yes'\n",
    "data.loc[data['OTHERCPT6'] == 22595, 'CPT_EX'] = 'Yes'\n",
    "data.loc[data['OTHERCPT6'] == 22600, 'CPT_EX'] = 'Yes'\n",
    "data.loc[data['OTHERCPT6'] == 22856, 'CPT_EX'] = 'Yes'\n",
    "data.loc[data['OTHERCPT6'] == 22858, 'CPT_EX'] = 'Yes'\n",
    "data.loc[data['OTHERCPT6'] == 63081, 'CPT_EX'] = 'Yes'\n",
    "data.loc[data['OTHERCPT6'] == 22556, 'CPT_EX'] = 'Yes'\n",
    "data.loc[data['OTHERCPT6'] == 22558, 'CPT_EX'] = 'Yes'\n",
    "data.loc[data['OTHERCPT6'] == 22610, 'CPT_EX'] = 'Yes'\n",
    "data.loc[data['OTHERCPT6'] == 22612, 'CPT_EX'] = 'Yes'\n",
    "data.loc[data['OTHERCPT6'] == 22630, 'CPT_EX'] = 'Yes'\n",
    "data.loc[data['OTHERCPT6'] == 22632, 'CPT_EX'] = 'Yes'\n",
    "data.loc[data['OTHERCPT6'] == 22633, 'CPT_EX'] = 'Yes'\n",
    "data.loc[data['OTHERCPT6'] == 22634, 'CPT_EX'] = 'Yes'\n",
    "data.loc[data['OTHERCPT6'] == 22830, 'CPT_EX'] = 'Yes'\n",
    "data.loc[data['OTHERCPT6'] == 22849, 'CPT_EX'] = 'Yes'\n",
    "data.loc[data['OTHERCPT6'] == 22850, 'CPT_EX'] = 'Yes'\n",
    "data.loc[data['OTHERCPT6'] == 22852, 'CPT_EX'] = 'Yes'\n",
    "data.loc[data['OTHERCPT6'] == 22855, 'CPT_EX'] = 'Yes'\n",
    "data.loc[data['OTHERCPT6'] == 22861, 'CPT_EX'] = 'Yes'\n",
    "data.loc[data['OTHERCPT6'] == 22864, 'CPT_EX'] = 'Yes'\n",
    "data.loc[data['OTHERCPT6'] == 63300, 'CPT_EX'] = 'Yes'\n",
    "data.loc[data['OTHERCPT6'] == 63301, 'CPT_EX'] = 'Yes'\n",
    "data.loc[data['OTHERCPT6'] == 63304, 'CPT_EX'] = 'Yes'\n",
    "data.loc[data['OTHERCPT6'] == 63308, 'CPT_EX'] = 'Yes'\n",
    "\n",
    "data.loc[data['OTHERCPT7'] == 22551, 'CPT_EX'] = 'Yes'\n",
    "data.loc[data['OTHERCPT7'] == 22552, 'CPT_EX'] = 'Yes'\n",
    "data.loc[data['OTHERCPT7'] == 22554, 'CPT_EX'] = 'Yes'\n",
    "data.loc[data['OTHERCPT7'] == 22590, 'CPT_EX'] = 'Yes'\n",
    "data.loc[data['OTHERCPT7'] == 22595, 'CPT_EX'] = 'Yes'\n",
    "data.loc[data['OTHERCPT7'] == 22600, 'CPT_EX'] = 'Yes'\n",
    "data.loc[data['OTHERCPT7'] == 22856, 'CPT_EX'] = 'Yes'\n",
    "data.loc[data['OTHERCPT7'] == 22858, 'CPT_EX'] = 'Yes'\n",
    "data.loc[data['OTHERCPT7'] == 63081, 'CPT_EX'] = 'Yes'\n",
    "data.loc[data['OTHERCPT7'] == 22556, 'CPT_EX'] = 'Yes'\n",
    "data.loc[data['OTHERCPT7'] == 22558, 'CPT_EX'] = 'Yes'\n",
    "data.loc[data['OTHERCPT7'] == 22610, 'CPT_EX'] = 'Yes'\n",
    "data.loc[data['OTHERCPT7'] == 22612, 'CPT_EX'] = 'Yes'\n",
    "data.loc[data['OTHERCPT7'] == 22630, 'CPT_EX'] = 'Yes'\n",
    "data.loc[data['OTHERCPT7'] == 22632, 'CPT_EX'] = 'Yes'\n",
    "data.loc[data['OTHERCPT7'] == 22633, 'CPT_EX'] = 'Yes'\n",
    "data.loc[data['OTHERCPT7'] == 22634, 'CPT_EX'] = 'Yes'\n",
    "data.loc[data['OTHERCPT7'] == 22830, 'CPT_EX'] = 'Yes'\n",
    "data.loc[data['OTHERCPT7'] == 22849, 'CPT_EX'] = 'Yes'\n",
    "data.loc[data['OTHERCPT7'] == 22850, 'CPT_EX'] = 'Yes'\n",
    "data.loc[data['OTHERCPT7'] == 22852, 'CPT_EX'] = 'Yes'\n",
    "data.loc[data['OTHERCPT7'] == 22855, 'CPT_EX'] = 'Yes'\n",
    "data.loc[data['OTHERCPT7'] == 22861, 'CPT_EX'] = 'Yes'\n",
    "data.loc[data['OTHERCPT7'] == 22864, 'CPT_EX'] = 'Yes'\n",
    "data.loc[data['OTHERCPT7'] == 63300, 'CPT_EX'] = 'Yes'\n",
    "data.loc[data['OTHERCPT7'] == 63301, 'CPT_EX'] = 'Yes'\n",
    "data.loc[data['OTHERCPT7'] == 63304, 'CPT_EX'] = 'Yes'\n",
    "data.loc[data['OTHERCPT7'] == 63308, 'CPT_EX'] = 'Yes'\n",
    "\n",
    "data.loc[data['OTHERCPT8'] == 22551, 'CPT_EX'] = 'Yes'\n",
    "data.loc[data['OTHERCPT8'] == 22552, 'CPT_EX'] = 'Yes'\n",
    "data.loc[data['OTHERCPT8'] == 22554, 'CPT_EX'] = 'Yes'\n",
    "data.loc[data['OTHERCPT8'] == 22590, 'CPT_EX'] = 'Yes'\n",
    "data.loc[data['OTHERCPT8'] == 22595, 'CPT_EX'] = 'Yes'\n",
    "data.loc[data['OTHERCPT8'] == 22600, 'CPT_EX'] = 'Yes'\n",
    "data.loc[data['OTHERCPT8'] == 22856, 'CPT_EX'] = 'Yes'\n",
    "data.loc[data['OTHERCPT8'] == 22858, 'CPT_EX'] = 'Yes'\n",
    "data.loc[data['OTHERCPT8'] == 63081, 'CPT_EX'] = 'Yes'\n",
    "data.loc[data['OTHERCPT8'] == 22556, 'CPT_EX'] = 'Yes'\n",
    "data.loc[data['OTHERCPT8'] == 22558, 'CPT_EX'] = 'Yes'\n",
    "data.loc[data['OTHERCPT8'] == 22610, 'CPT_EX'] = 'Yes'\n",
    "data.loc[data['OTHERCPT8'] == 22612, 'CPT_EX'] = 'Yes'\n",
    "data.loc[data['OTHERCPT8'] == 22630, 'CPT_EX'] = 'Yes'\n",
    "data.loc[data['OTHERCPT8'] == 22632, 'CPT_EX'] = 'Yes'\n",
    "data.loc[data['OTHERCPT8'] == 22633, 'CPT_EX'] = 'Yes'\n",
    "data.loc[data['OTHERCPT8'] == 22634, 'CPT_EX'] = 'Yes'\n",
    "data.loc[data['OTHERCPT8'] == 22830, 'CPT_EX'] = 'Yes'\n",
    "data.loc[data['OTHERCPT8'] == 22849, 'CPT_EX'] = 'Yes'\n",
    "data.loc[data['OTHERCPT8'] == 22850, 'CPT_EX'] = 'Yes'\n",
    "data.loc[data['OTHERCPT8'] == 22852, 'CPT_EX'] = 'Yes'\n",
    "data.loc[data['OTHERCPT8'] == 22855, 'CPT_EX'] = 'Yes'\n",
    "data.loc[data['OTHERCPT8'] == 22861, 'CPT_EX'] = 'Yes'\n",
    "data.loc[data['OTHERCPT8'] == 22864, 'CPT_EX'] = 'Yes'\n",
    "data.loc[data['OTHERCPT8'] == 63300, 'CPT_EX'] = 'Yes'\n",
    "data.loc[data['OTHERCPT8'] == 63301, 'CPT_EX'] = 'Yes'\n",
    "data.loc[data['OTHERCPT8'] == 63304, 'CPT_EX'] = 'Yes'\n",
    "data.loc[data['OTHERCPT8'] == 63308, 'CPT_EX'] = 'Yes'\n",
    "\n",
    "data.loc[data['OTHERCPT9'] == 22551, 'CPT_EX'] = 'Yes'\n",
    "data.loc[data['OTHERCPT9'] == 22552, 'CPT_EX'] = 'Yes'\n",
    "data.loc[data['OTHERCPT9'] == 22554, 'CPT_EX'] = 'Yes'\n",
    "data.loc[data['OTHERCPT9'] == 22590, 'CPT_EX'] = 'Yes'\n",
    "data.loc[data['OTHERCPT9'] == 22595, 'CPT_EX'] = 'Yes'\n",
    "data.loc[data['OTHERCPT9'] == 22600, 'CPT_EX'] = 'Yes'\n",
    "data.loc[data['OTHERCPT9'] == 22856, 'CPT_EX'] = 'Yes'\n",
    "data.loc[data['OTHERCPT9'] == 22858, 'CPT_EX'] = 'Yes'\n",
    "data.loc[data['OTHERCPT9'] == 63081, 'CPT_EX'] = 'Yes'\n",
    "data.loc[data['OTHERCPT9'] == 22556, 'CPT_EX'] = 'Yes'\n",
    "data.loc[data['OTHERCPT9'] == 22558, 'CPT_EX'] = 'Yes'\n",
    "data.loc[data['OTHERCPT9'] == 22610, 'CPT_EX'] = 'Yes'\n",
    "data.loc[data['OTHERCPT9'] == 22612, 'CPT_EX'] = 'Yes'\n",
    "data.loc[data['OTHERCPT9'] == 22630, 'CPT_EX'] = 'Yes'\n",
    "data.loc[data['OTHERCPT9'] == 22632, 'CPT_EX'] = 'Yes'\n",
    "data.loc[data['OTHERCPT9'] == 22633, 'CPT_EX'] = 'Yes'\n",
    "data.loc[data['OTHERCPT9'] == 22634, 'CPT_EX'] = 'Yes'\n",
    "data.loc[data['OTHERCPT9'] == 22830, 'CPT_EX'] = 'Yes'\n",
    "data.loc[data['OTHERCPT9'] == 22849, 'CPT_EX'] = 'Yes'\n",
    "data.loc[data['OTHERCPT9'] == 22850, 'CPT_EX'] = 'Yes'\n",
    "data.loc[data['OTHERCPT9'] == 22852, 'CPT_EX'] = 'Yes'\n",
    "data.loc[data['OTHERCPT9'] == 22855, 'CPT_EX'] = 'Yes'\n",
    "data.loc[data['OTHERCPT9'] == 22861, 'CPT_EX'] = 'Yes'\n",
    "data.loc[data['OTHERCPT9'] == 22864, 'CPT_EX'] = 'Yes'\n",
    "data.loc[data['OTHERCPT9'] == 63300, 'CPT_EX'] = 'Yes'\n",
    "data.loc[data['OTHERCPT9'] == 63301, 'CPT_EX'] = 'Yes'\n",
    "data.loc[data['OTHERCPT9'] == 63304, 'CPT_EX'] = 'Yes'\n",
    "data.loc[data['OTHERCPT9'] == 63308, 'CPT_EX'] = 'Yes'\n",
    "\n",
    "data.loc[data['OTHERCPT10'] == 22551, 'CPT_EX'] = 'Yes'\n",
    "data.loc[data['OTHERCPT10'] == 22552, 'CPT_EX'] = 'Yes'\n",
    "data.loc[data['OTHERCPT10'] == 22554, 'CPT_EX'] = 'Yes'\n",
    "data.loc[data['OTHERCPT10'] == 22590, 'CPT_EX'] = 'Yes'\n",
    "data.loc[data['OTHERCPT10'] == 22595, 'CPT_EX'] = 'Yes'\n",
    "data.loc[data['OTHERCPT10'] == 22600, 'CPT_EX'] = 'Yes'\n",
    "data.loc[data['OTHERCPT10'] == 22856, 'CPT_EX'] = 'Yes'\n",
    "data.loc[data['OTHERCPT10'] == 22858, 'CPT_EX'] = 'Yes'\n",
    "data.loc[data['OTHERCPT10'] == 63081, 'CPT_EX'] = 'Yes'\n",
    "data.loc[data['OTHERCPT10'] == 22556, 'CPT_EX'] = 'Yes'\n",
    "data.loc[data['OTHERCPT10'] == 22558, 'CPT_EX'] = 'Yes'\n",
    "data.loc[data['OTHERCPT10'] == 22610, 'CPT_EX'] = 'Yes'\n",
    "data.loc[data['OTHERCPT10'] == 22612, 'CPT_EX'] = 'Yes'\n",
    "data.loc[data['OTHERCPT10'] == 22630, 'CPT_EX'] = 'Yes'\n",
    "data.loc[data['OTHERCPT10'] == 22632, 'CPT_EX'] = 'Yes'\n",
    "data.loc[data['OTHERCPT10'] == 22633, 'CPT_EX'] = 'Yes'\n",
    "data.loc[data['OTHERCPT10'] == 22634, 'CPT_EX'] = 'Yes'\n",
    "data.loc[data['OTHERCPT10'] == 22830, 'CPT_EX'] = 'Yes'\n",
    "data.loc[data['OTHERCPT10'] == 22849, 'CPT_EX'] = 'Yes'\n",
    "data.loc[data['OTHERCPT10'] == 22850, 'CPT_EX'] = 'Yes'\n",
    "data.loc[data['OTHERCPT10'] == 22852, 'CPT_EX'] = 'Yes'\n",
    "data.loc[data['OTHERCPT10'] == 22855, 'CPT_EX'] = 'Yes'\n",
    "data.loc[data['OTHERCPT10'] == 22861, 'CPT_EX'] = 'Yes'\n",
    "data.loc[data['OTHERCPT10'] == 22864, 'CPT_EX'] = 'Yes'\n",
    "data.loc[data['OTHERCPT10'] == 63300, 'CPT_EX'] = 'Yes'\n",
    "data.loc[data['OTHERCPT10'] == 63301, 'CPT_EX'] = 'Yes'\n",
    "data.loc[data['OTHERCPT10'] == 63304, 'CPT_EX'] = 'Yes'\n",
    "data.loc[data['OTHERCPT10'] == 63308, 'CPT_EX'] = 'Yes'\n",
    "\n",
    "data.loc[data['CPT_EX'] != 'Yes', 'CPT_EX'] = 'No'\n",
    "\n",
    "data['CPT_EX'].value_counts(dropna=False)"
   ]
  },
  {
   "cell_type": "code",
   "execution_count": null,
   "id": "8KKrPQHK9Uz4",
   "metadata": {
    "colab": {
     "base_uri": "https://localhost:8080/"
    },
    "executionInfo": {
     "elapsed": 40,
     "status": "ok",
     "timestamp": 1671057883270,
     "user": {
      "displayName": "Mert Karabacak",
      "userId": "14308977132914475412"
     },
     "user_tz": 300
    },
    "id": "8KKrPQHK9Uz4",
    "outputId": "fe0605c2-1f86-4581-883f-960c2df3525f"
   },
   "outputs": [],
   "source": [
    "#Exclude patients with CPT codes that were assigned to be excluding.\n",
    "\n",
    "data = data[(data['CPT_EX'] == 'No')]\n",
    "\n",
    "data['CPT_EX'].value_counts(normalize=False, dropna=False)"
   ]
  },
  {
   "cell_type": "code",
   "execution_count": null,
   "id": "6c426cf1-c714-425d-b996-38a92517dcd3",
   "metadata": {
    "colab": {
     "base_uri": "https://localhost:8080/"
    },
    "executionInfo": {
     "elapsed": 37,
     "status": "ok",
     "timestamp": 1671057883270,
     "user": {
      "displayName": "Mert Karabacak",
      "userId": "14308977132914475412"
     },
     "user_tz": 300
    },
    "id": "6c426cf1-c714-425d-b996-38a92517dcd3",
    "outputId": "4af93bfd-63e3-46af-ae22-a0219941784c"
   },
   "outputs": [],
   "source": [
    "#Check data for elective surgeries.\n",
    "\n",
    "data['ELECTSURG'].value_counts(normalize=False, dropna=False)"
   ]
  },
  {
   "cell_type": "code",
   "execution_count": null,
   "id": "66c0ac20",
   "metadata": {
    "colab": {
     "base_uri": "https://localhost:8080/"
    },
    "executionInfo": {
     "elapsed": 35,
     "status": "ok",
     "timestamp": 1671057883270,
     "user": {
      "displayName": "Mert Karabacak",
      "userId": "14308977132914475412"
     },
     "user_tz": 300
    },
    "id": "66c0ac20",
    "outputId": "ca022fbe-9edf-4780-b61d-395d287cd942"
   },
   "outputs": [],
   "source": [
    "#Apply inclusion criteria for elective surgeries.\n",
    "\n",
    "#data = data[(data['ELECTSURG'] == 'Yes')]\n",
    "\n",
    "data['ELECTSURG'].value_counts(normalize=False, dropna=False)"
   ]
  },
  {
   "cell_type": "code",
   "execution_count": null,
   "id": "88c16422",
   "metadata": {
    "colab": {
     "base_uri": "https://localhost:8080/"
    },
    "executionInfo": {
     "elapsed": 34,
     "status": "ok",
     "timestamp": 1671057883270,
     "user": {
      "displayName": "Mert Karabacak",
      "userId": "14308977132914475412"
     },
     "user_tz": 300
    },
    "id": "88c16422",
    "outputId": "6d7626ee-60d0-4e14-d326-bde3aa06966c"
   },
   "outputs": [],
   "source": [
    "#Check data for emergency surgery.\n",
    "\n",
    "data['EMERGNCY'].value_counts(normalize=False, dropna=False)"
   ]
  },
  {
   "cell_type": "code",
   "execution_count": null,
   "id": "bb4d527c",
   "metadata": {
    "colab": {
     "base_uri": "https://localhost:8080/"
    },
    "executionInfo": {
     "elapsed": 34,
     "status": "ok",
     "timestamp": 1671057883271,
     "user": {
      "displayName": "Mert Karabacak",
      "userId": "14308977132914475412"
     },
     "user_tz": 300
    },
    "id": "bb4d527c",
    "outputId": "ed936ca5-e50e-4aee-b990-7a9048d43629"
   },
   "outputs": [],
   "source": [
    "#Apply exclusion criteria for emergency surgery.\n",
    "\n",
    "data = data[(data['EMERGNCY'] == 'No')]\n",
    "\n",
    "data['EMERGNCY'].value_counts(normalize=False, dropna=False)"
   ]
  },
  {
   "cell_type": "code",
   "execution_count": null,
   "id": "81efedf4",
   "metadata": {
    "colab": {
     "base_uri": "https://localhost:8080/"
    },
    "executionInfo": {
     "elapsed": 33,
     "status": "ok",
     "timestamp": 1671057883271,
     "user": {
      "displayName": "Mert Karabacak",
      "userId": "14308977132914475412"
     },
     "user_tz": 300
    },
    "id": "81efedf4",
    "outputId": "35a707c8-f684-4b15-96a0-f68e599ba114"
   },
   "outputs": [],
   "source": [
    "#Check data for anesthesia type.\n",
    "\n",
    "data['ANESTHES'].value_counts(normalize=False, dropna=False)"
   ]
  },
  {
   "cell_type": "code",
   "execution_count": null,
   "id": "056878f5",
   "metadata": {
    "colab": {
     "base_uri": "https://localhost:8080/"
    },
    "executionInfo": {
     "elapsed": 32,
     "status": "ok",
     "timestamp": 1671057883271,
     "user": {
      "displayName": "Mert Karabacak",
      "userId": "14308977132914475412"
     },
     "user_tz": 300
    },
    "id": "056878f5",
    "outputId": "935053b5-d5df-4820-f2de-233fa030f3f5"
   },
   "outputs": [],
   "source": [
    "#Apply inclusion criteria for general anesthesia.\n",
    "\n",
    "data = data[(data['ANESTHES'] == 'General')]\n",
    "\n",
    "data['ANESTHES'].value_counts(normalize=False, dropna=False)"
   ]
  },
  {
   "cell_type": "code",
   "execution_count": null,
   "id": "120235be",
   "metadata": {
    "colab": {
     "base_uri": "https://localhost:8080/"
    },
    "executionInfo": {
     "elapsed": 31,
     "status": "ok",
     "timestamp": 1671057883271,
     "user": {
      "displayName": "Mert Karabacak",
      "userId": "14308977132914475412"
     },
     "user_tz": 300
    },
    "id": "120235be",
    "outputId": "706519a7-ceb8-41b0-8fce-2b1a80f1cddd"
   },
   "outputs": [],
   "source": [
    "#Check data for surgical specialties.\n",
    "\n",
    "data['SURGSPEC'].value_counts(normalize=False, dropna=False)"
   ]
  },
  {
   "cell_type": "code",
   "execution_count": null,
   "id": "7cf0695f",
   "metadata": {
    "colab": {
     "base_uri": "https://localhost:8080/"
    },
    "executionInfo": {
     "elapsed": 30,
     "status": "ok",
     "timestamp": 1671057883271,
     "user": {
      "displayName": "Mert Karabacak",
      "userId": "14308977132914475412"
     },
     "user_tz": 300
    },
    "id": "7cf0695f",
    "outputId": "607c9a5d-7ded-47fa-c9d5-a3e22fe1cad0"
   },
   "outputs": [],
   "source": [
    "#Apply inclusion criteria for surgical specialties.\n",
    "\n",
    "data = data[(data['SURGSPEC'] == 'Neurosurgery') | (data['SURGSPEC'] == 'Orthopedics')]\n",
    "\n",
    "data['SURGSPEC'].value_counts(normalize=False, dropna=False)"
   ]
  },
  {
   "cell_type": "code",
   "execution_count": null,
   "id": "a4d5b647",
   "metadata": {
    "colab": {
     "base_uri": "https://localhost:8080/"
    },
    "executionInfo": {
     "elapsed": 29,
     "status": "ok",
     "timestamp": 1671057883271,
     "user": {
      "displayName": "Mert Karabacak",
      "userId": "14308977132914475412"
     },
     "user_tz": 300
    },
    "id": "a4d5b647",
    "outputId": "a53596df-27ad-4d27-9541-98c74de343bd"
   },
   "outputs": [],
   "source": [
    "#Check data for wound class.\n",
    "\n",
    "data['WNDCLAS'].value_counts(normalize=False, dropna=False)"
   ]
  },
  {
   "cell_type": "code",
   "execution_count": null,
   "id": "b6d72d44",
   "metadata": {
    "colab": {
     "base_uri": "https://localhost:8080/"
    },
    "executionInfo": {
     "elapsed": 29,
     "status": "ok",
     "timestamp": 1671057883272,
     "user": {
      "displayName": "Mert Karabacak",
      "userId": "14308977132914475412"
     },
     "user_tz": 300
    },
    "id": "b6d72d44",
    "outputId": "5b735d18-c3d3-42c3-c5dc-a98d790a179d"
   },
   "outputs": [],
   "source": [
    "#Apply exclusion criteria for wound class.\n",
    "\n",
    "data = data[(data['WNDCLAS'] == '1-Clean')]\n",
    "\n",
    "data['WNDCLAS'].value_counts(normalize=False, dropna=False)"
   ]
  },
  {
   "cell_type": "code",
   "execution_count": null,
   "id": "3e61433b",
   "metadata": {
    "colab": {
     "base_uri": "https://localhost:8080/"
    },
    "executionInfo": {
     "elapsed": 27,
     "status": "ok",
     "timestamp": 1671057883272,
     "user": {
      "displayName": "Mert Karabacak",
      "userId": "14308977132914475412"
     },
     "user_tz": 300
    },
    "id": "3e61433b",
    "outputId": "ea22531b-3607-46a9-9bdb-c3f45f91a60e"
   },
   "outputs": [],
   "source": [
    "#Check data for preoperative sepsis.\n",
    "\n",
    "data['PRSEPIS'].value_counts(normalize=False, dropna=False)"
   ]
  },
  {
   "cell_type": "code",
   "execution_count": null,
   "id": "78f75891",
   "metadata": {
    "colab": {
     "base_uri": "https://localhost:8080/"
    },
    "executionInfo": {
     "elapsed": 24,
     "status": "ok",
     "timestamp": 1671057883272,
     "user": {
      "displayName": "Mert Karabacak",
      "userId": "14308977132914475412"
     },
     "user_tz": 300
    },
    "id": "78f75891",
    "outputId": "6fdd48f2-5cb3-44ea-a7fa-88bc51888326"
   },
   "outputs": [],
   "source": [
    "#Apply exclusion criteria for preoperative sepsis.\n",
    "\n",
    "data = data[(data['PRSEPIS'] == 'None')]\n",
    "\n",
    "data['PRSEPIS'].value_counts(normalize=False, dropna=False)"
   ]
  },
  {
   "cell_type": "code",
   "execution_count": null,
   "id": "d00834fd",
   "metadata": {
    "colab": {
     "base_uri": "https://localhost:8080/"
    },
    "executionInfo": {
     "elapsed": 23,
     "status": "ok",
     "timestamp": 1671057883272,
     "user": {
      "displayName": "Mert Karabacak",
      "userId": "14308977132914475412"
     },
     "user_tz": 300
    },
    "id": "d00834fd",
    "outputId": "eac11fdf-0a20-44e2-ee37-8773085838b1"
   },
   "outputs": [],
   "source": [
    "#Check data for ASA Class.\n",
    "\n",
    "data['ASACLAS'].value_counts(normalize=False, dropna=False)"
   ]
  },
  {
   "cell_type": "code",
   "execution_count": null,
   "id": "3e51b8d4",
   "metadata": {
    "colab": {
     "base_uri": "https://localhost:8080/"
    },
    "executionInfo": {
     "elapsed": 22,
     "status": "ok",
     "timestamp": 1671057883272,
     "user": {
      "displayName": "Mert Karabacak",
      "userId": "14308977132914475412"
     },
     "user_tz": 300
    },
    "id": "3e51b8d4",
    "outputId": "06fdc5c8-9a84-455c-9565-f21b745f1467"
   },
   "outputs": [],
   "source": [
    "#Apply exclusion criteria for ASA class.\n",
    "\n",
    "data = data[(data['ASACLAS'] != '4-Life Threat') & (data['ASACLAS'] != '5-Moribund') & (data['ASACLAS'] != 'None assigned')]\n",
    "\n",
    "data['ASACLAS'].value_counts(normalize=False, dropna=False)"
   ]
  },
  {
   "cell_type": "code",
   "execution_count": null,
   "id": "ab9d9c55",
   "metadata": {
    "colab": {
     "base_uri": "https://localhost:8080/"
    },
    "executionInfo": {
     "elapsed": 21,
     "status": "ok",
     "timestamp": 1671057883272,
     "user": {
      "displayName": "Mert Karabacak",
      "userId": "14308977132914475412"
     },
     "user_tz": 300
    },
    "id": "ab9d9c55",
    "outputId": "3ad1df6a-e70c-4b22-9254-ffac81723514"
   },
   "outputs": [],
   "source": [
    "#Create BMI column.\n",
    "\n",
    "lbs_to_kg_ratio = 0.453592\n",
    "inch_to_meter_ratio = 0.0254\n",
    "\n",
    "data['HEIGHT'] *= inch_to_meter_ratio\n",
    "data['WEIGHT'] *= lbs_to_kg_ratio\n",
    "\n",
    "data['BMI'] = data['WEIGHT']/(data['HEIGHT']**2)\n",
    "print(min(data['BMI']))\n",
    "print(max(data['BMI']))"
   ]
  },
  {
   "cell_type": "code",
   "execution_count": null,
   "id": "fbf1c8ec",
   "metadata": {
    "colab": {
     "base_uri": "https://localhost:8080/"
    },
    "executionInfo": {
     "elapsed": 19,
     "status": "ok",
     "timestamp": 1671057883273,
     "user": {
      "displayName": "Mert Karabacak",
      "userId": "14308977132914475412"
     },
     "user_tz": 300
    },
    "id": "fbf1c8ec",
    "outputId": "9a661a14-c423-48cb-86c2-6eb3c83f899c"
   },
   "outputs": [],
   "source": [
    "#Check data for race.\n",
    "\n",
    "data['RACE_NEW'].value_counts(normalize=False, dropna=False)"
   ]
  },
  {
   "cell_type": "code",
   "execution_count": null,
   "id": "58a7a358",
   "metadata": {
    "colab": {
     "base_uri": "https://localhost:8080/"
    },
    "executionInfo": {
     "elapsed": 18,
     "status": "ok",
     "timestamp": 1671057883273,
     "user": {
      "displayName": "Mert Karabacak",
      "userId": "14308977132914475412"
     },
     "user_tz": 300
    },
    "id": "58a7a358",
    "outputId": "01d41555-a812-4af8-c5df-6f5ca6d06585"
   },
   "outputs": [],
   "source": [
    "#Check data for ethnicity.\n",
    "\n",
    "data['ETHNICITY_HISPANIC'].value_counts(normalize=False, dropna=False)"
   ]
  },
  {
   "cell_type": "code",
   "execution_count": null,
   "id": "edfeff13",
   "metadata": {
    "colab": {
     "base_uri": "https://localhost:8080/"
    },
    "executionInfo": {
     "elapsed": 17,
     "status": "ok",
     "timestamp": 1671057883273,
     "user": {
      "displayName": "Mert Karabacak",
      "userId": "14308977132914475412"
     },
     "user_tz": 300
    },
    "id": "edfeff13",
    "outputId": "8b988d34-4d49-4051-d967-336037c24790"
   },
   "outputs": [],
   "source": [
    "#Simplify race and ethnicity columns.\n",
    "\n",
    "data.loc[data['RACE_NEW'] == 'White', 'RACE'] = 'White'\n",
    "data.loc[data['RACE_NEW'] == 'Black or African American', 'RACE'] = 'Black or African American'\n",
    "data.loc[data['RACE_NEW'] == 'Asian', 'RACE'] = 'Asian'\n",
    "data.loc[data['RACE_NEW'] == 'American Indian or Alaska Native', 'RACE'] = 'Other'\n",
    "data.loc[data['RACE_NEW'] == 'Native Hawaiian or Other Pacific Islander', 'RACE'] = 'Other'\n",
    "data.loc[data['RACE_NEW'] == 'Native Hawaiian or Pacific Islander', 'RACE'] = 'Other'\n",
    "data.loc[data['RACE_NEW'] == 'Some Other Race', 'RACE'] = 'Other'\n",
    "\n",
    "data.loc[data['ETHNICITY_HISPANIC'] == 'Yes', 'RACE'] = 'Hispanic'\n",
    "\n",
    "data['RACE'].value_counts(normalize=False, dropna=False)"
   ]
  },
  {
   "cell_type": "code",
   "execution_count": null,
   "id": "058b3c3d",
   "metadata": {
    "colab": {
     "base_uri": "https://localhost:8080/"
    },
    "executionInfo": {
     "elapsed": 15,
     "status": "ok",
     "timestamp": 1671057883273,
     "user": {
      "displayName": "Mert Karabacak",
      "userId": "14308977132914475412"
     },
     "user_tz": 300
    },
    "id": "058b3c3d",
    "outputId": "885b5cf2-c759-4c5c-8255-1335da0b1c51"
   },
   "outputs": [],
   "source": [
    "#Check data for transfer status.\n",
    "\n",
    "data['TRANST'].value_counts(normalize=False, dropna=False)"
   ]
  },
  {
   "cell_type": "code",
   "execution_count": null,
   "id": "c3af9dc4",
   "metadata": {
    "colab": {
     "base_uri": "https://localhost:8080/"
    },
    "executionInfo": {
     "elapsed": 15,
     "status": "ok",
     "timestamp": 1671057883274,
     "user": {
      "displayName": "Mert Karabacak",
      "userId": "14308977132914475412"
     },
     "user_tz": 300
    },
    "id": "c3af9dc4",
    "outputId": "8fde795e-209e-4367-b486-0d937e60dc2b"
   },
   "outputs": [],
   "source": [
    "#Simplify transfer status column.\n",
    "\n",
    "data.loc[data['TRANST'] == 'Not transferred (admitted from home)', 'TRANST'] = 'Not transferred'\n",
    "data.loc[data['TRANST'] == 'Nursing home - Chronic care - Intermediate care', 'TRANST'] = 'Transferred'\n",
    "data.loc[data['TRANST'] == 'From acute care hospital inpatient', 'TRANST'] = 'Transferred'\n",
    "data.loc[data['TRANST'] == 'Outside emergency department', 'TRANST'] = 'Transferred'\n",
    "data.loc[data['TRANST'] == 'Transfer from other', 'TRANST'] = 'Transferred'\n",
    "\n",
    "data['TRANST'].value_counts(normalize=False, dropna=False)"
   ]
  },
  {
   "cell_type": "code",
   "execution_count": null,
   "id": "ba88fac8",
   "metadata": {
    "colab": {
     "base_uri": "https://localhost:8080/"
    },
    "executionInfo": {
     "elapsed": 14,
     "status": "ok",
     "timestamp": 1671057883274,
     "user": {
      "displayName": "Mert Karabacak",
      "userId": "14308977132914475412"
     },
     "user_tz": 300
    },
    "id": "ba88fac8",
    "outputId": "f01500bd-16e2-4491-dbd4-5a9a684db055"
   },
   "outputs": [],
   "source": [
    "#Check data for dyspnea.\n",
    "\n",
    "data['DYSPNEA'].value_counts(normalize=False, dropna=False)"
   ]
  },
  {
   "cell_type": "code",
   "execution_count": null,
   "id": "5557e3e3",
   "metadata": {
    "colab": {
     "base_uri": "https://localhost:8080/"
    },
    "executionInfo": {
     "elapsed": 12,
     "status": "ok",
     "timestamp": 1671057883274,
     "user": {
      "displayName": "Mert Karabacak",
      "userId": "14308977132914475412"
     },
     "user_tz": 300
    },
    "id": "5557e3e3",
    "outputId": "0ce5c778-eb0f-46a2-b55f-f4330c15c7ad"
   },
   "outputs": [],
   "source": [
    "#Simplify dyspnea column.\n",
    "\n",
    "data.loc[data['DYSPNEA'] == 'No', 'DYSPNEA'] = 'No'\n",
    "data.loc[data['DYSPNEA'] == 'MODERATE EXERTION', 'DYSPNEA'] = 'Yes'\n",
    "data.loc[data['DYSPNEA'] == 'AT REST', 'DYSPNEA'] = 'Yes'\n",
    "\n",
    "data['DYSPNEA'].value_counts(normalize=False, dropna=False)"
   ]
  },
  {
   "cell_type": "code",
   "execution_count": null,
   "id": "238ad170",
   "metadata": {
    "colab": {
     "base_uri": "https://localhost:8080/"
    },
    "executionInfo": {
     "elapsed": 9,
     "status": "ok",
     "timestamp": 1671057883274,
     "user": {
      "displayName": "Mert Karabacak",
      "userId": "14308977132914475412"
     },
     "user_tz": 300
    },
    "id": "238ad170",
    "outputId": "090856be-46c7-4323-98a4-064d8dc0c500"
   },
   "outputs": [],
   "source": [
    "#Check data for diabetes status.\n",
    "\n",
    "data['DIABETES'].value_counts(normalize=False, dropna=False)"
   ]
  },
  {
   "cell_type": "code",
   "execution_count": null,
   "id": "d0378434",
   "metadata": {
    "colab": {
     "base_uri": "https://localhost:8080/"
    },
    "executionInfo": {
     "elapsed": 375,
     "status": "ok",
     "timestamp": 1671057883641,
     "user": {
      "displayName": "Mert Karabacak",
      "userId": "14308977132914475412"
     },
     "user_tz": 300
    },
    "id": "d0378434",
    "outputId": "f6d7d776-79ca-4bcb-d916-30773aa847bf"
   },
   "outputs": [],
   "source": [
    "#Simplify diabetes column.\n",
    "\n",
    "data.loc[data['DIABETES'] == 'NO', 'DIABETES'] = 'No'\n",
    "data.loc[data['DIABETES'] == 'NON-INSULIN', 'DIABETES'] = 'Yes'\n",
    "data.loc[data['DIABETES'] == 'INSULIN', 'DIABETES'] = 'Yes'\n",
    "\n",
    "data['DIABETES'].value_counts(normalize=False, dropna=False)"
   ]
  },
  {
   "cell_type": "code",
   "execution_count": null,
   "id": "2aca45cc",
   "metadata": {
    "colab": {
     "base_uri": "https://localhost:8080/"
    },
    "executionInfo": {
     "elapsed": 76,
     "status": "ok",
     "timestamp": 1671057883642,
     "user": {
      "displayName": "Mert Karabacak",
      "userId": "14308977132914475412"
     },
     "user_tz": 300
    },
    "id": "2aca45cc",
    "outputId": "2bba14ac-f53e-497b-c41b-af2bbe55e289"
   },
   "outputs": [],
   "source": [
    "#Cast ASA class as ordered categorical.\n",
    "\n",
    "cat_type1 = CategoricalDtype(categories=['1-No Disturb','2-Mild Disturb','3-Severe Disturb'], ordered=True)\n",
    "data['ASACLAS'].astype(cat_type1)"
   ]
  },
  {
   "cell_type": "code",
   "execution_count": null,
   "id": "19fb0646",
   "metadata": {
    "colab": {
     "base_uri": "https://localhost:8080/"
    },
    "executionInfo": {
     "elapsed": 73,
     "status": "ok",
     "timestamp": 1671057883642,
     "user": {
      "displayName": "Mert Karabacak",
      "userId": "14308977132914475412"
     },
     "user_tz": 300
    },
    "id": "19fb0646",
    "outputId": "f5c97e0c-c8f6-496f-de82-08a21a9e029c"
   },
   "outputs": [],
   "source": [
    "#Cast functional status as ordered categorical.\n",
    "\n",
    "cat_type2 = CategoricalDtype(categories=['Unknown','Independent','Partiallly Dependent', 'Totally Dependent'], ordered=True)\n",
    "data['FNSTATUS2'].astype(cat_type2)"
   ]
  },
  {
   "cell_type": "code",
   "execution_count": null,
   "id": "9fb66caf",
   "metadata": {
    "executionInfo": {
     "elapsed": 50,
     "status": "ok",
     "timestamp": 1671057883642,
     "user": {
      "displayName": "Mert Karabacak",
      "userId": "14308977132914475412"
     },
     "user_tz": 300
    },
    "id": "9fb66caf"
   },
   "outputs": [],
   "source": [
    "#Convert 90+ to 91 and AGE column to integer.\n",
    "\n",
    "data.loc[data['AGE'] == '90+', 'AGE'] = 91\n",
    "data['AGE'] = pd.to_numeric(data['AGE'], downcast='integer')"
   ]
  },
  {
   "cell_type": "code",
   "execution_count": null,
   "id": "ace8b0df",
   "metadata": {
    "colab": {
     "base_uri": "https://localhost:8080/"
    },
    "executionInfo": {
     "elapsed": 50,
     "status": "ok",
     "timestamp": 1671057883642,
     "user": {
      "displayName": "Mert Karabacak",
      "userId": "14308977132914475412"
     },
     "user_tz": 300
    },
    "id": "ace8b0df",
    "outputId": "f749d149-c2e0-4dd4-993c-3a3b51b5e573"
   },
   "outputs": [],
   "source": [
    "#Show patients for each CPT code.\n",
    "\n",
    "data['CPT'].value_counts()"
   ]
  },
  {
   "cell_type": "code",
   "execution_count": null,
   "id": "89c3263c",
   "metadata": {
    "colab": {
     "base_uri": "https://localhost:8080/"
    },
    "executionInfo": {
     "elapsed": 25,
     "status": "ok",
     "timestamp": 1671057883642,
     "user": {
      "displayName": "Mert Karabacak",
      "userId": "14308977132914475412"
     },
     "user_tz": 300
    },
    "id": "89c3263c",
    "outputId": "e58f2986-3d2a-49ad-ee1b-af265bfbec71"
   },
   "outputs": [],
   "source": [
    "#See LOS per patient.\n",
    "\n",
    "data['TOTHLOS'].value_counts()"
   ]
  },
  {
   "cell_type": "code",
   "execution_count": null,
   "id": "2zHKamnxDlcr",
   "metadata": {
    "executionInfo": {
     "elapsed": 24,
     "status": "ok",
     "timestamp": 1671057883643,
     "user": {
      "displayName": "Mert Karabacak",
      "userId": "14308977132914475412"
     },
     "user_tz": 300
    },
    "id": "2zHKamnxDlcr"
   },
   "outputs": [],
   "source": [
    "#Drop patients with unknown LOS.\n",
    "\n",
    "data = data[data['TOTHLOS'].notna()]"
   ]
  },
  {
   "cell_type": "code",
   "execution_count": null,
   "id": "YOVkj1Ozj_pD",
   "metadata": {
    "colab": {
     "base_uri": "https://localhost:8080/"
    },
    "executionInfo": {
     "elapsed": 24,
     "status": "ok",
     "timestamp": 1671057883643,
     "user": {
      "displayName": "Mert Karabacak",
      "userId": "14308977132914475412"
     },
     "user_tz": 300
    },
    "id": "YOVkj1Ozj_pD",
    "outputId": "7228ab60-7be0-47a7-ac97-7204648a58f0"
   },
   "outputs": [],
   "source": [
    "#Show LOS after dropping patients with unknown LOS.\n",
    "\n",
    "data['TOTHLOS'].value_counts(dropna=False)"
   ]
  },
  {
   "cell_type": "code",
   "execution_count": null,
   "id": "fdfccc33",
   "metadata": {
    "colab": {
     "base_uri": "https://localhost:8080/"
    },
    "executionInfo": {
     "elapsed": 23,
     "status": "ok",
     "timestamp": 1671057883643,
     "user": {
      "displayName": "Mert Karabacak",
      "userId": "14308977132914475412"
     },
     "user_tz": 300
    },
    "id": "fdfccc33",
    "outputId": "71384c3f-15e9-4ea0-90fe-02995c1aba18"
   },
   "outputs": [],
   "source": [
    "#See 75th percentile of LOS.\n",
    "data.TOTHLOS.quantile(0.75)"
   ]
  },
  {
   "cell_type": "code",
   "execution_count": null,
   "id": "25d22d50",
   "metadata": {
    "colab": {
     "base_uri": "https://localhost:8080/"
    },
    "executionInfo": {
     "elapsed": 22,
     "status": "ok",
     "timestamp": 1671057883643,
     "user": {
      "displayName": "Mert Karabacak",
      "userId": "14308977132914475412"
     },
     "user_tz": 300
    },
    "id": "25d22d50",
    "outputId": "8397e6cb-00b4-4137-ca06-08de47bed18d"
   },
   "outputs": [],
   "source": [
    "#Convert total length of stay into categorical data in a column named 'LOS'.\n",
    "\n",
    "data.loc[data['TOTHLOS'] <= data.TOTHLOS.quantile(0.75), 'LOS'] = 'No'\n",
    "data.loc[data['TOTHLOS'] > data.TOTHLOS.quantile(0.75), 'LOS'] = 'Yes'"
   ]
  },
  {
   "cell_type": "code",
   "execution_count": null,
   "id": "00cadcb7",
   "metadata": {
    "colab": {
     "base_uri": "https://localhost:8080/"
    },
    "executionInfo": {
     "elapsed": 20,
     "status": "ok",
     "timestamp": 1671057883643,
     "user": {
      "displayName": "Mert Karabacak",
      "userId": "14308977132914475412"
     },
     "user_tz": 300
    },
    "id": "00cadcb7",
    "outputId": "ae3deb89-4724-46af-a212-7fc97839b069"
   },
   "outputs": [],
   "source": [
    "#Show prolonged LOS as categorical.\n",
    "\n",
    "data['LOS'].value_counts(dropna=False)"
   ]
  },
  {
   "cell_type": "code",
   "execution_count": null,
   "id": "ca132d46",
   "metadata": {
    "colab": {
     "base_uri": "https://localhost:8080/"
    },
    "executionInfo": {
     "elapsed": 19,
     "status": "ok",
     "timestamp": 1671057883643,
     "user": {
      "displayName": "Mert Karabacak",
      "userId": "14308977132914475412"
     },
     "user_tz": 300
    },
    "id": "ca132d46",
    "outputId": "614b15ca-3dfa-435a-825a-30b96bca01bb"
   },
   "outputs": [],
   "source": [
    "#Define major complications.\n",
    "\n",
    "data['MAJRCOMP'] = data['NWNDINFD'] + data['NORGSPCSSI'] + data['NDEHIS'] + data['NREINTUB'] + data['NPULEMBOL'] + data['NFAILWEAN'] + data['NRENAINSF'] + data['NOPRENAFL'] + data['NCNSCVA'] + data['NCDARREST'] + data['NCDMI'] + data['NOTHBLEED'] + data['NOTHDVT'] + data['NOTHSYSEP'] + data['NOTHSESHOCK']"
   ]
  },
  {
   "cell_type": "code",
   "execution_count": null,
   "id": "a273cdf1",
   "metadata": {
    "colab": {
     "base_uri": "https://localhost:8080/"
    },
    "executionInfo": {
     "elapsed": 19,
     "status": "ok",
     "timestamp": 1671057883644,
     "user": {
      "displayName": "Mert Karabacak",
      "userId": "14308977132914475412"
     },
     "user_tz": 300
    },
    "id": "a273cdf1",
    "outputId": "ec7f3eae-eb09-4bc7-b36b-cbc5dc52e92b"
   },
   "outputs": [],
   "source": [
    "#Show number of major complications per patient.\n",
    "\n",
    "data['MAJRCOMP'].value_counts()"
   ]
  },
  {
   "cell_type": "code",
   "execution_count": null,
   "id": "fede78c8",
   "metadata": {
    "executionInfo": {
     "elapsed": 17,
     "status": "ok",
     "timestamp": 1671057883644,
     "user": {
      "displayName": "Mert Karabacak",
      "userId": "14308977132914475412"
     },
     "user_tz": 300
    },
    "id": "fede78c8"
   },
   "outputs": [],
   "source": [
    "#Convert major complications into categorical data in a column named 'COMP'.\n",
    "\n",
    "data.loc[data['MAJRCOMP'] == 0, 'COMP'] = 'No'\n",
    "data.loc[data['MAJRCOMP'] >= 1, 'COMP'] = 'Yes'"
   ]
  },
  {
   "cell_type": "code",
   "execution_count": null,
   "id": "aa5c95a3",
   "metadata": {
    "colab": {
     "base_uri": "https://localhost:8080/"
    },
    "executionInfo": {
     "elapsed": 17,
     "status": "ok",
     "timestamp": 1671057883644,
     "user": {
      "displayName": "Mert Karabacak",
      "userId": "14308977132914475412"
     },
     "user_tz": 300
    },
    "id": "aa5c95a3",
    "outputId": "9d9cf463-f879-4b91-b24f-b4deebdf790a"
   },
   "outputs": [],
   "source": [
    "#Show major complications as categorical.\n",
    "\n",
    "data['COMP'].value_counts()"
   ]
  },
  {
   "cell_type": "code",
   "execution_count": null,
   "id": "9432HuAcjwfO",
   "metadata": {
    "executionInfo": {
     "elapsed": 15,
     "status": "ok",
     "timestamp": 1671057883644,
     "user": {
      "displayName": "Mert Karabacak",
      "userId": "14308977132914475412"
     },
     "user_tz": 300
    },
    "id": "9432HuAcjwfO"
   },
   "outputs": [],
   "source": [
    "#Drop patients with unknown major complications status.\n",
    "\n",
    "data = data[data['COMP'].notna()]"
   ]
  },
  {
   "cell_type": "code",
   "execution_count": null,
   "id": "n9nxQIeaj3pH",
   "metadata": {
    "colab": {
     "base_uri": "https://localhost:8080/"
    },
    "executionInfo": {
     "elapsed": 15,
     "status": "ok",
     "timestamp": 1671057883644,
     "user": {
      "displayName": "Mert Karabacak",
      "userId": "14308977132914475412"
     },
     "user_tz": 300
    },
    "id": "n9nxQIeaj3pH",
    "outputId": "fa85ae5a-8d7f-44e4-efc0-545e6e22e5a4"
   },
   "outputs": [],
   "source": [
    "#Show major complication status after dropping patients with unknown major complication status.\n",
    "\n",
    "data['COMP'].value_counts(dropna=False)"
   ]
  },
  {
   "cell_type": "code",
   "execution_count": null,
   "id": "afff01b4",
   "metadata": {
    "colab": {
     "base_uri": "https://localhost:8080/"
    },
    "executionInfo": {
     "elapsed": 13,
     "status": "ok",
     "timestamp": 1671057883645,
     "user": {
      "displayName": "Mert Karabacak",
      "userId": "14308977132914475412"
     },
     "user_tz": 300
    },
    "id": "afff01b4",
    "outputId": "81602c29-09d0-41f1-cfc4-6acfb61447a7"
   },
   "outputs": [],
   "source": [
    "#Show readmission status.\n",
    "\n",
    "data['READMISSION1'].value_counts(dropna=False)"
   ]
  },
  {
   "cell_type": "code",
   "execution_count": null,
   "id": "678588ba",
   "metadata": {
    "executionInfo": {
     "elapsed": 12,
     "status": "ok",
     "timestamp": 1671057883645,
     "user": {
      "displayName": "Mert Karabacak",
      "userId": "14308977132914475412"
     },
     "user_tz": 300
    },
    "id": "678588ba"
   },
   "outputs": [],
   "source": [
    "#Drop patients with unknown readmission status.\n",
    "\n",
    "data = data[data['READMISSION1'].notna()]"
   ]
  },
  {
   "cell_type": "code",
   "execution_count": null,
   "id": "40d739c5",
   "metadata": {
    "colab": {
     "base_uri": "https://localhost:8080/"
    },
    "executionInfo": {
     "elapsed": 12,
     "status": "ok",
     "timestamp": 1671057883645,
     "user": {
      "displayName": "Mert Karabacak",
      "userId": "14308977132914475412"
     },
     "user_tz": 300
    },
    "id": "40d739c5",
    "outputId": "eddcd8e2-6632-4265-abc9-a992d9f39b3e"
   },
   "outputs": [],
   "source": [
    "#Show readmission status after dropping patients with unknown readmission status.\n",
    "\n",
    "data['READMISSION1'].value_counts(dropna=False)"
   ]
  },
  {
   "cell_type": "code",
   "execution_count": null,
   "id": "b8c302ed",
   "metadata": {
    "colab": {
     "base_uri": "https://localhost:8080/"
    },
    "executionInfo": {
     "elapsed": 13,
     "status": "ok",
     "timestamp": 1671057883647,
     "user": {
      "displayName": "Mert Karabacak",
      "userId": "14308977132914475412"
     },
     "user_tz": 300
    },
    "id": "b8c302ed",
    "outputId": "fea05e58-1859-4e01-b2d4-86d5b97383d2"
   },
   "outputs": [],
   "source": [
    "#Show discharge status.\n",
    "\n",
    "data['DISCHDEST'].value_counts(dropna=False)"
   ]
  },
  {
   "cell_type": "code",
   "execution_count": null,
   "id": "4e3ce5cb",
   "metadata": {
    "executionInfo": {
     "elapsed": 12,
     "status": "ok",
     "timestamp": 1671057883647,
     "user": {
      "displayName": "Mert Karabacak",
      "userId": "14308977132914475412"
     },
     "user_tz": 300
    },
    "id": "4e3ce5cb"
   },
   "outputs": [],
   "source": [
    "#Convert discharge destination into binary data (home vs. non-home discharge) in a column named 'DISCHARGE'.\n",
    "\n",
    "data.loc[data['DISCHDEST'] == 'Home', 'DISCHARGE'] = 'No'\n",
    "data.loc[data['DISCHDEST'] == 'Facility Which was Home', 'DISCHARGE'] = 'No'\n",
    "data.loc[data['DISCHDEST'] == 'Rehab', 'DISCHARGE'] = 'Yes'\n",
    "data.loc[data['DISCHDEST'] == 'Skilled Care, Not Home', 'DISCHARGE'] = 'Yes'\n",
    "data.loc[data['DISCHDEST'] == 'Separate Acute Care', 'DISCHARGE'] = 'Yes'\n",
    "data.loc[data['DISCHDEST'] == 'Multi-level Senior Community', 'DISCHARGE'] = 'Yes'"
   ]
  },
  {
   "cell_type": "code",
   "execution_count": null,
   "id": "8785261c",
   "metadata": {
    "colab": {
     "base_uri": "https://localhost:8080/"
    },
    "executionInfo": {
     "elapsed": 11,
     "status": "ok",
     "timestamp": 1671057883647,
     "user": {
      "displayName": "Mert Karabacak",
      "userId": "14308977132914475412"
     },
     "user_tz": 300
    },
    "id": "8785261c",
    "outputId": "ce278193-f48f-454a-ba70-3a0e25fed2db"
   },
   "outputs": [],
   "source": [
    "#Show discharge destination status after converting it to binary data.\n",
    "\n",
    "data['DISCHARGE'].value_counts(dropna=False)"
   ]
  },
  {
   "cell_type": "code",
   "execution_count": null,
   "id": "191e7b5a",
   "metadata": {
    "executionInfo": {
     "elapsed": 10,
     "status": "ok",
     "timestamp": 1671057883647,
     "user": {
      "displayName": "Mert Karabacak",
      "userId": "14308977132914475412"
     },
     "user_tz": 300
    },
    "id": "191e7b5a"
   },
   "outputs": [],
   "source": [
    "#Drop patients with unknown discharge status.\n",
    "\n",
    "data = data[data['DISCHARGE'].notna()]"
   ]
  },
  {
   "cell_type": "code",
   "execution_count": null,
   "id": "c9a5c184",
   "metadata": {
    "colab": {
     "base_uri": "https://localhost:8080/"
    },
    "executionInfo": {
     "elapsed": 534,
     "status": "ok",
     "timestamp": 1671057884171,
     "user": {
      "displayName": "Mert Karabacak",
      "userId": "14308977132914475412"
     },
     "user_tz": 300
    },
    "id": "c9a5c184",
    "outputId": "d1854780-de35-4269-a498-7ef18c053756"
   },
   "outputs": [],
   "source": [
    "#Show discharge status after dropping patients with unknown discharge status.\n",
    "\n",
    "data['DISCHARGE'].value_counts(dropna=False)"
   ]
  },
  {
   "cell_type": "code",
   "execution_count": null,
   "id": "uFesv4eVkbZA",
   "metadata": {
    "colab": {
     "base_uri": "https://localhost:8080/"
    },
    "executionInfo": {
     "elapsed": 23,
     "status": "ok",
     "timestamp": 1671057884171,
     "user": {
      "displayName": "Mert Karabacak",
      "userId": "14308977132914475412"
     },
     "user_tz": 300
    },
    "id": "uFesv4eVkbZA",
    "outputId": "aa48c639-9739-4393-e2cd-e4223ed92181"
   },
   "outputs": [],
   "source": [
    "#Merge adverse outcomes in a new column 'ADVERSE_OUTCOME'.\n",
    "\n",
    "data.loc[data['LOS'] == 'Yes', 'ADVERSE_OUTCOME'] = 'Yes'\n",
    "data.loc[data['COMP'] == 'Yes', 'ADVERSE_OUTCOME'] = 'Yes'\n",
    "data.loc[data['READMISSION1'] == 'Yes', 'ADVERSE_OUTCOME'] = 'Yes'\n",
    "data.loc[data['DISCHARGE'] == 'Yes', 'ADVERSE_OUTCOME'] = 'Yes'\n",
    "data.loc[data['ADVERSE_OUTCOME'] != 'Yes', 'ADVERSE_OUTCOME'] = 'No'\n",
    "\n",
    "data['ADVERSE_OUTCOME'].value_counts(dropna=False)"
   ]
  },
  {
   "cell_type": "code",
   "execution_count": null,
   "id": "aa861235",
   "metadata": {
    "colab": {
     "base_uri": "https://localhost:8080/"
    },
    "executionInfo": {
     "elapsed": 22,
     "status": "ok",
     "timestamp": 1671057884171,
     "user": {
      "displayName": "Mert Karabacak",
      "userId": "14308977132914475412"
     },
     "user_tz": 300
    },
    "id": "aa861235",
    "outputId": "3e7269f2-8c7b-4220-b7fb-e5fdba3b28f7"
   },
   "outputs": [],
   "source": [
    "#Check data.\n",
    "\n",
    "data.shape"
   ]
  },
  {
   "cell_type": "code",
   "execution_count": null,
   "id": "55ead6a8",
   "metadata": {
    "colab": {
     "base_uri": "https://localhost:8080/"
    },
    "executionInfo": {
     "elapsed": 20,
     "status": "ok",
     "timestamp": 1671057884171,
     "user": {
      "displayName": "Mert Karabacak",
      "userId": "14308977132914475412"
     },
     "user_tz": 300
    },
    "id": "55ead6a8",
    "outputId": "c7a44348-9e42-4be1-df4f-5a9eaf6b15b3"
   },
   "outputs": [],
   "source": [
    "#See all columns.\n",
    "\n",
    "print(list(data.columns))"
   ]
  },
  {
   "cell_type": "code",
   "execution_count": null,
   "id": "a7b333b1",
   "metadata": {
    "executionInfo": {
     "elapsed": 19,
     "status": "ok",
     "timestamp": 1671057884172,
     "user": {
      "displayName": "Mert Karabacak",
      "userId": "14308977132914475412"
     },
     "user_tz": 300
    },
    "id": "a7b333b1"
   },
   "outputs": [],
   "source": [
    "#Drop unwanted columns.\n",
    "\n",
    "drop = ['RACE_NEW', 'ETHNICITY_HISPANIC', 'CPT',  'DISCHDEST', 'ANESTHES', 'ELECTSURG', 'PRSEPIS', 'OTHERCPT1', 'OTHERCPT2', 'OTHERCPT3', 'OTHERCPT4', 'OTHERCPT5', 'OTHERCPT6', 'OTHERCPT7', 'OTHERCPT8', 'OTHERCPT9', 'OTHERCPT10', 'CONCPT1', 'CONCPT2', 'CONCPT3', 'CONCPT4', 'CONCPT5', 'CONCPT6', 'CONCPT7', 'CONCPT8', 'CONCPT9', 'CONCPT10', 'EMERGNCY', 'WNDCLAS', 'OPTIME', 'TOTHLOS', 'HTOODAY', 'NSUPINFEC', 'NWNDINFD', 'NORGSPCSSI', 'NDEHIS', 'NOUPNEUMO', 'NREINTUB', 'NPULEMBOL', 'NFAILWEAN', 'NRENAINSF', 'NOPRENAFL', 'NURNINFEC', 'NCNSCVA', 'NCDARREST', 'NCDMI', 'NOTHBLEED', 'NOTHDVT', 'NOTHSYSEP', 'NOTHSESHOCK', 'PODIAG', 'PODIAG10', 'STILLINHOSP', 'CPT_EX', 'MAJRCOMP']\n",
    "data.drop(drop, axis=1, inplace=True)"
   ]
  },
  {
   "cell_type": "code",
   "execution_count": null,
   "id": "5f8c4150",
   "metadata": {
    "executionInfo": {
     "elapsed": 19,
     "status": "ok",
     "timestamp": 1671057884172,
     "user": {
      "displayName": "Mert Karabacak",
      "userId": "14308977132914475412"
     },
     "user_tz": 300
    },
    "id": "5f8c4150"
   },
   "outputs": [],
   "source": [
    "#Save data.\n",
    "\n",
    "data.to_csv('/content/drive/MyDrive/NSQIP-CLP/clp_clean.csv')"
   ]
  },
  {
   "cell_type": "code",
   "execution_count": null,
   "id": "11efb52b",
   "metadata": {
    "colab": {
     "base_uri": "https://localhost:8080/"
    },
    "executionInfo": {
     "elapsed": 18,
     "status": "ok",
     "timestamp": 1671057884172,
     "user": {
      "displayName": "Mert Karabacak",
      "userId": "14308977132914475412"
     },
     "user_tz": 300
    },
    "id": "11efb52b",
    "outputId": "d5230f95-247e-4d4b-9026-e6e416383e2e"
   },
   "outputs": [],
   "source": [
    "#See categorical and continuous variables.\n",
    "\n",
    "print('Numerical columns: {}'.format(list(data.select_dtypes('number').columns)))\n",
    "print()\n",
    "print('Categorical columns: {}'.format(list(data.select_dtypes('object').columns)))"
   ]
  },
  {
   "cell_type": "code",
   "execution_count": null,
   "id": "282afb2e",
   "metadata": {
    "executionInfo": {
     "elapsed": 17,
     "status": "ok",
     "timestamp": 1671057884172,
     "user": {
      "displayName": "Mert Karabacak",
      "userId": "14308977132914475412"
     },
     "user_tz": 300
    },
    "id": "282afb2e"
   },
   "outputs": [],
   "source": [
    "#Define numerical and categorical columns.\n",
    "\n",
    "num_cols = ['AGE', 'HEIGHT', 'WEIGHT', 'PRSODM', 'PRBUN', 'PRCREAT', 'PRALBUM', 'PRBILI', 'PRSGOT', 'PRALKPH', 'PRWBC', 'PRHCT', 'PRPLATE', 'PRPTT', 'PRINR', 'PRPT', 'BMI']\n",
    "\n",
    "cat_cols = ['SEX', 'INOUT', 'TRANST', 'SURGSPEC', 'DIABETES', 'SMOKE', 'DYSPNEA', 'FNSTATUS2', 'VENTILAT', 'HXCOPD', 'ASCITES', 'HXCHF', 'HYPERMED', 'RENAFAIL', 'DIALYSIS', 'DISCANCR', 'WNDINF', 'STEROID', 'WTLOSS', 'BLEEDDIS', 'TRANSFUS', 'ASACLAS', 'READMISSION1', 'RACE', 'COMP', 'LOS', 'DISCHARGE', 'ADVERSE_OUTCOME']"
   ]
  },
  {
   "cell_type": "code",
   "execution_count": null,
   "id": "f7a6bff0",
   "metadata": {
    "colab": {
     "base_uri": "https://localhost:8080/"
    },
    "executionInfo": {
     "elapsed": 17,
     "status": "ok",
     "timestamp": 1671057884172,
     "user": {
      "displayName": "Mert Karabacak",
      "userId": "14308977132914475412"
     },
     "user_tz": 300
    },
    "id": "f7a6bff0",
    "outputId": "8b166b4d-d3e0-4935-e2e1-3ec6067b0a8e"
   },
   "outputs": [],
   "source": [
    "#Check missing values for numerical columns.\n",
    "\n",
    "missing_num = data[num_cols].isnull().mean().round(4).mul(100).sort_values(ascending=False)\n",
    "\n",
    "missing_num = pd.DataFrame(missing_num)\n",
    "\n",
    "missing_num.columns = ['Value']\n",
    "\n",
    "missing_num = missing_num[missing_num['Value'] > 0]\n",
    "\n",
    "print(missing_num.index)\n",
    "\n",
    "missing_num = missing_num[missing_num['Value'] > 25]\n",
    "\n",
    "missing_num = list(missing_num.index)\n",
    "\n",
    "print(missing_num)"
   ]
  },
  {
   "cell_type": "code",
   "execution_count": null,
   "id": "e128cfb5",
   "metadata": {
    "executionInfo": {
     "elapsed": 15,
     "status": "ok",
     "timestamp": 1671057884172,
     "user": {
      "displayName": "Mert Karabacak",
      "userId": "14308977132914475412"
     },
     "user_tz": 300
    },
    "id": "e128cfb5"
   },
   "outputs": [],
   "source": [
    "#Drop numerical columns with missing values over 25%.\n",
    "\n",
    "data.drop(missing_num, axis=1, inplace=True)"
   ]
  },
  {
   "cell_type": "code",
   "execution_count": null,
   "id": "4756b292",
   "metadata": {
    "colab": {
     "base_uri": "https://localhost:8080/"
    },
    "executionInfo": {
     "elapsed": 16,
     "status": "ok",
     "timestamp": 1671057884173,
     "user": {
      "displayName": "Mert Karabacak",
      "userId": "14308977132914475412"
     },
     "user_tz": 300
    },
    "id": "4756b292",
    "outputId": "0b62d41f-3c33-48cf-ed22-25717ff11c9a"
   },
   "outputs": [],
   "source": [
    "#Define new numerical columns.\n",
    "\n",
    "num_cols = [x for x in num_cols if x not in missing_num]\n",
    "print(num_cols)"
   ]
  },
  {
   "cell_type": "code",
   "execution_count": null,
   "id": "ff8609cd",
   "metadata": {
    "executionInfo": {
     "elapsed": 15,
     "status": "ok",
     "timestamp": 1671057884173,
     "user": {
      "displayName": "Mert Karabacak",
      "userId": "14308977132914475412"
     },
     "user_tz": 300
    },
    "id": "ff8609cd"
   },
   "outputs": [],
   "source": [
    "#Impute missing numerical values.\n",
    "\n",
    "num_imputer = KNNImputer(n_neighbors=5, weights='uniform', metric='nan_euclidean')\n",
    "data[num_cols] = num_imputer.fit_transform(data[num_cols])"
   ]
  },
  {
   "cell_type": "code",
   "execution_count": null,
   "id": "0dac04c6",
   "metadata": {
    "colab": {
     "base_uri": "https://localhost:8080/"
    },
    "executionInfo": {
     "elapsed": 14,
     "status": "ok",
     "timestamp": 1671057884173,
     "user": {
      "displayName": "Mert Karabacak",
      "userId": "14308977132914475412"
     },
     "user_tz": 300
    },
    "id": "0dac04c6",
    "outputId": "ae4d4e87-7bb1-49cf-f123-5f2265f12f33"
   },
   "outputs": [],
   "source": [
    "#Check numerical variables with missing values after imputation.\n",
    "\n",
    "data[num_cols].isnull().mean().round(4).mul(100).sort_values(ascending=False)"
   ]
  },
  {
   "cell_type": "code",
   "execution_count": null,
   "id": "01b6490e",
   "metadata": {
    "colab": {
     "base_uri": "https://localhost:8080/"
    },
    "executionInfo": {
     "elapsed": 13,
     "status": "ok",
     "timestamp": 1671057884173,
     "user": {
      "displayName": "Mert Karabacak",
      "userId": "14308977132914475412"
     },
     "user_tz": 300
    },
    "id": "01b6490e",
    "outputId": "9bd5cd39-c2ea-46bb-a9ff-2c0f8dcc8239"
   },
   "outputs": [],
   "source": [
    "#Check missing values for categorical columns.\n",
    "\n",
    "missing_cat = data[cat_cols].isnull().mean().round(4).mul(100).sort_values(ascending=False)\n",
    "\n",
    "missing_cat = pd.DataFrame(missing_cat)\n",
    "\n",
    "missing_cat.columns = ['Value']\n",
    "\n",
    "missing_cat = missing_cat[missing_cat['Value'] > 0]\n",
    "\n",
    "print(missing_cat.index)\n",
    "\n",
    "missing_cat = missing_cat[missing_cat['Value'] > 25]\n",
    "\n",
    "missing_cat = list(missing_cat.index)\n",
    "\n",
    "print(missing_cat)"
   ]
  },
  {
   "cell_type": "code",
   "execution_count": null,
   "id": "89d3cdc4",
   "metadata": {
    "executionInfo": {
     "elapsed": 12,
     "status": "ok",
     "timestamp": 1671057884173,
     "user": {
      "displayName": "Mert Karabacak",
      "userId": "14308977132914475412"
     },
     "user_tz": 300
    },
    "id": "89d3cdc4"
   },
   "outputs": [],
   "source": [
    "#Drop categorical columns with missing values over 25%.\n",
    "\n",
    "data.drop(missing_cat, axis=1, inplace=True)"
   ]
  },
  {
   "cell_type": "code",
   "execution_count": null,
   "id": "680fe385",
   "metadata": {
    "colab": {
     "base_uri": "https://localhost:8080/"
    },
    "executionInfo": {
     "elapsed": 13,
     "status": "ok",
     "timestamp": 1671057884174,
     "user": {
      "displayName": "Mert Karabacak",
      "userId": "14308977132914475412"
     },
     "user_tz": 300
    },
    "id": "680fe385",
    "outputId": "d8ef26ab-492a-4db3-ca61-dd41dbf97d58"
   },
   "outputs": [],
   "source": [
    "#Define new categorical columns.\n",
    "\n",
    "cat_cols = [x for x in cat_cols if x not in missing_cat]\n",
    "print(cat_cols)"
   ]
  },
  {
   "cell_type": "code",
   "execution_count": null,
   "id": "9250b986",
   "metadata": {
    "executionInfo": {
     "elapsed": 10,
     "status": "ok",
     "timestamp": 1671057884174,
     "user": {
      "displayName": "Mert Karabacak",
      "userId": "14308977132914475412"
     },
     "user_tz": 300
    },
    "id": "9250b986"
   },
   "outputs": [],
   "source": [
    "#Replace missing categorical values with 'Unknown'.\n",
    "\n",
    "for col in cat_cols:\n",
    "    data[col].fillna(value='Unknown', inplace=True)"
   ]
  },
  {
   "cell_type": "code",
   "execution_count": null,
   "id": "adfd5ff2",
   "metadata": {
    "colab": {
     "base_uri": "https://localhost:8080/"
    },
    "executionInfo": {
     "elapsed": 10,
     "status": "ok",
     "timestamp": 1671057884174,
     "user": {
      "displayName": "Mert Karabacak",
      "userId": "14308977132914475412"
     },
     "user_tz": 300
    },
    "id": "adfd5ff2",
    "outputId": "fcedf249-57cb-4cf0-8120-904191088984"
   },
   "outputs": [],
   "source": [
    "#Check missing values after imputation.\n",
    "\n",
    "data[cat_cols].isnull().mean().round(4).mul(100).sort_values(ascending=False)"
   ]
  },
  {
   "cell_type": "code",
   "execution_count": null,
   "id": "2289a865",
   "metadata": {
    "executionInfo": {
     "elapsed": 8,
     "status": "ok",
     "timestamp": 1671057884174,
     "user": {
      "displayName": "Mert Karabacak",
      "userId": "14308977132914475412"
     },
     "user_tz": 300
    },
    "id": "2289a865"
   },
   "outputs": [],
   "source": [
    "#Save imputed data.\n",
    "\n",
    "data.to_csv('/content/drive/MyDrive/NSQIP-CLP/clp_imputed.csv')"
   ]
  },
  {
   "cell_type": "code",
   "execution_count": null,
   "id": "4336ba8a",
   "metadata": {
    "executionInfo": {
     "elapsed": 8,
     "status": "ok",
     "timestamp": 1671057884174,
     "user": {
      "displayName": "Mert Karabacak",
      "userId": "14308977132914475412"
     },
     "user_tz": 300
    },
    "id": "4336ba8a"
   },
   "outputs": [],
   "source": [
    "#Normalize data.\n",
    "\n",
    "data[num_cols] = MinMaxScaler().fit_transform(data[num_cols])"
   ]
  },
  {
   "cell_type": "code",
   "execution_count": null,
   "id": "c5490d9b",
   "metadata": {
    "executionInfo": {
     "elapsed": 9,
     "status": "ok",
     "timestamp": 1671057884175,
     "user": {
      "displayName": "Mert Karabacak",
      "userId": "14308977132914475412"
     },
     "user_tz": 300
    },
    "id": "c5490d9b"
   },
   "outputs": [],
   "source": [
    "#Save scaled data.\n",
    "\n",
    "data.to_csv('/content/drive/MyDrive/NSQIP-CLP/clp_scaled.csv')"
   ]
  },
  {
   "cell_type": "code",
   "execution_count": null,
   "id": "dfbec9b0",
   "metadata": {
    "executionInfo": {
     "elapsed": 9,
     "status": "ok",
     "timestamp": 1671057884175,
     "user": {
      "displayName": "Mert Karabacak",
      "userId": "14308977132914475412"
     },
     "user_tz": 300
    },
    "id": "dfbec9b0"
   },
   "outputs": [],
   "source": [
    "#One hot encoding for categorical values.\n",
    "\n",
    "data_final = pd.get_dummies(data, columns = cat_cols, drop_first = True)"
   ]
  },
  {
   "cell_type": "code",
   "execution_count": null,
   "id": "cc12859a",
   "metadata": {
    "executionInfo": {
     "elapsed": 8,
     "status": "ok",
     "timestamp": 1671057884175,
     "user": {
      "displayName": "Mert Karabacak",
      "userId": "14308977132914475412"
     },
     "user_tz": 300
    },
    "id": "cc12859a"
   },
   "outputs": [],
   "source": [
    "#Save final data.\n",
    "\n",
    "data_final.to_csv('/content/drive/MyDrive/NSQIP-CLP/clp_final.csv')"
   ]
  },
  {
   "cell_type": "code",
   "execution_count": null,
   "id": "XQ64_5CMDYqy",
   "metadata": {
    "executionInfo": {
     "elapsed": 8,
     "status": "ok",
     "timestamp": 1671057884175,
     "user": {
      "displayName": "Mert Karabacak",
      "userId": "14308977132914475412"
     },
     "user_tz": 300
    },
    "id": "XQ64_5CMDYqy"
   },
   "outputs": [],
   "source": [
    "#One hot encoding for categorical values.\n",
    "\n",
    "data_gradio = pd.get_dummies(data, columns = cat_cols, drop_first = False)"
   ]
  },
  {
   "cell_type": "code",
   "execution_count": null,
   "id": "cmkFMjbkDdA_",
   "metadata": {
    "executionInfo": {
     "elapsed": 8,
     "status": "ok",
     "timestamp": 1671057884175,
     "user": {
      "displayName": "Mert Karabacak",
      "userId": "14308977132914475412"
     },
     "user_tz": 300
    },
    "id": "cmkFMjbkDdA_"
   },
   "outputs": [],
   "source": [
    "#Save final data.\n",
    "\n",
    "data_gradio.to_csv('/content/drive/MyDrive/NSQIP-CLP/clp_gradio.csv')"
   ]
  }
 ],
 "metadata": {
  "colab": {
   "machine_shape": "hm",
   "provenance": [
    {
     "file_id": "1Nau1T8kYhu_teXcKnDyTzUTVNIRcruHN",
     "timestamp": 1671032966766
    },
    {
     "file_id": "1fRg4CV3EaBnihAqddzIHeCaU4bmkgUi3",
     "timestamp": 1669913930106
    },
    {
     "file_id": "1AXH9JUz2PztvXr-hpN3EzKrUTEbGW2Si",
     "timestamp": 1669306790787
    }
   ]
  },
  "environment": {
   "kernel": "python3",
   "name": "common-cpu.m100",
   "type": "gcloud",
   "uri": "gcr.io/deeplearning-platform-release/base-cpu:m100"
  },
  "gpuClass": "standard",
  "kernelspec": {
   "display_name": "Python 3 (ipykernel)",
   "language": "python",
   "name": "python3"
  },
  "language_info": {
   "codemirror_mode": {
    "name": "ipython",
    "version": 3
   },
   "file_extension": ".py",
   "mimetype": "text/x-python",
   "name": "python",
   "nbconvert_exporter": "python",
   "pygments_lexer": "ipython3",
   "version": "3.9.7"
  }
 },
 "nbformat": 4,
 "nbformat_minor": 5
}
